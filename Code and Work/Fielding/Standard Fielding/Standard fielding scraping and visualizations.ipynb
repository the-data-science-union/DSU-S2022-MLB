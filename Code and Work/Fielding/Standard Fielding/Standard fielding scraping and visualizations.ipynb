{
 "cells": [
  {
   "cell_type": "code",
   "execution_count": 2,
   "id": "89c84f21",
   "metadata": {},
   "outputs": [],
   "source": [
    "import requests\n",
    "from bs4 import BeautifulSoup\n",
    "import numpy as np\n",
    "import pandas as pd"
   ]
  },
  {
   "cell_type": "code",
   "execution_count": 28,
   "id": "dad4efe2",
   "metadata": {},
   "outputs": [],
   "source": [
    "stdfield = pd.read_csv('Standard_Fielding_Table3.csv', float_precision = 'round_trip')"
   ]
  },
  {
   "cell_type": "code",
   "execution_count": 29,
   "id": "4b222d89",
   "metadata": {},
   "outputs": [
    {
     "data": {
      "text/html": [
       "<div>\n",
       "<style scoped>\n",
       "    .dataframe tbody tr th:only-of-type {\n",
       "        vertical-align: middle;\n",
       "    }\n",
       "\n",
       "    .dataframe tbody tr th {\n",
       "        vertical-align: top;\n",
       "    }\n",
       "\n",
       "    .dataframe thead th {\n",
       "        text-align: right;\n",
       "    }\n",
       "</style>\n",
       "<table border=\"1\" class=\"dataframe\">\n",
       "  <thead>\n",
       "    <tr style=\"text-align: right;\">\n",
       "      <th></th>\n",
       "      <th>Year</th>\n",
       "      <th>Tm</th>\n",
       "      <th>#Fld</th>\n",
       "      <th>RA/G</th>\n",
       "      <th>DefEff</th>\n",
       "      <th>G</th>\n",
       "      <th>GS</th>\n",
       "      <th>CG</th>\n",
       "      <th>Inn</th>\n",
       "      <th>Ch</th>\n",
       "      <th>...</th>\n",
       "      <th>A</th>\n",
       "      <th>E</th>\n",
       "      <th>DP</th>\n",
       "      <th>Fld%</th>\n",
       "      <th>Rtot</th>\n",
       "      <th>Rtot/yr</th>\n",
       "      <th>Rdrs</th>\n",
       "      <th>Rdrs/yr</th>\n",
       "      <th>Rgood</th>\n",
       "      <th>Playoff</th>\n",
       "    </tr>\n",
       "  </thead>\n",
       "  <tbody>\n",
       "    <tr>\n",
       "      <th>0</th>\n",
       "      <td>2000</td>\n",
       "      <td>Arizona Diamondbacks</td>\n",
       "      <td>64</td>\n",
       "      <td>5.51</td>\n",
       "      <td>0.685</td>\n",
       "      <td>162</td>\n",
       "      <td>1458</td>\n",
       "      <td>1030</td>\n",
       "      <td>12756.0</td>\n",
       "      <td>5726</td>\n",
       "      <td>...</td>\n",
       "      <td>1374</td>\n",
       "      <td>100</td>\n",
       "      <td>113</td>\n",
       "      <td>0.983</td>\n",
       "      <td>-16</td>\n",
       "      <td>-2</td>\n",
       "      <td>-37</td>\n",
       "      <td>0</td>\n",
       "      <td>-1</td>\n",
       "      <td>0</td>\n",
       "    </tr>\n",
       "    <tr>\n",
       "      <th>1</th>\n",
       "      <td>2000</td>\n",
       "      <td>Atlanta Braves</td>\n",
       "      <td>55</td>\n",
       "      <td>4.07</td>\n",
       "      <td>0.708</td>\n",
       "      <td>161</td>\n",
       "      <td>1449</td>\n",
       "      <td>1126</td>\n",
       "      <td>12696.0</td>\n",
       "      <td>5786</td>\n",
       "      <td>...</td>\n",
       "      <td>1483</td>\n",
       "      <td>71</td>\n",
       "      <td>104</td>\n",
       "      <td>0.988</td>\n",
       "      <td>56</td>\n",
       "      <td>5</td>\n",
       "      <td>50</td>\n",
       "      <td>1</td>\n",
       "      <td>5</td>\n",
       "      <td>1</td>\n",
       "    </tr>\n",
       "    <tr>\n",
       "      <th>2</th>\n",
       "      <td>2000</td>\n",
       "      <td>Baltimore Orioles</td>\n",
       "      <td>62</td>\n",
       "      <td>5.90</td>\n",
       "      <td>0.683</td>\n",
       "      <td>162</td>\n",
       "      <td>1458</td>\n",
       "      <td>1093</td>\n",
       "      <td>12618.0</td>\n",
       "      <td>5639</td>\n",
       "      <td>...</td>\n",
       "      <td>1359</td>\n",
       "      <td>74</td>\n",
       "      <td>101</td>\n",
       "      <td>0.987</td>\n",
       "      <td>-48</td>\n",
       "      <td>-5</td>\n",
       "      <td>-30</td>\n",
       "      <td>-1</td>\n",
       "      <td>-12</td>\n",
       "      <td>0</td>\n",
       "    </tr>\n",
       "    <tr>\n",
       "      <th>3</th>\n",
       "      <td>2000</td>\n",
       "      <td>Boston Red Sox</td>\n",
       "      <td>56</td>\n",
       "      <td>4.62</td>\n",
       "      <td>0.659</td>\n",
       "      <td>162</td>\n",
       "      <td>1458</td>\n",
       "      <td>1104</td>\n",
       "      <td>12771.0</td>\n",
       "      <td>5786</td>\n",
       "      <td>...</td>\n",
       "      <td>1421</td>\n",
       "      <td>108</td>\n",
       "      <td>143</td>\n",
       "      <td>0.981</td>\n",
       "      <td>-66</td>\n",
       "      <td>-6</td>\n",
       "      <td>4</td>\n",
       "      <td>-1</td>\n",
       "      <td>-1</td>\n",
       "      <td>0</td>\n",
       "    </tr>\n",
       "    <tr>\n",
       "      <th>4</th>\n",
       "      <td>2000</td>\n",
       "      <td>Chicago Cubs</td>\n",
       "      <td>68</td>\n",
       "      <td>5.18</td>\n",
       "      <td>0.691</td>\n",
       "      <td>162</td>\n",
       "      <td>1458</td>\n",
       "      <td>1039</td>\n",
       "      <td>12714.0</td>\n",
       "      <td>5879</td>\n",
       "      <td>...</td>\n",
       "      <td>1554</td>\n",
       "      <td>87</td>\n",
       "      <td>149</td>\n",
       "      <td>0.985</td>\n",
       "      <td>-25</td>\n",
       "      <td>-2</td>\n",
       "      <td>29</td>\n",
       "      <td>0</td>\n",
       "      <td>5</td>\n",
       "      <td>0</td>\n",
       "    </tr>\n",
       "  </tbody>\n",
       "</table>\n",
       "<p>5 rows × 21 columns</p>\n",
       "</div>"
      ],
      "text/plain": [
       "   Year                    Tm  #Fld  RA/G  DefEff    G    GS    CG      Inn  \\\n",
       "0  2000  Arizona Diamondbacks    64  5.51   0.685  162  1458  1030  12756.0   \n",
       "1  2000        Atlanta Braves    55  4.07   0.708  161  1449  1126  12696.0   \n",
       "2  2000     Baltimore Orioles    62  5.90   0.683  162  1458  1093  12618.0   \n",
       "3  2000        Boston Red Sox    56  4.62   0.659  162  1458  1104  12771.0   \n",
       "4  2000          Chicago Cubs    68  5.18   0.691  162  1458  1039  12714.0   \n",
       "\n",
       "     Ch  ...     A    E   DP   Fld%  Rtot  Rtot/yr  Rdrs  Rdrs/yr  Rgood  \\\n",
       "0  5726  ...  1374  100  113  0.983   -16       -2   -37        0     -1   \n",
       "1  5786  ...  1483   71  104  0.988    56        5    50        1      5   \n",
       "2  5639  ...  1359   74  101  0.987   -48       -5   -30       -1    -12   \n",
       "3  5786  ...  1421  108  143  0.981   -66       -6     4       -1     -1   \n",
       "4  5879  ...  1554   87  149  0.985   -25       -2    29        0      5   \n",
       "\n",
       "   Playoff  \n",
       "0        0  \n",
       "1        1  \n",
       "2        0  \n",
       "3        0  \n",
       "4        0  \n",
       "\n",
       "[5 rows x 21 columns]"
      ]
     },
     "execution_count": 29,
     "metadata": {},
     "output_type": "execute_result"
    }
   ],
   "source": [
    "stdfield.head()"
   ]
  },
  {
   "cell_type": "code",
   "execution_count": 30,
   "id": "c99f0943",
   "metadata": {},
   "outputs": [
    {
     "name": "stdout",
     "output_type": "stream",
     "text": [
      "<class 'pandas.core.frame.DataFrame'>\n",
      "RangeIndex: 660 entries, 0 to 659\n",
      "Data columns (total 21 columns):\n",
      " #   Column   Non-Null Count  Dtype  \n",
      "---  ------   --------------  -----  \n",
      " 0   Year     660 non-null    int64  \n",
      " 1   Tm       660 non-null    object \n",
      " 2   #Fld     660 non-null    int64  \n",
      " 3   RA/G     660 non-null    float64\n",
      " 4   DefEff   660 non-null    float64\n",
      " 5   G        660 non-null    int64  \n",
      " 6   GS       660 non-null    int64  \n",
      " 7   CG       660 non-null    int64  \n",
      " 8   Inn      660 non-null    float64\n",
      " 9   Ch       660 non-null    int64  \n",
      " 10  PO       660 non-null    int64  \n",
      " 11  A        660 non-null    int64  \n",
      " 12  E        660 non-null    int64  \n",
      " 13  DP       660 non-null    int64  \n",
      " 14  Fld%     660 non-null    float64\n",
      " 15  Rtot     660 non-null    int64  \n",
      " 16  Rtot/yr  660 non-null    int64  \n",
      " 17  Rdrs     660 non-null    int64  \n",
      " 18  Rdrs/yr  660 non-null    int64  \n",
      " 19  Rgood    660 non-null    int64  \n",
      " 20  Playoff  660 non-null    int64  \n",
      "dtypes: float64(4), int64(16), object(1)\n",
      "memory usage: 108.4+ KB\n"
     ]
    }
   ],
   "source": [
    "stdfield.info()\n",
    "#all rows filled, no problematic types?"
   ]
  },
  {
   "cell_type": "code",
   "execution_count": 33,
   "id": "0a224a82",
   "metadata": {},
   "outputs": [
    {
     "data": {
      "text/plain": [
       "0     No\n",
       "1    Yes\n",
       "2     No\n",
       "3     No\n",
       "4     No\n",
       "Name: Playoff, dtype: category\n",
       "Categories (2, object): ['No', 'Yes']"
      ]
     },
     "execution_count": 33,
     "metadata": {},
     "output_type": "execute_result"
    }
   ],
   "source": [
    "pd.Series.replace(stdfield.Playoff, to_replace = 0, value = 'No', inplace = True)\n",
    "pd.Series.replace(stdfield.Playoff, to_replace = 1, value = 'Yes', inplace = True)\n",
    "stdfield.Playoff = stdfield.Playoff.astype('category')\n",
    "stdfield.Playoff.head()"
   ]
  },
  {
   "cell_type": "code",
   "execution_count": 35,
   "id": "5b3ce924",
   "metadata": {},
   "outputs": [
    {
     "name": "stdout",
     "output_type": "stream",
     "text": [
      "(630, 21)\n"
     ]
    }
   ],
   "source": [
    "stdfield = stdfield.loc[stdfield.Year != 2020, ]\n",
    "print(stdfield.shape)"
   ]
  },
  {
   "cell_type": "code",
   "execution_count": 37,
   "id": "e5604fac",
   "metadata": {},
   "outputs": [],
   "source": [
    "import matplotlib.pyplot as plt\n",
    "import seaborn as sns"
   ]
  },
  {
   "cell_type": "code",
   "execution_count": 38,
   "id": "949711e6",
   "metadata": {},
   "outputs": [
    {
     "data": {
      "image/png": "[encoded data removed]",
      "text/plain": [
       "<Figure size 432x288 with 2 Axes>"
      ]
     },
     "metadata": {
      "needs_background": "light"
     },
     "output_type": "display_data"
    }
   ],
   "source": [
    "sns.heatmap(stdfield.corr());"
   ]
  },
  {
   "cell_type": "code",
   "execution_count": 46,
   "id": "4295e992",
   "metadata": {},
   "outputs": [
    {
     "data": {
      "text/plain": [
       "Text(0, 0.5, 'Defensive Chances')"
      ]
     },
     "execution_count": 46,
     "metadata": {},
     "output_type": "execute_result"
    },
    {
     "data": {
      "image/png": "[encoded data removed]",
      "text/plain": [
       "<Figure size 720x432 with 1 Axes>"
      ]
     },
     "metadata": {
      "needs_background": "light"
     },
     "output_type": "display_data"
    }
   ],
   "source": [
    "fig, ax = plt.subplots(figsize=(10,6))\n",
    "ax.scatter(stdfield.Inn, stdfield.Ch)\n",
    "ax.set_xlabel('Innings')\n",
    "ax.set_ylabel('Defensive Chances')"
   ]
  },
  {
   "cell_type": "code",
   "execution_count": 60,
   "id": "b3cff5a7",
   "metadata": {},
   "outputs": [
    {
     "data": {
      "image/png": "[encoded data removed]",
      "text/plain": [
       "<Figure size 432x288 with 1 Axes>"
      ]
     },
     "metadata": {
      "needs_background": "light"
     },
     "output_type": "display_data"
    }
   ],
   "source": [
    "ax = sns.violinplot(x=stdfield.A)\n",
    "ax.set_xlabel('Assists')"
   ]
  }
 ],
 "metadata": {
  "kernelspec": {
   "display_name": "Python 3",
   "language": "python",
   "name": "python3"
  },
  "language_info": {
   "codemirror_mode": {
    "name": "ipython",
    "version": 3
   },
   "file_extension": ".py",
   "mimetype": "text/x-python",
   "name": "python",
   "nbconvert_exporter": "python",
   "pygments_lexer": "ipython3",
   "version": "3.8.8"
  }
 },
 "nbformat": 4,
 "nbformat_minor": 5
}
