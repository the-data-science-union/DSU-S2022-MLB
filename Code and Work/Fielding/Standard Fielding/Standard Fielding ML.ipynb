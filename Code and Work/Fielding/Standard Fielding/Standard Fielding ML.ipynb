{
 "cells": [
  {
   "cell_type": "code",
   "execution_count": 234,
   "id": "72d0fc07",
   "metadata": {},
   "outputs": [],
   "source": [
    "import requests\n",
    "from bs4 import BeautifulSoup\n",
    "import numpy as np\n",
    "import pandas as pd"
   ]
  },
  {
   "cell_type": "code",
   "execution_count": 235,
   "id": "9d61c82b",
   "metadata": {},
   "outputs": [],
   "source": [
    "stdfield = pd.read_csv('Standard_Fielding_Table3.csv', float_precision = 'round_trip')"
   ]
  },
  {
   "cell_type": "code",
   "execution_count": 236,
   "id": "1a2c067b",
   "metadata": {
    "scrolled": true
   },
   "outputs": [
    {
     "data": {
      "text/plain": [
       "(630, 21)"
      ]
     },
     "execution_count": 236,
     "metadata": {},
     "output_type": "execute_result"
    }
   ],
   "source": [
    "STDfield = stdfield.loc[stdfield.Year != 2020, ]\n",
    "STDfield.shape"
   ]
  },
  {
   "cell_type": "code",
   "execution_count": 237,
   "id": "a1d1baa9",
   "metadata": {},
   "outputs": [
    {
     "data": {
      "text/plain": [
       "(630, 18)"
      ]
     },
     "execution_count": 237,
     "metadata": {},
     "output_type": "execute_result"
    }
   ],
   "source": [
    "STDfield = STDfield.drop(['Year', 'Tm', 'G'], axis = 1)\n",
    "STDfield.shape"
   ]
  },
  {
   "cell_type": "code",
   "execution_count": 238,
   "id": "cc2334ea",
   "metadata": {},
   "outputs": [],
   "source": [
    "from sklearn.ensemble import RandomForestRegressor\n",
    "from sklearn.model_selection import train_test_split\n",
    "from sklearn import metrics"
   ]
  },
  {
   "cell_type": "code",
   "execution_count": 239,
   "id": "0b526fe4",
   "metadata": {},
   "outputs": [],
   "source": [
    "x = STDfield.drop('Playoff', axis = 1)\n",
    "y = STDfield.Playoff\n",
    "xtrain, xtest, ytrain, ytest = train_test_split(x, y, test_size = 0.2)"
   ]
  },
  {
   "cell_type": "code",
   "execution_count": 240,
   "id": "ddb82c29",
   "metadata": {
    "scrolled": true
   },
   "outputs": [
    {
     "data": {
      "text/html": [
       "<div>\n",
       "<style scoped>\n",
       "    .dataframe tbody tr th:only-of-type {\n",
       "        vertical-align: middle;\n",
       "    }\n",
       "\n",
       "    .dataframe tbody tr th {\n",
       "        vertical-align: top;\n",
       "    }\n",
       "\n",
       "    .dataframe thead th {\n",
       "        text-align: right;\n",
       "    }\n",
       "</style>\n",
       "<table border=\"1\" class=\"dataframe\">\n",
       "  <thead>\n",
       "    <tr style=\"text-align: right;\">\n",
       "      <th></th>\n",
       "      <th>#Fld</th>\n",
       "      <th>RA/G</th>\n",
       "      <th>DefEff</th>\n",
       "      <th>GS</th>\n",
       "      <th>CG</th>\n",
       "      <th>Inn</th>\n",
       "      <th>Ch</th>\n",
       "      <th>PO</th>\n",
       "      <th>A</th>\n",
       "      <th>E</th>\n",
       "      <th>DP</th>\n",
       "      <th>Fld%</th>\n",
       "      <th>Rtot</th>\n",
       "      <th>Rtot/yr</th>\n",
       "      <th>Rdrs</th>\n",
       "      <th>Rdrs/yr</th>\n",
       "      <th>Rgood</th>\n",
       "    </tr>\n",
       "  </thead>\n",
       "  <tbody>\n",
       "    <tr>\n",
       "      <th>221</th>\n",
       "      <td>47</td>\n",
       "      <td>4.86</td>\n",
       "      <td>0.685</td>\n",
       "      <td>1458</td>\n",
       "      <td>1114</td>\n",
       "      <td>12756.0</td>\n",
       "      <td>5758</td>\n",
       "      <td>4252</td>\n",
       "      <td>1422</td>\n",
       "      <td>84</td>\n",
       "      <td>152</td>\n",
       "      <td>0.985</td>\n",
       "      <td>21</td>\n",
       "      <td>2</td>\n",
       "      <td>23</td>\n",
       "      <td>0</td>\n",
       "      <td>6</td>\n",
       "    </tr>\n",
       "    <tr>\n",
       "      <th>175</th>\n",
       "      <td>51</td>\n",
       "      <td>4.15</td>\n",
       "      <td>0.714</td>\n",
       "      <td>1458</td>\n",
       "      <td>1147</td>\n",
       "      <td>12753.0</td>\n",
       "      <td>5848</td>\n",
       "      <td>4251</td>\n",
       "      <td>1513</td>\n",
       "      <td>84</td>\n",
       "      <td>137</td>\n",
       "      <td>0.986</td>\n",
       "      <td>45</td>\n",
       "      <td>4</td>\n",
       "      <td>81</td>\n",
       "      <td>4</td>\n",
       "      <td>4</td>\n",
       "    </tr>\n",
       "    <tr>\n",
       "      <th>66</th>\n",
       "      <td>55</td>\n",
       "      <td>4.69</td>\n",
       "      <td>0.688</td>\n",
       "      <td>1458</td>\n",
       "      <td>1052</td>\n",
       "      <td>12909.0</td>\n",
       "      <td>5816</td>\n",
       "      <td>4303</td>\n",
       "      <td>1422</td>\n",
       "      <td>91</td>\n",
       "      <td>124</td>\n",
       "      <td>0.984</td>\n",
       "      <td>-28</td>\n",
       "      <td>-3</td>\n",
       "      <td>-32</td>\n",
       "      <td>0</td>\n",
       "      <td>7</td>\n",
       "    </tr>\n",
       "    <tr>\n",
       "      <th>313</th>\n",
       "      <td>61</td>\n",
       "      <td>3.46</td>\n",
       "      <td>0.723</td>\n",
       "      <td>1458</td>\n",
       "      <td>1021</td>\n",
       "      <td>13068.0</td>\n",
       "      <td>5748</td>\n",
       "      <td>4356</td>\n",
       "      <td>1303</td>\n",
       "      <td>89</td>\n",
       "      <td>94</td>\n",
       "      <td>0.985</td>\n",
       "      <td>29</td>\n",
       "      <td>3</td>\n",
       "      <td>36</td>\n",
       "      <td>0</td>\n",
       "      <td>-2</td>\n",
       "    </tr>\n",
       "    <tr>\n",
       "      <th>268</th>\n",
       "      <td>61</td>\n",
       "      <td>4.09</td>\n",
       "      <td>0.700</td>\n",
       "      <td>1458</td>\n",
       "      <td>1047</td>\n",
       "      <td>12648.0</td>\n",
       "      <td>5677</td>\n",
       "      <td>4216</td>\n",
       "      <td>1371</td>\n",
       "      <td>90</td>\n",
       "      <td>122</td>\n",
       "      <td>0.984</td>\n",
       "      <td>8</td>\n",
       "      <td>1</td>\n",
       "      <td>22</td>\n",
       "      <td>1</td>\n",
       "      <td>1</td>\n",
       "    </tr>\n",
       "  </tbody>\n",
       "</table>\n",
       "</div>"
      ],
      "text/plain": [
       "     #Fld  RA/G  DefEff    GS    CG      Inn    Ch    PO     A   E   DP  \\\n",
       "221    47  4.86   0.685  1458  1114  12756.0  5758  4252  1422  84  152   \n",
       "175    51  4.15   0.714  1458  1147  12753.0  5848  4251  1513  84  137   \n",
       "66     55  4.69   0.688  1458  1052  12909.0  5816  4303  1422  91  124   \n",
       "313    61  3.46   0.723  1458  1021  13068.0  5748  4356  1303  89   94   \n",
       "268    61  4.09   0.700  1458  1047  12648.0  5677  4216  1371  90  122   \n",
       "\n",
       "      Fld%  Rtot  Rtot/yr  Rdrs  Rdrs/yr  Rgood  \n",
       "221  0.985    21        2    23        0      6  \n",
       "175  0.986    45        4    81        4      4  \n",
       "66   0.984   -28       -3   -32        0      7  \n",
       "313  0.985    29        3    36        0     -2  \n",
       "268  0.984     8        1    22        1      1  "
      ]
     },
     "execution_count": 240,
     "metadata": {},
     "output_type": "execute_result"
    }
   ],
   "source": [
    "xtrain.head()"
   ]
  },
  {
   "cell_type": "code",
   "execution_count": 241,
   "id": "5f01cea4",
   "metadata": {},
   "outputs": [
    {
     "data": {
      "text/plain": [
       "221    0\n",
       "175    1\n",
       "66     0\n",
       "313    0\n",
       "268    0\n",
       "Name: Playoff, dtype: int64"
      ]
     },
     "execution_count": 241,
     "metadata": {},
     "output_type": "execute_result"
    }
   ],
   "source": [
    "ytrain.head()"
   ]
  },
  {
   "cell_type": "markdown",
   "id": "a7a2c326",
   "metadata": {},
   "source": [
    "## Setup for ML application"
   ]
  },
  {
   "cell_type": "code",
   "execution_count": 242,
   "id": "9b1c1228",
   "metadata": {},
   "outputs": [],
   "source": [
    "#import os\n",
    "#cwd = os.getcwd()\n",
    "#print(cwd)\n",
    "#files = os.listdir(cwd)\n",
    "#print(\"Files in %r: %s\" % (cwd, files))\n",
    "#for when python says its not in directory"
   ]
  },
  {
   "cell_type": "code",
   "execution_count": 276,
   "id": "60a0c851",
   "metadata": {
    "scrolled": true
   },
   "outputs": [
    {
     "data": {
      "text/html": [
       "<div>\n",
       "<style scoped>\n",
       "    .dataframe tbody tr th:only-of-type {\n",
       "        vertical-align: middle;\n",
       "    }\n",
       "\n",
       "    .dataframe tbody tr th {\n",
       "        vertical-align: top;\n",
       "    }\n",
       "\n",
       "    .dataframe thead th {\n",
       "        text-align: right;\n",
       "    }\n",
       "</style>\n",
       "<table border=\"1\" class=\"dataframe\">\n",
       "  <thead>\n",
       "    <tr style=\"text-align: right;\">\n",
       "      <th></th>\n",
       "      <th>Tm</th>\n",
       "      <th>#Fld</th>\n",
       "      <th>RA/G</th>\n",
       "      <th>DefEff</th>\n",
       "      <th>G</th>\n",
       "      <th>GS</th>\n",
       "      <th>CG</th>\n",
       "      <th>Inn</th>\n",
       "      <th>Ch</th>\n",
       "      <th>PO</th>\n",
       "      <th>A</th>\n",
       "      <th>E</th>\n",
       "      <th>DP</th>\n",
       "      <th>Fld%</th>\n",
       "      <th>Rtot</th>\n",
       "      <th>Rtot/yr</th>\n",
       "      <th>Rdrs</th>\n",
       "      <th>Rdrs/yr</th>\n",
       "      <th>Rgood</th>\n",
       "    </tr>\n",
       "  </thead>\n",
       "  <tbody>\n",
       "    <tr>\n",
       "      <th>0</th>\n",
       "      <td>Arizona Diamondbacks</td>\n",
       "      <td>51</td>\n",
       "      <td>4.49</td>\n",
       "      <td>0.702</td>\n",
       "      <td>113</td>\n",
       "      <td>1017</td>\n",
       "      <td>755</td>\n",
       "      <td>8967.0</td>\n",
       "      <td>4031</td>\n",
       "      <td>2989</td>\n",
       "      <td>974</td>\n",
       "      <td>68</td>\n",
       "      <td>96</td>\n",
       "      <td>0.983</td>\n",
       "      <td>12</td>\n",
       "      <td>2</td>\n",
       "      <td>23</td>\n",
       "      <td>-1</td>\n",
       "      <td>-3</td>\n",
       "    </tr>\n",
       "    <tr>\n",
       "      <th>1</th>\n",
       "      <td>Atlanta Braves</td>\n",
       "      <td>49</td>\n",
       "      <td>3.99</td>\n",
       "      <td>0.693</td>\n",
       "      <td>115</td>\n",
       "      <td>1035</td>\n",
       "      <td>852</td>\n",
       "      <td>9264.0</td>\n",
       "      <td>4136</td>\n",
       "      <td>3088</td>\n",
       "      <td>997</td>\n",
       "      <td>51</td>\n",
       "      <td>83</td>\n",
       "      <td>0.988</td>\n",
       "      <td>5</td>\n",
       "      <td>1</td>\n",
       "      <td>16</td>\n",
       "      <td>1</td>\n",
       "      <td>2</td>\n",
       "    </tr>\n",
       "    <tr>\n",
       "      <th>2</th>\n",
       "      <td>Baltimore Orioles</td>\n",
       "      <td>53</td>\n",
       "      <td>4.19</td>\n",
       "      <td>0.690</td>\n",
       "      <td>113</td>\n",
       "      <td>1017</td>\n",
       "      <td>793</td>\n",
       "      <td>8997.0</td>\n",
       "      <td>4114</td>\n",
       "      <td>2999</td>\n",
       "      <td>1047</td>\n",
       "      <td>68</td>\n",
       "      <td>99</td>\n",
       "      <td>0.983</td>\n",
       "      <td>-1</td>\n",
       "      <td>0</td>\n",
       "      <td>28</td>\n",
       "      <td>0</td>\n",
       "      <td>4</td>\n",
       "    </tr>\n",
       "    <tr>\n",
       "      <th>3</th>\n",
       "      <td>Boston Red Sox</td>\n",
       "      <td>46</td>\n",
       "      <td>4.77</td>\n",
       "      <td>0.687</td>\n",
       "      <td>115</td>\n",
       "      <td>1035</td>\n",
       "      <td>787</td>\n",
       "      <td>9243.0</td>\n",
       "      <td>4181</td>\n",
       "      <td>3081</td>\n",
       "      <td>1037</td>\n",
       "      <td>63</td>\n",
       "      <td>103</td>\n",
       "      <td>0.985</td>\n",
       "      <td>11</td>\n",
       "      <td>1</td>\n",
       "      <td>10</td>\n",
       "      <td>-2</td>\n",
       "      <td>-7</td>\n",
       "    </tr>\n",
       "    <tr>\n",
       "      <th>4</th>\n",
       "      <td>Chicago Cubs</td>\n",
       "      <td>53</td>\n",
       "      <td>4.77</td>\n",
       "      <td>0.687</td>\n",
       "      <td>112</td>\n",
       "      <td>1008</td>\n",
       "      <td>748</td>\n",
       "      <td>8994.0</td>\n",
       "      <td>4072</td>\n",
       "      <td>2998</td>\n",
       "      <td>1005</td>\n",
       "      <td>69</td>\n",
       "      <td>100</td>\n",
       "      <td>0.983</td>\n",
       "      <td>-15</td>\n",
       "      <td>-2</td>\n",
       "      <td>-10</td>\n",
       "      <td>-1</td>\n",
       "      <td>-2</td>\n",
       "    </tr>\n",
       "  </tbody>\n",
       "</table>\n",
       "</div>"
      ],
      "text/plain": [
       "                     Tm  #Fld  RA/G  DefEff    G    GS   CG     Inn    Ch  \\\n",
       "0  Arizona Diamondbacks    51  4.49   0.702  113  1017  755  8967.0  4031   \n",
       "1        Atlanta Braves    49  3.99   0.693  115  1035  852  9264.0  4136   \n",
       "2     Baltimore Orioles    53  4.19   0.690  113  1017  793  8997.0  4114   \n",
       "3        Boston Red Sox    46  4.77   0.687  115  1035  787  9243.0  4181   \n",
       "4          Chicago Cubs    53  4.77   0.687  112  1008  748  8994.0  4072   \n",
       "\n",
       "     PO     A   E   DP   Fld%  Rtot  Rtot/yr  Rdrs  Rdrs/yr  Rgood  \n",
       "0  2989   974  68   96  0.983    12        2    23       -1     -3  \n",
       "1  3088   997  51   83  0.988     5        1    16        1      2  \n",
       "2  2999  1047  68   99  0.983    -1        0    28        0      4  \n",
       "3  3081  1037  63  103  0.985    11        1    10       -2     -7  \n",
       "4  2998  1005  69  100  0.983   -15       -2   -10       -1     -2  "
      ]
     },
     "execution_count": 276,
     "metadata": {},
     "output_type": "execute_result"
    }
   ],
   "source": [
    "MLstd2 = pd.read_csv('8:14std2.txt')\n",
    "MLstd2.head()\n",
    "#MLstd.info()"
   ]
  },
  {
   "cell_type": "code",
   "execution_count": 277,
   "id": "7f9c753c",
   "metadata": {},
   "outputs": [
    {
     "data": {
      "text/html": [
       "<div>\n",
       "<style scoped>\n",
       "    .dataframe tbody tr th:only-of-type {\n",
       "        vertical-align: middle;\n",
       "    }\n",
       "\n",
       "    .dataframe tbody tr th {\n",
       "        vertical-align: top;\n",
       "    }\n",
       "\n",
       "    .dataframe thead th {\n",
       "        text-align: right;\n",
       "    }\n",
       "</style>\n",
       "<table border=\"1\" class=\"dataframe\">\n",
       "  <thead>\n",
       "    <tr style=\"text-align: right;\">\n",
       "      <th></th>\n",
       "      <th>Tm</th>\n",
       "      <th>#Fld</th>\n",
       "      <th>RA/G</th>\n",
       "      <th>DefEff</th>\n",
       "      <th>G</th>\n",
       "      <th>GS</th>\n",
       "      <th>CG</th>\n",
       "      <th>Inn</th>\n",
       "      <th>Ch</th>\n",
       "      <th>PO</th>\n",
       "      <th>A</th>\n",
       "      <th>E</th>\n",
       "      <th>DP</th>\n",
       "      <th>Fld%</th>\n",
       "      <th>Rtot</th>\n",
       "      <th>Rtot/yr</th>\n",
       "      <th>Rdrs</th>\n",
       "      <th>Rdrs/yr</th>\n",
       "      <th>Rgood</th>\n",
       "    </tr>\n",
       "  </thead>\n",
       "  <tbody>\n",
       "    <tr>\n",
       "      <th>0</th>\n",
       "      <td>Arizona Diamondbacks</td>\n",
       "      <td>51</td>\n",
       "      <td>6.436991</td>\n",
       "      <td>0.702</td>\n",
       "      <td>113</td>\n",
       "      <td>1458.0</td>\n",
       "      <td>1082.389381</td>\n",
       "      <td>12855.345133</td>\n",
       "      <td>5778.955752</td>\n",
       "      <td>4285.115044</td>\n",
       "      <td>1396.353982</td>\n",
       "      <td>97.486726</td>\n",
       "      <td>137.628319</td>\n",
       "      <td>0.983</td>\n",
       "      <td>17.203540</td>\n",
       "      <td>2</td>\n",
       "      <td>32.973451</td>\n",
       "      <td>-1</td>\n",
       "      <td>-4.300885</td>\n",
       "    </tr>\n",
       "    <tr>\n",
       "      <th>1</th>\n",
       "      <td>Atlanta Braves</td>\n",
       "      <td>49</td>\n",
       "      <td>5.620696</td>\n",
       "      <td>0.693</td>\n",
       "      <td>115</td>\n",
       "      <td>1458.0</td>\n",
       "      <td>1200.208696</td>\n",
       "      <td>13050.156522</td>\n",
       "      <td>5826.365217</td>\n",
       "      <td>4350.052174</td>\n",
       "      <td>1404.469565</td>\n",
       "      <td>71.843478</td>\n",
       "      <td>116.921739</td>\n",
       "      <td>0.988</td>\n",
       "      <td>7.043478</td>\n",
       "      <td>1</td>\n",
       "      <td>22.539130</td>\n",
       "      <td>1</td>\n",
       "      <td>2.817391</td>\n",
       "    </tr>\n",
       "    <tr>\n",
       "      <th>2</th>\n",
       "      <td>Baltimore Orioles</td>\n",
       "      <td>53</td>\n",
       "      <td>6.006903</td>\n",
       "      <td>0.690</td>\n",
       "      <td>113</td>\n",
       "      <td>1458.0</td>\n",
       "      <td>1136.867257</td>\n",
       "      <td>12898.353982</td>\n",
       "      <td>5897.946903</td>\n",
       "      <td>4299.451327</td>\n",
       "      <td>1501.008850</td>\n",
       "      <td>97.486726</td>\n",
       "      <td>141.929204</td>\n",
       "      <td>0.983</td>\n",
       "      <td>-1.433628</td>\n",
       "      <td>0</td>\n",
       "      <td>40.141593</td>\n",
       "      <td>0</td>\n",
       "      <td>5.734513</td>\n",
       "    </tr>\n",
       "    <tr>\n",
       "      <th>3</th>\n",
       "      <td>Boston Red Sox</td>\n",
       "      <td>46</td>\n",
       "      <td>6.719478</td>\n",
       "      <td>0.687</td>\n",
       "      <td>115</td>\n",
       "      <td>1458.0</td>\n",
       "      <td>1108.643478</td>\n",
       "      <td>13020.573913</td>\n",
       "      <td>5889.756522</td>\n",
       "      <td>4340.191304</td>\n",
       "      <td>1460.817391</td>\n",
       "      <td>88.747826</td>\n",
       "      <td>145.095652</td>\n",
       "      <td>0.985</td>\n",
       "      <td>15.495652</td>\n",
       "      <td>1</td>\n",
       "      <td>14.086957</td>\n",
       "      <td>-2</td>\n",
       "      <td>-9.860870</td>\n",
       "    </tr>\n",
       "    <tr>\n",
       "      <th>4</th>\n",
       "      <td>Chicago Cubs</td>\n",
       "      <td>53</td>\n",
       "      <td>6.899464</td>\n",
       "      <td>0.687</td>\n",
       "      <td>112</td>\n",
       "      <td>1458.0</td>\n",
       "      <td>1081.928571</td>\n",
       "      <td>13009.178571</td>\n",
       "      <td>5889.857143</td>\n",
       "      <td>4336.392857</td>\n",
       "      <td>1453.660714</td>\n",
       "      <td>99.803571</td>\n",
       "      <td>144.642857</td>\n",
       "      <td>0.983</td>\n",
       "      <td>-21.696429</td>\n",
       "      <td>-2</td>\n",
       "      <td>-14.464286</td>\n",
       "      <td>-1</td>\n",
       "      <td>-2.892857</td>\n",
       "    </tr>\n",
       "  </tbody>\n",
       "</table>\n",
       "</div>"
      ],
      "text/plain": [
       "                     Tm  #Fld      RA/G  DefEff    G      GS           CG  \\\n",
       "0  Arizona Diamondbacks    51  6.436991   0.702  113  1458.0  1082.389381   \n",
       "1        Atlanta Braves    49  5.620696   0.693  115  1458.0  1200.208696   \n",
       "2     Baltimore Orioles    53  6.006903   0.690  113  1458.0  1136.867257   \n",
       "3        Boston Red Sox    46  6.719478   0.687  115  1458.0  1108.643478   \n",
       "4          Chicago Cubs    53  6.899464   0.687  112  1458.0  1081.928571   \n",
       "\n",
       "            Inn           Ch           PO            A          E          DP  \\\n",
       "0  12855.345133  5778.955752  4285.115044  1396.353982  97.486726  137.628319   \n",
       "1  13050.156522  5826.365217  4350.052174  1404.469565  71.843478  116.921739   \n",
       "2  12898.353982  5897.946903  4299.451327  1501.008850  97.486726  141.929204   \n",
       "3  13020.573913  5889.756522  4340.191304  1460.817391  88.747826  145.095652   \n",
       "4  13009.178571  5889.857143  4336.392857  1453.660714  99.803571  144.642857   \n",
       "\n",
       "    Fld%       Rtot  Rtot/yr       Rdrs  Rdrs/yr     Rgood  \n",
       "0  0.983  17.203540        2  32.973451       -1 -4.300885  \n",
       "1  0.988   7.043478        1  22.539130        1  2.817391  \n",
       "2  0.983  -1.433628        0  40.141593        0  5.734513  \n",
       "3  0.985  15.495652        1  14.086957       -2 -9.860870  \n",
       "4  0.983 -21.696429       -2 -14.464286       -1 -2.892857  "
      ]
     },
     "execution_count": 277,
     "metadata": {},
     "output_type": "execute_result"
    }
   ],
   "source": [
    "# 2022 is not a full season!\n",
    "notfull = [col not in ['Tm', 'G', 'Fld%', 'Rtot/yr', 'Rdrs/yr', '#Fld', 'DefEff'] for col in MLstd2.columns]\n",
    "for col in MLstd2.columns[notfull]:\n",
    "    MLstd2[col] = MLstd2[col] * (162 / MLstd2.G)\n",
    "\n",
    "MLstd2.head()"
   ]
  },
  {
   "cell_type": "code",
   "execution_count": 278,
   "id": "6ab9e386",
   "metadata": {},
   "outputs": [
    {
     "name": "stdout",
     "output_type": "stream",
     "text": [
      "(30, 19)\n"
     ]
    }
   ],
   "source": [
    "print(MLstd2.shape)"
   ]
  },
  {
   "cell_type": "code",
   "execution_count": 279,
   "id": "3b1d7448",
   "metadata": {},
   "outputs": [],
   "source": [
    "MLstd3 = MLstd2.drop(['Tm', 'G'], axis = 1)"
   ]
  },
  {
   "cell_type": "code",
   "execution_count": 280,
   "id": "2a73e5b0",
   "metadata": {
    "scrolled": true
   },
   "outputs": [
    {
     "name": "stdout",
     "output_type": "stream",
     "text": [
      "(630, 18)\n",
      "(30, 17)\n"
     ]
    }
   ],
   "source": [
    "print(STDfield.shape)\n",
    "print(MLstd3.shape)"
   ]
  },
  {
   "cell_type": "markdown",
   "id": "9fe9ee47",
   "metadata": {},
   "source": [
    "## KNN"
   ]
  },
  {
   "cell_type": "code",
   "execution_count": 329,
   "id": "8f943a66",
   "metadata": {},
   "outputs": [
    {
     "data": {
      "text/plain": [
       "KNeighborsClassifier()"
      ]
     },
     "execution_count": 329,
     "metadata": {},
     "output_type": "execute_result"
    }
   ],
   "source": [
    "from sklearn.neighbors import KNeighborsClassifier\n",
    "x = STDfield.drop('Playoff', axis = 1)\n",
    "y = STDfield.Playoff\n",
    "xtrain, xtest, ytrain, ytest = train_test_split(x, y)  \n",
    "classifier = KNeighborsClassifier(n_neighbors = 5)\n",
    "classifier = KNeighborsClassifier()\n",
    "classifier.fit(xtrain, ytrain)"
   ]
  },
  {
   "cell_type": "code",
   "execution_count": 330,
   "id": "32adb875",
   "metadata": {},
   "outputs": [
    {
     "name": "stdout",
     "output_type": "stream",
     "text": [
      "0.7341772151898734\n"
     ]
    }
   ],
   "source": [
    "knnypred = classifier.predict(xtest)\n",
    "actual = ytest\n",
    "from sklearn.metrics import classification_report, confusion_matrix\n",
    "print(metrics.accuracy_score(knnypred, actual))"
   ]
  },
  {
   "cell_type": "code",
   "execution_count": 331,
   "id": "e815e517",
   "metadata": {},
   "outputs": [
    {
     "data": {
      "text/plain": [
       "array([0, 0, 0, 0, 0, 0, 0, 1, 1, 0, 0, 0, 0, 0, 0, 0, 1, 0, 0, 0, 0, 0,\n",
       "       0, 0, 0, 1, 0, 0, 0, 0])"
      ]
     },
     "execution_count": 331,
     "metadata": {},
     "output_type": "execute_result"
    }
   ],
   "source": [
    "KNML = classifier.predict(MLstd3)\n",
    "KNML"
   ]
  },
  {
   "cell_type": "code",
   "execution_count": 332,
   "id": "b404486a",
   "metadata": {
    "scrolled": true
   },
   "outputs": [],
   "source": [
    "KN_22stdfield = pd.DataFrame({'2022 Teams':MLstd2.Tm, 'Playoff Prediction':KNML})\n",
    "KNtms22 = KN_22stdfield.loc[KN_22stdfield['Playoff Prediction'] == 1, '2022 Teams']"
   ]
  },
  {
   "cell_type": "code",
   "execution_count": 333,
   "id": "5544f890",
   "metadata": {},
   "outputs": [
    {
     "data": {
      "text/plain": [
       "3"
      ]
     },
     "execution_count": 333,
     "metadata": {},
     "output_type": "execute_result"
    }
   ],
   "source": [
    "KNNtms22 = KNN_22stdfield.loc[KNN_22stdfield['Playoff Prediction'] == 1, '2022 Teams']\n",
    "len(KNNtms22)"
   ]
  },
  {
   "cell_type": "code",
   "execution_count": 334,
   "id": "4ca0c2bc",
   "metadata": {},
   "outputs": [
    {
     "data": {
      "text/plain": [
       "7     Cleveland Guardians\n",
       "10         Houston Astros\n",
       "16        Minnesota Twins\n",
       "Name: 2022 Teams, dtype: object"
      ]
     },
     "execution_count": 334,
     "metadata": {},
     "output_type": "execute_result"
    }
   ],
   "source": [
    "KNNtms22"
   ]
  },
  {
   "cell_type": "code",
   "execution_count": 335,
   "id": "5fbaf3ca",
   "metadata": {
    "scrolled": true
   },
   "outputs": [
    {
     "data": {
      "text/plain": [
       "Counter({'Colorado Rockies': 10,\n",
       "         'Los Angeles Dodgers': 11,\n",
       "         'Seattle Mariners': 4,\n",
       "         'St. Louis Cardinals': 14,\n",
       "         'Toronto Blue Jays': 4,\n",
       "         'Cincinnati Reds': 27,\n",
       "         'Minnesota Twins': 29,\n",
       "         'Cleveland Guardians': 12,\n",
       "         'New York Yankees': 20,\n",
       "         'Detroit Tigers': 4,\n",
       "         'Pittsburgh Pirates': 9,\n",
       "         'Texas Rangers': 15,\n",
       "         'Boston Red Sox': 17,\n",
       "         'Houston Astros': 21,\n",
       "         'Atlanta Braves': 11,\n",
       "         'Baltimore Orioles': 6,\n",
       "         'Los Angeles Angels': 3,\n",
       "         'Kansas City Royals': 1})"
      ]
     },
     "execution_count": 335,
     "metadata": {},
     "output_type": "execute_result"
    }
   ],
   "source": [
    "KN_playoff_teams = Counter()\n",
    "for iteration in range(50): \n",
    "    xtrain, xtest, ytrain, ytest = train_test_split(x, y)   \n",
    "    classifier = KNeighborsClassifier()\n",
    "    classifier.fit(xtrain, ytrain)\n",
    "    KNML = classifier.predict(MLstd3)\n",
    "    KN_22stdfield = pd.DataFrame({'2022 Teams':MLstd2.Tm, 'Playoff Prediction':KNML})\n",
    "    KNtms22 = KN_22stdfield.loc[KN_22stdfield['Playoff Prediction'] == 1, '2022 Teams']\n",
    "    KN_playoff_teams.update(list(KNtms22))\n",
    "\n",
    "KN_playoff_teams"
   ]
  },
  {
   "cell_type": "markdown",
   "id": "f5206164",
   "metadata": {},
   "source": [
    "K nearest neighbors assesses the distance between data points and assumes those that are closer together are similar. When applied to the playoffs, the model assumes that based on the data of those who did make the playoffs, the teams with similar stats would also make the playoffs. The model has an accuracy score of around 73%, which is fairly good. "
   ]
  },
  {
   "cell_type": "markdown",
   "id": "dae38c5c",
   "metadata": {},
   "source": [
    "## Gaussian Bayes"
   ]
  },
  {
   "cell_type": "code",
   "execution_count": 309,
   "id": "18f6be92",
   "metadata": {},
   "outputs": [],
   "source": [
    "from sklearn import preprocessing\n",
    "from sklearn.naive_bayes import CategoricalNB"
   ]
  },
  {
   "cell_type": "code",
   "execution_count": 336,
   "id": "f41c1ac2",
   "metadata": {},
   "outputs": [],
   "source": [
    "from sklearn.naive_bayes import GaussianNB\n",
    "nb = GaussianNB()\n",
    "x = STDfield.drop('Playoff', axis = 1)\n",
    "y = STDfield.Playoff\n",
    "xtrain, xtest, ytrain, ytest = train_test_split(x, y, test_size = 0.2)"
   ]
  },
  {
   "cell_type": "markdown",
   "id": "4c06a10d",
   "metadata": {},
   "source": [
    "fixing error for fit make things positive #not used for this code anymore but useful\n",
    "from sklearn.preprocessing import MinMaxScaler\n",
    "scaler = MinMaxScaler()\n",
    "xtrain = scaler.fit_transform(xtrain)\n",
    "xtest = scaler.transform(xtest)"
   ]
  },
  {
   "cell_type": "code",
   "execution_count": 337,
   "id": "bc23cc26",
   "metadata": {},
   "outputs": [
    {
     "data": {
      "text/plain": [
       "GaussianNB()"
      ]
     },
     "execution_count": 337,
     "metadata": {},
     "output_type": "execute_result"
    }
   ],
   "source": [
    "nb.fit(xtrain, ytrain)"
   ]
  },
  {
   "cell_type": "code",
   "execution_count": 339,
   "id": "0ee4a079",
   "metadata": {
    "scrolled": true
   },
   "outputs": [
    {
     "name": "stdout",
     "output_type": "stream",
     "text": [
      "0.6984126984126984\n"
     ]
    }
   ],
   "source": [
    "gauss = nb.predict(xtest)\n",
    "print(metrics.accuracy_score(gauss, ytest))"
   ]
  },
  {
   "cell_type": "code",
   "execution_count": 340,
   "id": "142ef234",
   "metadata": {
    "scrolled": true
   },
   "outputs": [
    {
     "data": {
      "text/html": [
       "<div>\n",
       "<style scoped>\n",
       "    .dataframe tbody tr th:only-of-type {\n",
       "        vertical-align: middle;\n",
       "    }\n",
       "\n",
       "    .dataframe tbody tr th {\n",
       "        vertical-align: top;\n",
       "    }\n",
       "\n",
       "    .dataframe thead th {\n",
       "        text-align: right;\n",
       "    }\n",
       "</style>\n",
       "<table border=\"1\" class=\"dataframe\">\n",
       "  <thead>\n",
       "    <tr style=\"text-align: right;\">\n",
       "      <th></th>\n",
       "      <th>2022 Teams</th>\n",
       "      <th>Playoff Prediction</th>\n",
       "    </tr>\n",
       "  </thead>\n",
       "  <tbody>\n",
       "    <tr>\n",
       "      <th>0</th>\n",
       "      <td>Arizona Diamondbacks</td>\n",
       "      <td>0</td>\n",
       "    </tr>\n",
       "    <tr>\n",
       "      <th>1</th>\n",
       "      <td>Atlanta Braves</td>\n",
       "      <td>0</td>\n",
       "    </tr>\n",
       "    <tr>\n",
       "      <th>2</th>\n",
       "      <td>Baltimore Orioles</td>\n",
       "      <td>0</td>\n",
       "    </tr>\n",
       "    <tr>\n",
       "      <th>3</th>\n",
       "      <td>Boston Red Sox</td>\n",
       "      <td>0</td>\n",
       "    </tr>\n",
       "    <tr>\n",
       "      <th>4</th>\n",
       "      <td>Chicago Cubs</td>\n",
       "      <td>0</td>\n",
       "    </tr>\n",
       "    <tr>\n",
       "      <th>5</th>\n",
       "      <td>Chicago White Sox</td>\n",
       "      <td>0</td>\n",
       "    </tr>\n",
       "    <tr>\n",
       "      <th>6</th>\n",
       "      <td>Cincinnati Reds</td>\n",
       "      <td>0</td>\n",
       "    </tr>\n",
       "    <tr>\n",
       "      <th>7</th>\n",
       "      <td>Cleveland Guardians</td>\n",
       "      <td>0</td>\n",
       "    </tr>\n",
       "    <tr>\n",
       "      <th>8</th>\n",
       "      <td>Colorado Rockies</td>\n",
       "      <td>0</td>\n",
       "    </tr>\n",
       "    <tr>\n",
       "      <th>9</th>\n",
       "      <td>Detroit Tigers</td>\n",
       "      <td>0</td>\n",
       "    </tr>\n",
       "    <tr>\n",
       "      <th>10</th>\n",
       "      <td>Houston Astros</td>\n",
       "      <td>1</td>\n",
       "    </tr>\n",
       "    <tr>\n",
       "      <th>11</th>\n",
       "      <td>Kansas City Royals</td>\n",
       "      <td>0</td>\n",
       "    </tr>\n",
       "    <tr>\n",
       "      <th>12</th>\n",
       "      <td>Los Angeles Angels</td>\n",
       "      <td>0</td>\n",
       "    </tr>\n",
       "    <tr>\n",
       "      <th>13</th>\n",
       "      <td>Los Angeles Dodgers</td>\n",
       "      <td>1</td>\n",
       "    </tr>\n",
       "    <tr>\n",
       "      <th>14</th>\n",
       "      <td>Miami Marlins</td>\n",
       "      <td>0</td>\n",
       "    </tr>\n",
       "    <tr>\n",
       "      <th>15</th>\n",
       "      <td>Milwaukee Brewers</td>\n",
       "      <td>0</td>\n",
       "    </tr>\n",
       "    <tr>\n",
       "      <th>16</th>\n",
       "      <td>Minnesota Twins</td>\n",
       "      <td>0</td>\n",
       "    </tr>\n",
       "    <tr>\n",
       "      <th>17</th>\n",
       "      <td>New York Mets</td>\n",
       "      <td>0</td>\n",
       "    </tr>\n",
       "    <tr>\n",
       "      <th>18</th>\n",
       "      <td>New York Yankees</td>\n",
       "      <td>1</td>\n",
       "    </tr>\n",
       "    <tr>\n",
       "      <th>19</th>\n",
       "      <td>Oakland Athletics</td>\n",
       "      <td>0</td>\n",
       "    </tr>\n",
       "  </tbody>\n",
       "</table>\n",
       "</div>"
      ],
      "text/plain": [
       "              2022 Teams  Playoff Prediction\n",
       "0   Arizona Diamondbacks                   0\n",
       "1         Atlanta Braves                   0\n",
       "2      Baltimore Orioles                   0\n",
       "3         Boston Red Sox                   0\n",
       "4           Chicago Cubs                   0\n",
       "5      Chicago White Sox                   0\n",
       "6        Cincinnati Reds                   0\n",
       "7    Cleveland Guardians                   0\n",
       "8       Colorado Rockies                   0\n",
       "9         Detroit Tigers                   0\n",
       "10        Houston Astros                   1\n",
       "11    Kansas City Royals                   0\n",
       "12    Los Angeles Angels                   0\n",
       "13   Los Angeles Dodgers                   1\n",
       "14         Miami Marlins                   0\n",
       "15     Milwaukee Brewers                   0\n",
       "16       Minnesota Twins                   0\n",
       "17         New York Mets                   0\n",
       "18      New York Yankees                   1\n",
       "19     Oakland Athletics                   0"
      ]
     },
     "execution_count": 340,
     "metadata": {},
     "output_type": "execute_result"
    }
   ],
   "source": [
    "gaussml = nb.predict(MLstd3)\n",
    "Gaussian_22stdfield = pd.DataFrame({'2022 Teams':MLstd2.Tm, 'Playoff Prediction':gaussml})\n",
    "Gaussian_22stdfield.head(20)"
   ]
  },
  {
   "cell_type": "code",
   "execution_count": 341,
   "id": "acbfc13d",
   "metadata": {},
   "outputs": [
    {
     "data": {
      "text/plain": [
       "10          Houston Astros\n",
       "13     Los Angeles Dodgers\n",
       "18        New York Yankees\n",
       "24    San Francisco Giants\n",
       "25     St. Louis Cardinals\n",
       "Name: 2022 Teams, dtype: object"
      ]
     },
     "execution_count": 341,
     "metadata": {},
     "output_type": "execute_result"
    }
   ],
   "source": [
    "Gausstms22 = Gaussian_22stdfield.loc[Gaussian_22stdfield['Playoff Prediction'] == 1, '2022 Teams']\n",
    "len(Gausstms22)\n",
    "Gausstms22"
   ]
  },
  {
   "cell_type": "code",
   "execution_count": 342,
   "id": "75e365f0",
   "metadata": {
    "scrolled": true
   },
   "outputs": [
    {
     "data": {
      "text/plain": [
       "Counter({'Houston Astros': 50,\n",
       "         'Los Angeles Dodgers': 50,\n",
       "         'New York Yankees': 50,\n",
       "         'St. Louis Cardinals': 35,\n",
       "         'San Francisco Giants': 24,\n",
       "         'Seattle Mariners': 10,\n",
       "         'Colorado Rockies': 1})"
      ]
     },
     "execution_count": 342,
     "metadata": {},
     "output_type": "execute_result"
    }
   ],
   "source": [
    "from collections import Counter\n",
    "Gauss_playoff_teams = Counter()\n",
    "for iteration in range(50): \n",
    "    xtrain, xtest, ytrain, ytest = train_test_split(x, y)   \n",
    "    nb = GaussianNB()\n",
    "    nb.fit(xtrain, ytrain)\n",
    "    gaussml = nb.predict(MLstd3)\n",
    "    Gaussian_22stdfield = pd.DataFrame({'2022 Teams':MLstd2.Tm, 'Playoff Prediction':gaussml})\n",
    "    Gausstms22 = Gaussian_22stdfield.loc[Gaussian_22stdfield['Playoff Prediction'] == 1, '2022 Teams']\n",
    "    Gauss_playoff_teams.update(list(Gausstms22))\n",
    "\n",
    "Gauss_playoff_teams"
   ]
  },
  {
   "cell_type": "markdown",
   "id": "eb7fb373",
   "metadata": {},
   "source": [
    "Gaussian distribution is a normal distribution. The model is trained to find out different classifications for the data, and the model assumes that the different classifications follow a normal distribution. It uses conditional probability for each of the categories that contribute to an event, so with the playoffs, it uses conditional probability on stats like Defensive Efficiency etc. to find the probability of the team making the playoff. "
   ]
  },
  {
   "cell_type": "markdown",
   "id": "5344bc0c",
   "metadata": {},
   "source": [
    "## Logistic Regression"
   ]
  },
  {
   "cell_type": "code",
   "execution_count": 355,
   "id": "9fb8232a",
   "metadata": {},
   "outputs": [],
   "source": [
    "from sklearn.linear_model import LogisticRegression\n",
    "log = LogisticRegression(max_iter = 42069)\n",
    "x = STDfield.drop('Playoff', axis = 1)\n",
    "y = STDfield.Playoff\n",
    "xtrain, xtest, ytrain, ytest = train_test_split(x, y)"
   ]
  },
  {
   "cell_type": "code",
   "execution_count": 356,
   "id": "37468b63",
   "metadata": {},
   "outputs": [
    {
     "name": "stdout",
     "output_type": "stream",
     "text": [
      "0.7151898734177216\n"
     ]
    }
   ],
   "source": [
    "log.fit(xtrain, ytrain)\n",
    "log2 = log.predict(xtest)\n",
    "print(metrics.accuracy_score(log2, ytest))"
   ]
  },
  {
   "cell_type": "code",
   "execution_count": 357,
   "id": "13903756",
   "metadata": {},
   "outputs": [],
   "source": [
    "logml = log.predict(MLstd3)\n",
    "log_22stdfield = pd.DataFrame({'2022 Teams':MLstd2.Tm, 'Playoff Prediction':logml})"
   ]
  },
  {
   "cell_type": "code",
   "execution_count": 359,
   "id": "ff66f10e",
   "metadata": {
    "scrolled": true
   },
   "outputs": [
    {
     "data": {
      "text/plain": [
       "9"
      ]
     },
     "execution_count": 359,
     "metadata": {},
     "output_type": "execute_result"
    }
   ],
   "source": [
    "logtms22 = log_22stdfield.loc[log_22stdfield['Playoff Prediction'] == 1, '2022 Teams']\n",
    "len(logtms22)"
   ]
  },
  {
   "cell_type": "code",
   "execution_count": 360,
   "id": "03ec2c6f",
   "metadata": {
    "scrolled": true
   },
   "outputs": [
    {
     "data": {
      "text/plain": [
       "Counter({'Atlanta Braves': 42,\n",
       "         'Chicago White Sox': 49,\n",
       "         'Milwaukee Brewers': 50,\n",
       "         'New York Yankees': 50,\n",
       "         'San Diego Padres': 16,\n",
       "         'San Francisco Giants': 44,\n",
       "         'Tampa Bay Rays': 34,\n",
       "         'Cleveland Guardians': 20,\n",
       "         'Colorado Rockies': 18,\n",
       "         'New York Mets': 4,\n",
       "         'Texas Rangers': 15,\n",
       "         'Washington Nationals': 10,\n",
       "         'Houston Astros': 1})"
      ]
     },
     "execution_count": 360,
     "metadata": {},
     "output_type": "execute_result"
    }
   ],
   "source": [
    "from collections import Counter\n",
    "log_playoff_teams = Counter()\n",
    "for iteration in range(50): \n",
    "    xtrain, xtest, ytrain, ytest = train_test_split(x, y)   \n",
    "    log = LogisticRegression(max_iter = 42069)\n",
    "    log.fit(xtrain, ytrain)\n",
    "    logml = log.predict(MLstd3)\n",
    "    log_22stdfield = pd.DataFrame({'2022 Teams':MLstd2.Tm, 'Playoff Prediction':logml})\n",
    "    logtms22 = log_22stdfield.loc[log_22stdfield['Playoff Prediction'] == 1, '2022 Teams']\n",
    "    log_playoff_teams.update(list(logtms22))\n",
    "\n",
    "log_playoff_teams"
   ]
  },
  {
   "cell_type": "markdown",
   "id": "84d1a0b5",
   "metadata": {},
   "source": [
    "Logistic Regression uses the input variables to predict a certain outcome. It uses the logit function, which is the log of probability divided by the opposing odds. Since it's a regression model, it finds the slope of the curve/line fitted to the data to look at the correlation between the team's stats and the probability of making it to the playoff. "
   ]
  },
  {
   "cell_type": "markdown",
   "id": "06226820",
   "metadata": {},
   "source": [
    "## accuracy scores"
   ]
  },
  {
   "cell_type": "markdown",
   "id": "3ccd6c9d",
   "metadata": {},
   "source": [
    "## logistic regression"
   ]
  },
  {
   "cell_type": "code",
   "execution_count": 361,
   "id": "32c0383b",
   "metadata": {},
   "outputs": [],
   "source": [
    "from IPython.display import clear_output"
   ]
  },
  {
   "cell_type": "code",
   "execution_count": 366,
   "id": "c61f8c6f",
   "metadata": {},
   "outputs": [
    {
     "name": "stdout",
     "output_type": "stream",
     "text": [
      "Started iteration 40\n"
     ]
    }
   ],
   "source": [
    "log_accuracy_scores = []\n",
    "log_playoff_team_counter = Counter()\n",
    "log_model = LogisticRegression(max_iter = 42069)\n",
    "log_iterations = 50 \n",
    "\n",
    "for iteration in range(log_iterations):\n",
    "    if iteration % 10 == 0:\n",
    "        clear_output(wait = True)\n",
    "        print(f'Started iteration {iteration}')\n",
    "        \n",
    "    xtrain, xtest, ytrain, ytest = train_test_split(x, y)\n",
    "    log_model.fit(xtrain, ytrain)\n",
    "    \n",
    "    logcheck = log_model.predict(xtest)\n",
    "    log_accuracy_scores.append(metrics.accuracy_score(logcheck, ytest))\n",
    "    \n",
    "    log_2022 = log_model.predict(MLstd3)\n",
    "    log_playoff_teams_2022 = MLstd2.Tm[log_2022 == 1]\n",
    "    log_playoff_team_counter.update(list(log_playoff_teams_2022))\n"
   ]
  },
  {
   "cell_type": "code",
   "execution_count": 367,
   "id": "03d345ad",
   "metadata": {},
   "outputs": [
    {
     "data": {
      "text/plain": [
       "count    50.000000\n",
       "mean      0.698734\n",
       "std       0.030635\n",
       "min       0.645570\n",
       "25%       0.677215\n",
       "50%       0.696203\n",
       "75%       0.715190\n",
       "max       0.791139\n",
       "dtype: float64"
      ]
     },
     "execution_count": 367,
     "metadata": {},
     "output_type": "execute_result"
    }
   ],
   "source": [
    "log_accuracy_scores = pd.Series(log_accuracy_scores)\n",
    "log_accuracy_scores.describe()"
   ]
  },
  {
   "cell_type": "code",
   "execution_count": 368,
   "id": "cc1a8fe9",
   "metadata": {},
   "outputs": [
    {
     "data": {
      "text/plain": [
       "Milwaukee Brewers       1.00\n",
       "New York Yankees        1.00\n",
       "Chicago White Sox       0.96\n",
       "San Francisco Giants    0.86\n",
       "Atlanta Braves          0.84\n",
       "Tampa Bay Rays          0.66\n",
       "Texas Rangers           0.54\n",
       "Colorado Rockies        0.34\n",
       "Cleveland Guardians     0.32\n",
       "San Diego Padres        0.20\n",
       "Washington Nationals    0.18\n",
       "Houston Astros          0.06\n",
       "Baltimore Orioles       0.02\n",
       "dtype: float64"
      ]
     },
     "execution_count": 368,
     "metadata": {},
     "output_type": "execute_result"
    }
   ],
   "source": [
    "Log_predictions = pd.Series([count / log_iterations for count in log_playoff_team_counter.values()], \n",
    "                           index = log_playoff_team_counter.keys()\n",
    "                          ).sort_values(ascending = False)\n",
    "Log_predictions "
   ]
  },
  {
   "cell_type": "code",
   "execution_count": 369,
   "id": "d797953b",
   "metadata": {
    "scrolled": true
   },
   "outputs": [
    {
     "data": {
      "text/plain": [
       "13"
      ]
     },
     "execution_count": 369,
     "metadata": {},
     "output_type": "execute_result"
    }
   ],
   "source": [
    "len(Log_predictions)"
   ]
  },
  {
   "cell_type": "markdown",
   "id": "84d08ce3",
   "metadata": {},
   "source": [
    "## Gaussian Bayes"
   ]
  },
  {
   "cell_type": "code",
   "execution_count": 390,
   "id": "9df7c6a6",
   "metadata": {},
   "outputs": [
    {
     "name": "stdout",
     "output_type": "stream",
     "text": [
      "Started iteration 4990\n"
     ]
    }
   ],
   "source": [
    "gauss_accuracy_scores = []\n",
    "gauss_playoff_team_counter = Counter()\n",
    "gauss_model = GaussianNB()\n",
    "gauss_iterations = 5000 \n",
    "\n",
    "for iteration in range(gauss_iterations):\n",
    "    if iteration % 10 == 0:\n",
    "        clear_output(wait = True)\n",
    "        print(f'Started iteration {iteration}')\n",
    "        \n",
    "    xtrain, xtest, ytrain, ytest = train_test_split(x, y)\n",
    "    gauss_model.fit(xtrain, ytrain)\n",
    "    \n",
    "    gausscheck = gauss_model.predict(xtest)\n",
    "    gauss_accuracy_scores.append(metrics.accuracy_score(gausscheck, ytest))\n",
    "    \n",
    "    gauss_2022 = gauss_model.predict(MLstd3)\n",
    "    gauss_playoff_teams_2022 = MLstd2.Tm[gauss_2022 == 1]\n",
    "    gauss_playoff_team_counter.update(list(gauss_playoff_teams_2022))"
   ]
  },
  {
   "cell_type": "code",
   "execution_count": 391,
   "id": "e16ffc69",
   "metadata": {},
   "outputs": [
    {
     "data": {
      "text/plain": [
       "count    5000.000000\n",
       "mean        0.658303\n",
       "std         0.035810\n",
       "min         0.550633\n",
       "25%         0.632911\n",
       "50%         0.658228\n",
       "75%         0.683544\n",
       "max         0.797468\n",
       "dtype: float64"
      ]
     },
     "execution_count": 391,
     "metadata": {},
     "output_type": "execute_result"
    }
   ],
   "source": [
    "gauss_accuracy_scores = pd.Series(gauss_accuracy_scores)\n",
    "gauss_accuracy_scores.describe()"
   ]
  },
  {
   "cell_type": "code",
   "execution_count": 386,
   "id": "1557b33c",
   "metadata": {
    "scrolled": true
   },
   "outputs": [
    {
     "data": {
      "text/plain": [
       "Houston Astros          0.0100\n",
       "Los Angeles Dodgers     0.0100\n",
       "New York Yankees        0.0100\n",
       "St. Louis Cardinals     0.0078\n",
       "San Francisco Giants    0.0058\n",
       "Seattle Mariners        0.0022\n",
       "dtype: float64"
      ]
     },
     "execution_count": 386,
     "metadata": {},
     "output_type": "execute_result"
    }
   ],
   "source": [
    "gauss_predictions = pd.Series([count / gauss_iterations for count in gauss_playoff_team_counter.values()], \n",
    "                           index = gauss_playoff_team_counter.keys()\n",
    "                          ).sort_values(ascending = False)\n",
    "gauss_predictions "
   ]
  },
  {
   "cell_type": "markdown",
   "id": "9b6dd14a",
   "metadata": {},
   "source": [
    "## KNN "
   ]
  },
  {
   "cell_type": "code",
   "execution_count": 388,
   "id": "60c9d52d",
   "metadata": {},
   "outputs": [
    {
     "name": "stdout",
     "output_type": "stream",
     "text": [
      "Started iteration 4990\n"
     ]
    }
   ],
   "source": [
    "KNN_accuracy_scores = []\n",
    "KNN_playoff_team_counter = Counter()\n",
    "KNN_model = KNeighborsClassifier()\n",
    "KNN_iterations = 5000 \n",
    "\n",
    "for iteration in range(KNN_iterations):\n",
    "    if iteration % 10 == 0:\n",
    "        clear_output(wait = True)\n",
    "        print(f'Started iteration {iteration}')\n",
    "        \n",
    "    xtrain, xtest, ytrain, ytest = train_test_split(x, y)\n",
    "    KNN_model.fit(xtrain, ytrain)\n",
    "    \n",
    "    KNNcheck = KNN_model.predict(xtest)\n",
    "    KNN_accuracy_scores.append(metrics.accuracy_score(KNNcheck, ytest))\n",
    "    \n",
    "    KNN_2022 = KNN_model.predict(MLstd3)\n",
    "    KNN_playoff_teams_2022 = MLstd2.Tm[KNN_2022 == 1]\n",
    "    KNN_playoff_team_counter.update(list(KNN_playoff_teams_2022))\n"
   ]
  },
  {
   "cell_type": "code",
   "execution_count": 393,
   "id": "901e22f4",
   "metadata": {},
   "outputs": [
    {
     "data": {
      "text/plain": [
       "count    5000.000000\n",
       "mean        0.713376\n",
       "std         0.036786\n",
       "min         0.556962\n",
       "25%         0.689873\n",
       "50%         0.715190\n",
       "75%         0.740506\n",
       "max         0.829114\n",
       "dtype: float64"
      ]
     },
     "execution_count": 393,
     "metadata": {},
     "output_type": "execute_result"
    }
   ],
   "source": [
    "KNN_accuracy_scores = pd.Series(KNN_accuracy_scores)\n",
    "KNN_accuracy_scores.describe()"
   ]
  },
  {
   "cell_type": "code",
   "execution_count": 394,
   "id": "ae106ba5",
   "metadata": {},
   "outputs": [
    {
     "data": {
      "text/plain": [
       "Cincinnati Reds          0.4644\n",
       "Houston Astros           0.4482\n",
       "Minnesota Twins          0.4482\n",
       "Cleveland Guardians      0.2622\n",
       "Texas Rangers            0.2618\n",
       "Boston Red Sox           0.2602\n",
       "Atlanta Braves           0.2554\n",
       "New York Yankees         0.2488\n",
       "Los Angeles Dodgers      0.2482\n",
       "St. Louis Cardinals      0.1806\n",
       "Pittsburgh Pirates       0.1780\n",
       "Colorado Rockies         0.1750\n",
       "Detroit Tigers           0.1168\n",
       "Baltimore Orioles        0.0668\n",
       "Los Angeles Angels       0.0664\n",
       "Kansas City Royals       0.0654\n",
       "Toronto Blue Jays        0.0584\n",
       "Seattle Mariners         0.0542\n",
       "Chicago Cubs             0.0086\n",
       "San Diego Padres         0.0070\n",
       "San Francisco Giants     0.0066\n",
       "Miami Marlins            0.0064\n",
       "Philadelphia Phillies    0.0056\n",
       "dtype: float64"
      ]
     },
     "execution_count": 394,
     "metadata": {},
     "output_type": "execute_result"
    }
   ],
   "source": [
    "KNN_predictions = pd.Series([count / KNN_iterations for count in KNN_playoff_team_counter.values()], \n",
    "                           index = KNN_playoff_team_counter.keys()\n",
    "                          ).sort_values(ascending = False)\n",
    "KNN_predictions "
   ]
  },
  {
   "cell_type": "markdown",
   "id": "89878641",
   "metadata": {},
   "source": [
    "## ML Visualizations: Accuracy scores"
   ]
  },
  {
   "cell_type": "code",
   "execution_count": 378,
   "id": "685e21b2",
   "metadata": {},
   "outputs": [],
   "source": [
    "import matplotlib.pyplot as plt"
   ]
  },
  {
   "cell_type": "code",
   "execution_count": 374,
   "id": "c53cf3fb",
   "metadata": {},
   "outputs": [],
   "source": [
    "team_name_abbrevs = {'Arizona Diamondbacks':'ARI', 'Atlanta Braves':'ATL', 'Baltimore Orioles':'BAL',\n",
    "               'Boston Red Sox':'BOS', 'Chicago Cubs':'CHC', 'Chicago White Sox':'CHW',\n",
    "               'Cincinnati Reds':'CIN', 'Cleveland Guardians':'CLE', 'Colorado Rockies':'COL',\n",
    "               'Detroit Tigers':'DET', 'Miami Marlins':'MIA', 'Houston Astros':'HOU', \n",
    "               'Kansas City Royals':'KC', 'Los Angeles Angels':'LAA', 'Los Angeles Dodgers':'LAD',\n",
    "               'Milwaukee Brewers':'MIL', 'Minnesota Twins':'MIN', 'New York Mets':'NYM', \n",
    "               'New York Yankees':'NYY', 'Oakland Athletics':'OAK', 'Philadelphia Phillies':'PHI',\n",
    "               'Pittsburgh Pirates':'PIT', 'San Diego Padres':'SD', 'San Francisco Giants':'SF',\n",
    "               'Seattle Mariners':'SEA', 'St. Louis Cardinals':'STL', 'Tampa Bay Rays':'TB',\n",
    "               'Texas Rangers':'TEX', 'Toronto Blue Jays':'TOR', 'Washington Nationals':'WSH'}"
   ]
  },
  {
   "cell_type": "code",
   "execution_count": 401,
   "id": "da6bf9ce",
   "metadata": {},
   "outputs": [],
   "source": [
    "kwargs_hist = dict(edgecolor = 'k', color = 'palevioletred')\n",
    "kwargs_kde = dict(kind = 'kde', color = 'turquoise')\n",
    "kwargs_bar = dict(edgecolor = 'k', color = 'thistle')"
   ]
  },
  {
   "cell_type": "code",
   "execution_count": 381,
   "id": "99ef35af",
   "metadata": {
    "scrolled": false
   },
   "outputs": [
    {
     "data": {
      "image/png": "[encoded data removed]",
      "text/plain": [
       "<Figure size 720x432 with 1 Axes>"
      ]
     },
     "metadata": {
      "needs_background": "light"
     },
     "output_type": "display_data"
    }
   ],
   "source": [
    "plt.figure(figsize = (10, 6))\n",
    "plt.hist(log_accuracy_scores, density = True, **kwargs_hist) \n",
    "log_accuracy_scores.plot(**kwargs_kde) \n",
    "plt.title(f'Logisticb Regression Accuracy Scores from {log_iterations} Iterations')\n",
    "plt.xlabel('Accuracy Scores')\n",
    "plt.show()"
   ]
  },
  {
   "cell_type": "code",
   "execution_count": 415,
   "id": "3ee7e4be",
   "metadata": {},
   "outputs": [],
   "source": [
    "kwargs_hist2 = dict(edgecolor = 'k', color = 'mediumseagreen')\n",
    "kwargs_kde2 = dict(kind = 'kde', color = 'darkviolet')\n",
    "kwargs_bar2 = dict(edgecolor = 'k', color = 'teal')"
   ]
  },
  {
   "cell_type": "code",
   "execution_count": 402,
   "id": "c8bb4d35",
   "metadata": {},
   "outputs": [
    {
     "data": {
      "image/png": "[encoded data removed]",
      "text/plain": [
       "<Figure size 720x432 with 1 Axes>"
      ]
     },
     "metadata": {
      "needs_background": "light"
     },
     "output_type": "display_data"
    }
   ],
   "source": [
    "plt.figure(figsize = (10, 6))\n",
    "plt.hist(gauss_accuracy_scores, density = True, **kwargs_hist2) \n",
    "gauss_accuracy_scores.plot(**kwargs_kde2) \n",
    "plt.title(f'Gaussian Bayes Accuracy Scores from {gauss_iterations} Iterations')\n",
    "plt.xlabel('Accuracy Scores')\n",
    "plt.show()"
   ]
  },
  {
   "cell_type": "code",
   "execution_count": 416,
   "id": "0f2a6b41",
   "metadata": {},
   "outputs": [],
   "source": [
    "kwargs_hist3 = dict(edgecolor = 'k', color = 'burlywood')\n",
    "kwargs_kde3 = dict(kind = 'kde', color = 'maroon')\n",
    "kwargs_bar3 = dict(edgecolor = 'k', color = 'pink')"
   ]
  },
  {
   "cell_type": "code",
   "execution_count": 409,
   "id": "1af73380",
   "metadata": {
    "scrolled": true
   },
   "outputs": [
    {
     "data": {
      "image/png": "[encoded data removed]",
      "text/plain": [
       "<Figure size 720x432 with 1 Axes>"
      ]
     },
     "metadata": {
      "needs_background": "light"
     },
     "output_type": "display_data"
    }
   ],
   "source": [
    "plt.figure(figsize = (10, 6))\n",
    "plt.hist(KNN_accuracy_scores, density = True, **kwargs_hist3) \n",
    "KNN_accuracy_scores.plot(**kwargs_kde3) \n",
    "plt.title(f'K-Nearest Neighbors Accuracy Scores from {KNN_iterations} Iterations')\n",
    "plt.xlabel('Accuracy Scores')\n",
    "plt.show()"
   ]
  },
  {
   "cell_type": "markdown",
   "id": "eb44e60f",
   "metadata": {},
   "source": [
    "## ML Visualizations: Proportions??"
   ]
  },
  {
   "cell_type": "code",
   "execution_count": 414,
   "id": "eef379ef",
   "metadata": {},
   "outputs": [
    {
     "data": {
      "image/png": "[encoded data removed]",
      "text/plain": [
       "<Figure size 864x576 with 1 Axes>"
      ]
     },
     "metadata": {
      "needs_background": "light"
     },
     "output_type": "display_data"
    }
   ],
   "source": [
    "plt.figure(figsize = (12, 8))\n",
    "plt.bar(range(len(Log_predictions)), Log_predictions, **kwargs_bar)\n",
    "plt.title(f'Proportion of Iterations Logistic Regression Predicted Playoff Yes from {log_iterations} Iterations')\n",
    "plt.xlabel('Accuracy Scores')\n",
    "plt.ylabel('Proportion of Iterations With Playoff Yes')\n",
    "plt.xticks(range(len(Log_predictions)), Log_predictions.index.map(team_name_abbrevs)) \n",
    "plt.yticks(np.arange(0, 1.1, step = 0.1)) \n",
    "plt.show()"
   ]
  },
  {
   "cell_type": "code",
   "execution_count": 419,
   "id": "96c6070a",
   "metadata": {
    "scrolled": true
   },
   "outputs": [
    {
     "data": {
      "image/png": "[encoded data removed]",
      "text/plain": [
       "<Figure size 864x576 with 1 Axes>"
      ]
     },
     "metadata": {
      "needs_background": "light"
     },
     "output_type": "display_data"
    }
   ],
   "source": [
    "plt.figure(figsize = (12, 8))\n",
    "plt.bar(range(len(gauss_predictions)), gauss_predictions, **kwargs_bar2)\n",
    "plt.title(f'Proportion of Iterations Gaussian Bayes Predicted Playoff Yes from {gauss_iterations} Iterations')\n",
    "plt.xlabel('Accuracy Scores')\n",
    "plt.ylabel('Proportion of Iterations With Playoff Yes')\n",
    "plt.xticks(range(len(gauss_predictions)), gauss_predictions.index.map(team_name_abbrevs)) \n",
    "plt.yticks(np.arange(0, 1.1, step = 0.1)) \n",
    "plt.show()"
   ]
  },
  {
   "cell_type": "code",
   "execution_count": 420,
   "id": "a3434cbe",
   "metadata": {},
   "outputs": [
    {
     "data": {
      "image/png": "[encoded data removed]",
      "text/plain": [
       "<Figure size 864x576 with 1 Axes>"
      ]
     },
     "metadata": {
      "needs_background": "light"
     },
     "output_type": "display_data"
    }
   ],
   "source": [
    "plt.figure(figsize = (12, 8))\n",
    "plt.bar(range(len(KNN_predictions)), KNN_predictions, **kwargs_bar3)\n",
    "plt.title(f'Proportion of Iterations K-Nearest Neighbor Predicted Playoff Yes from {KNN_iterations} Iterations')\n",
    "plt.xlabel('Accuracy Scores')\n",
    "plt.ylabel('Proportion of Iterations With Playoff Yes')\n",
    "plt.xticks(range(len(KNN_predictions)), KNN_predictions.index.map(team_name_abbrevs)) \n",
    "plt.yticks(np.arange(0, 1.1, step = 0.1)) \n",
    "plt.show()"
   ]
  }
 ],
 "metadata": {
  "kernelspec": {
   "display_name": "Python 3",
   "language": "python",
   "name": "python3"
  },
  "language_info": {
   "codemirror_mode": {
    "name": "ipython",
    "version": 3
   },
   "file_extension": ".py",
   "mimetype": "text/x-python",
   "name": "python",
   "nbconvert_exporter": "python",
   "pygments_lexer": "ipython3",
   "version": "3.8.8"
  }
 },
 "nbformat": 4,
 "nbformat_minor": 5
}
