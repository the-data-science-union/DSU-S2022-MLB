{
  "nbformat": 4,
  "nbformat_minor": 0,
  "metadata": {
    "colab": {
      "name": "starting_pitching_ML.ipynb",
      "provenance": [],
      "collapsed_sections": []
    },
    "kernelspec": {
      "name": "python3",
      "display_name": "Python 3"
    },
    "language_info": {
      "name": "python"
    }
  },
  "cells": [
    {
      "cell_type": "code",
      "execution_count": 1,
      "metadata": {
        "id": "LLasV1QE88g0"
      },
      "outputs": [],
      "source": [
        "import pandas as pd\n",
        "import numpy as np\n",
        "import io\n",
        "from google.colab import files\n",
        "from sklearn.model_selection import train_test_split\n",
        "from sklearn.linear_model import LogisticRegression\n",
        "from sklearn import metrics, tree\n",
        "from sklearn.neighbors import KNeighborsClassifier\n",
        "from sklearn.preprocessing import StandardScaler\n",
        "from collections import Counter\n",
        "from sklearn.model_selection import cross_val_score"
      ]
    },
    {
      "cell_type": "code",
      "source": [
        " uploaded = files.upload()"
      ],
      "metadata": {
        "colab": {
          "resources": {
            "http://localhost:8080/nbextensions/google.colab/files.js": {
              "data": "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",
              "ok": true,
              "headers": [
                [
                  "content-type",
                  "application/javascript"
                ]
              ],
              "status": 200,
              "status_text": ""
            }
          },
          "base_uri": "https://localhost:8080/",
          "height": 73
        },
        "id": "_M-AbkMR93O3",
        "outputId": "ef7644e1-b62f-4a2b-f114-e96f8651aa73"
      },
      "execution_count": 2,
      "outputs": [
        {
          "output_type": "display_data",
          "data": {
            "text/plain": [
              "<IPython.core.display.HTML object>"
            ],
            "text/html": [
              "\n",
              "     <input type=\"file\" id=\"files-d11eceba-812f-4313-8fa3-0fca49cc7847\" name=\"files[]\" multiple disabled\n",
              "        style=\"border:none\" />\n",
              "     <output id=\"result-d11eceba-812f-4313-8fa3-0fca49cc7847\">\n",
              "      Upload widget is only available when the cell has been executed in the\n",
              "      current browser session. Please rerun this cell to enable.\n",
              "      </output>\n",
              "      <script src=\"/nbextensions/google.colab/files.js\"></script> "
            ]
          },
          "metadata": {}
        },
        {
          "output_type": "stream",
          "name": "stdout",
          "text": [
            "Saving starting_pitching.csv to starting_pitching.csv\n"
          ]
        }
      ]
    },
    {
      "cell_type": "code",
      "source": [
        "starting = pd.read_csv(\"starting_pitching.csv\")"
      ],
      "metadata": {
        "id": "BrZAgh1H96e-"
      },
      "execution_count": 3,
      "outputs": []
    },
    {
      "cell_type": "code",
      "source": [
        "# get rid of all data from the year 2020 \n",
        "starting = starting.loc[starting.Year != 2020, ]"
      ],
      "metadata": {
        "id": "KxIfvfvY-QeF"
      },
      "execution_count": 5,
      "outputs": []
    },
    {
      "cell_type": "code",
      "source": [
        "ml_starting = starting.drop(['Year', 'Tm', 'G'], axis = 1)\n",
        "ml_starting.head()"
      ],
      "metadata": {
        "colab": {
          "base_uri": "https://localhost:8080/",
          "height": 236
        },
        "id": "ue48fqzS-ai9",
        "outputId": "1c78ad5f-02c4-4cb8-a51b-b4c404c9417d"
      },
      "execution_count": 6,
      "outputs": [
        {
          "output_type": "execute_result",
          "data": {
            "text/plain": [
              "      GS   Wgs   Lgs    ND  Wchp  Ltuf   Wtm   Ltm  tmW-L%  Wlst  ...  RS/GS  \\\n",
              "0  162.0  53.0  56.0  53.0  16.0  12.0  82.0  80.0   0.506  14.0  ...    5.4   \n",
              "1  162.0  62.0  53.0  47.0  14.0  13.0  85.0  77.0   0.525  16.0  ...    4.9   \n",
              "2  162.0  76.0  49.0  37.0  18.0  12.0  95.0  67.0   0.586  14.0  ...    5.1   \n",
              "3  162.0  52.0  67.0  43.0  14.0  17.0  74.0  88.0   0.457  20.0  ...    5.0   \n",
              "4  162.0  56.0  54.0  52.0  17.0  14.0  85.0  77.0   0.525  12.0  ...    4.9   \n",
              "\n",
              "   RS/IP  IP/GS  Pit/GS   <80  80-99  100-119  ≥120    Max  Playoff  \n",
              "0    5.2    5.5    92.0  35.0   56.0     64.0   7.0  132.0        0  \n",
              "1    4.8    6.2    95.0  28.0   67.0     45.0  22.0  145.0        0  \n",
              "2    4.8    6.4    96.0  23.0   71.0     61.0   7.0  140.0        1  \n",
              "3    4.9    6.2   102.0  19.0   45.0     67.0  31.0  137.0        0  \n",
              "4    4.7    5.5    89.0  48.0   67.0     38.0   9.0  134.0        0  \n",
              "\n",
              "[5 rows x 32 columns]"
            ],
            "text/html": [
              "\n",
              "  <div id=\"df-87edf8b8-649f-413b-bd7d-b10a0b824269\">\n",
              "    <div class=\"colab-df-container\">\n",
              "      <div>\n",
              "<style scoped>\n",
              "    .dataframe tbody tr th:only-of-type {\n",
              "        vertical-align: middle;\n",
              "    }\n",
              "\n",
              "    .dataframe tbody tr th {\n",
              "        vertical-align: top;\n",
              "    }\n",
              "\n",
              "    .dataframe thead th {\n",
              "        text-align: right;\n",
              "    }\n",
              "</style>\n",
              "<table border=\"1\" class=\"dataframe\">\n",
              "  <thead>\n",
              "    <tr style=\"text-align: right;\">\n",
              "      <th></th>\n",
              "      <th>GS</th>\n",
              "      <th>Wgs</th>\n",
              "      <th>Lgs</th>\n",
              "      <th>ND</th>\n",
              "      <th>Wchp</th>\n",
              "      <th>Ltuf</th>\n",
              "      <th>Wtm</th>\n",
              "      <th>Ltm</th>\n",
              "      <th>tmW-L%</th>\n",
              "      <th>Wlst</th>\n",
              "      <th>...</th>\n",
              "      <th>RS/GS</th>\n",
              "      <th>RS/IP</th>\n",
              "      <th>IP/GS</th>\n",
              "      <th>Pit/GS</th>\n",
              "      <th>&lt;80</th>\n",
              "      <th>80-99</th>\n",
              "      <th>100-119</th>\n",
              "      <th>≥120</th>\n",
              "      <th>Max</th>\n",
              "      <th>Playoff</th>\n",
              "    </tr>\n",
              "  </thead>\n",
              "  <tbody>\n",
              "    <tr>\n",
              "      <th>0</th>\n",
              "      <td>162.0</td>\n",
              "      <td>53.0</td>\n",
              "      <td>56.0</td>\n",
              "      <td>53.0</td>\n",
              "      <td>16.0</td>\n",
              "      <td>12.0</td>\n",
              "      <td>82.0</td>\n",
              "      <td>80.0</td>\n",
              "      <td>0.506</td>\n",
              "      <td>14.0</td>\n",
              "      <td>...</td>\n",
              "      <td>5.4</td>\n",
              "      <td>5.2</td>\n",
              "      <td>5.5</td>\n",
              "      <td>92.0</td>\n",
              "      <td>35.0</td>\n",
              "      <td>56.0</td>\n",
              "      <td>64.0</td>\n",
              "      <td>7.0</td>\n",
              "      <td>132.0</td>\n",
              "      <td>0</td>\n",
              "    </tr>\n",
              "    <tr>\n",
              "      <th>1</th>\n",
              "      <td>162.0</td>\n",
              "      <td>62.0</td>\n",
              "      <td>53.0</td>\n",
              "      <td>47.0</td>\n",
              "      <td>14.0</td>\n",
              "      <td>13.0</td>\n",
              "      <td>85.0</td>\n",
              "      <td>77.0</td>\n",
              "      <td>0.525</td>\n",
              "      <td>16.0</td>\n",
              "      <td>...</td>\n",
              "      <td>4.9</td>\n",
              "      <td>4.8</td>\n",
              "      <td>6.2</td>\n",
              "      <td>95.0</td>\n",
              "      <td>28.0</td>\n",
              "      <td>67.0</td>\n",
              "      <td>45.0</td>\n",
              "      <td>22.0</td>\n",
              "      <td>145.0</td>\n",
              "      <td>0</td>\n",
              "    </tr>\n",
              "    <tr>\n",
              "      <th>2</th>\n",
              "      <td>162.0</td>\n",
              "      <td>76.0</td>\n",
              "      <td>49.0</td>\n",
              "      <td>37.0</td>\n",
              "      <td>18.0</td>\n",
              "      <td>12.0</td>\n",
              "      <td>95.0</td>\n",
              "      <td>67.0</td>\n",
              "      <td>0.586</td>\n",
              "      <td>14.0</td>\n",
              "      <td>...</td>\n",
              "      <td>5.1</td>\n",
              "      <td>4.8</td>\n",
              "      <td>6.4</td>\n",
              "      <td>96.0</td>\n",
              "      <td>23.0</td>\n",
              "      <td>71.0</td>\n",
              "      <td>61.0</td>\n",
              "      <td>7.0</td>\n",
              "      <td>140.0</td>\n",
              "      <td>1</td>\n",
              "    </tr>\n",
              "    <tr>\n",
              "      <th>3</th>\n",
              "      <td>162.0</td>\n",
              "      <td>52.0</td>\n",
              "      <td>67.0</td>\n",
              "      <td>43.0</td>\n",
              "      <td>14.0</td>\n",
              "      <td>17.0</td>\n",
              "      <td>74.0</td>\n",
              "      <td>88.0</td>\n",
              "      <td>0.457</td>\n",
              "      <td>20.0</td>\n",
              "      <td>...</td>\n",
              "      <td>5.0</td>\n",
              "      <td>4.9</td>\n",
              "      <td>6.2</td>\n",
              "      <td>102.0</td>\n",
              "      <td>19.0</td>\n",
              "      <td>45.0</td>\n",
              "      <td>67.0</td>\n",
              "      <td>31.0</td>\n",
              "      <td>137.0</td>\n",
              "      <td>0</td>\n",
              "    </tr>\n",
              "    <tr>\n",
              "      <th>4</th>\n",
              "      <td>162.0</td>\n",
              "      <td>56.0</td>\n",
              "      <td>54.0</td>\n",
              "      <td>52.0</td>\n",
              "      <td>17.0</td>\n",
              "      <td>14.0</td>\n",
              "      <td>85.0</td>\n",
              "      <td>77.0</td>\n",
              "      <td>0.525</td>\n",
              "      <td>12.0</td>\n",
              "      <td>...</td>\n",
              "      <td>4.9</td>\n",
              "      <td>4.7</td>\n",
              "      <td>5.5</td>\n",
              "      <td>89.0</td>\n",
              "      <td>48.0</td>\n",
              "      <td>67.0</td>\n",
              "      <td>38.0</td>\n",
              "      <td>9.0</td>\n",
              "      <td>134.0</td>\n",
              "      <td>0</td>\n",
              "    </tr>\n",
              "  </tbody>\n",
              "</table>\n",
              "<p>5 rows × 32 columns</p>\n",
              "</div>\n",
              "      <button class=\"colab-df-convert\" onclick=\"convertToInteractive('df-87edf8b8-649f-413b-bd7d-b10a0b824269')\"\n",
              "              title=\"Convert this dataframe to an interactive table.\"\n",
              "              style=\"display:none;\">\n",
              "        \n",
              "  <svg xmlns=\"http://www.w3.org/2000/svg\" height=\"24px\"viewBox=\"0 0 24 24\"\n",
              "       width=\"24px\">\n",
              "    <path d=\"M0 0h24v24H0V0z\" fill=\"none\"/>\n",
              "    <path d=\"M18.56 5.44l.94 2.06.94-2.06 2.06-.94-2.06-.94-.94-2.06-.94 2.06-2.06.94zm-11 1L8.5 8.5l.94-2.06 2.06-.94-2.06-.94L8.5 2.5l-.94 2.06-2.06.94zm10 10l.94 2.06.94-2.06 2.06-.94-2.06-.94-.94-2.06-.94 2.06-2.06.94z\"/><path d=\"M17.41 7.96l-1.37-1.37c-.4-.4-.92-.59-1.43-.59-.52 0-1.04.2-1.43.59L10.3 9.45l-7.72 7.72c-.78.78-.78 2.05 0 2.83L4 21.41c.39.39.9.59 1.41.59.51 0 1.02-.2 1.41-.59l7.78-7.78 2.81-2.81c.8-.78.8-2.07 0-2.86zM5.41 20L4 18.59l7.72-7.72 1.47 1.35L5.41 20z\"/>\n",
              "  </svg>\n",
              "      </button>\n",
              "      \n",
              "  <style>\n",
              "    .colab-df-container {\n",
              "      display:flex;\n",
              "      flex-wrap:wrap;\n",
              "      gap: 12px;\n",
              "    }\n",
              "\n",
              "    .colab-df-convert {\n",
              "      background-color: #E8F0FE;\n",
              "      border: none;\n",
              "      border-radius: 50%;\n",
              "      cursor: pointer;\n",
              "      display: none;\n",
              "      fill: #1967D2;\n",
              "      height: 32px;\n",
              "      padding: 0 0 0 0;\n",
              "      width: 32px;\n",
              "    }\n",
              "\n",
              "    .colab-df-convert:hover {\n",
              "      background-color: #E2EBFA;\n",
              "      box-shadow: 0px 1px 2px rgba(60, 64, 67, 0.3), 0px 1px 3px 1px rgba(60, 64, 67, 0.15);\n",
              "      fill: #174EA6;\n",
              "    }\n",
              "\n",
              "    [theme=dark] .colab-df-convert {\n",
              "      background-color: #3B4455;\n",
              "      fill: #D2E3FC;\n",
              "    }\n",
              "\n",
              "    [theme=dark] .colab-df-convert:hover {\n",
              "      background-color: #434B5C;\n",
              "      box-shadow: 0px 1px 3px 1px rgba(0, 0, 0, 0.15);\n",
              "      filter: drop-shadow(0px 1px 2px rgba(0, 0, 0, 0.3));\n",
              "      fill: #FFFFFF;\n",
              "    }\n",
              "  </style>\n",
              "\n",
              "      <script>\n",
              "        const buttonEl =\n",
              "          document.querySelector('#df-87edf8b8-649f-413b-bd7d-b10a0b824269 button.colab-df-convert');\n",
              "        buttonEl.style.display =\n",
              "          google.colab.kernel.accessAllowed ? 'block' : 'none';\n",
              "\n",
              "        async function convertToInteractive(key) {\n",
              "          const element = document.querySelector('#df-87edf8b8-649f-413b-bd7d-b10a0b824269');\n",
              "          const dataTable =\n",
              "            await google.colab.kernel.invokeFunction('convertToInteractive',\n",
              "                                                     [key], {});\n",
              "          if (!dataTable) return;\n",
              "\n",
              "          const docLinkHtml = 'Like what you see? Visit the ' +\n",
              "            '<a target=\"_blank\" href=https://colab.research.google.com/notebooks/data_table.ipynb>data table notebook</a>'\n",
              "            + ' to learn more about interactive tables.';\n",
              "          element.innerHTML = '';\n",
              "          dataTable['output_type'] = 'display_data';\n",
              "          await google.colab.output.renderOutput(dataTable, element);\n",
              "          const docLink = document.createElement('div');\n",
              "          docLink.innerHTML = docLinkHtml;\n",
              "          element.appendChild(docLink);\n",
              "        }\n",
              "      </script>\n",
              "    </div>\n",
              "  </div>\n",
              "  "
            ]
          },
          "metadata": {},
          "execution_count": 6
        }
      ]
    },
    {
      "cell_type": "markdown",
      "source": [
        "## **LOGISTIC REGRESSION**"
      ],
      "metadata": {
        "id": "4vScdD5VA5wT"
      }
    },
    {
      "cell_type": "code",
      "source": [
        "x = ml_starting.drop('Playoff', axis = 1)\n",
        "y = ml_starting.Playoff\n",
        "xtrain, xtest, ytrain, ytest = train_test_split(x, y)"
      ],
      "metadata": {
        "id": "jU_U5ER6-I5V"
      },
      "execution_count": 7,
      "outputs": []
    },
    {
      "cell_type": "code",
      "source": [
        "logreg_model = LogisticRegression(max_iter = 10000)"
      ],
      "metadata": {
        "id": "nWM7lNhyBUfO"
      },
      "execution_count": 9,
      "outputs": []
    },
    {
      "cell_type": "code",
      "source": [
        "logreg_model.fit(xtrain, ytrain)"
      ],
      "metadata": {
        "colab": {
          "base_uri": "https://localhost:8080/"
        },
        "id": "-WH8AejRBog2",
        "outputId": "4be43c70-6675-430d-c68e-d7b69eb9e6f7"
      },
      "execution_count": 10,
      "outputs": [
        {
          "output_type": "execute_result",
          "data": {
            "text/plain": [
              "LogisticRegression(max_iter=10000)"
            ]
          },
          "metadata": {},
          "execution_count": 10
        }
      ]
    },
    {
      "cell_type": "code",
      "source": [
        "logreg_predicted = logreg_model.predict(xtest)\n",
        "logreg_actual = ytest"
      ],
      "metadata": {
        "id": "r5Lp1wRxCF76"
      },
      "execution_count": 11,
      "outputs": []
    },
    {
      "cell_type": "code",
      "source": [
        "print(metrics.accuracy_score(logreg_predicted, logreg_actual))"
      ],
      "metadata": {
        "colab": {
          "base_uri": "https://localhost:8080/"
        },
        "id": "KQ5jYpkjCObm",
        "outputId": "087bd971-46a3-4a64-bdc8-a8f6266d5cb4"
      },
      "execution_count": 12,
      "outputs": [
        {
          "output_type": "stream",
          "name": "stdout",
          "text": [
            "0.9113924050632911\n"
          ]
        }
      ]
    },
    {
      "cell_type": "code",
      "source": [
        "upload = files.upload()"
      ],
      "metadata": {
        "colab": {
          "resources": {
            "http://localhost:8080/nbextensions/google.colab/files.js": {
              "data": "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",
              "ok": true,
              "headers": [
                [
                  "content-type",
                  "application/javascript"
                ]
              ],
              "status": 200,
              "status_text": ""
            }
          },
          "base_uri": "https://localhost:8080/",
          "height": 73
        },
        "id": "ymqwG_Amq2cP",
        "outputId": "c2eeaa5f-d267-45db-888b-1e591ee5a7ff"
      },
      "execution_count": 13,
      "outputs": [
        {
          "output_type": "display_data",
          "data": {
            "text/plain": [
              "<IPython.core.display.HTML object>"
            ],
            "text/html": [
              "\n",
              "     <input type=\"file\" id=\"files-eb935648-0d89-4200-aa7a-e0af079356f0\" name=\"files[]\" multiple disabled\n",
              "        style=\"border:none\" />\n",
              "     <output id=\"result-eb935648-0d89-4200-aa7a-e0af079356f0\">\n",
              "      Upload widget is only available when the cell has been executed in the\n",
              "      current browser session. Please rerun this cell to enable.\n",
              "      </output>\n",
              "      <script src=\"/nbextensions/google.colab/files.js\"></script> "
            ]
          },
          "metadata": {}
        },
        {
          "output_type": "stream",
          "name": "stdout",
          "text": [
            "Saving stats_2022.txt to stats_2022.txt\n"
          ]
        }
      ]
    },
    {
      "cell_type": "code",
      "source": [
        "# Provided by Baseball-Reference.com. Generated 8/4/2022.\n",
        "starting2022 = pd.read_csv('stats_2022.txt')\n",
        "starting2022.head()"
      ],
      "metadata": {
        "colab": {
          "base_uri": "https://localhost:8080/",
          "height": 236
        },
        "id": "4dFOTdP6q7fR",
        "outputId": "ec1de6fd-be20-4beb-bb5e-b386794ab7c7"
      },
      "execution_count": 14,
      "outputs": [
        {
          "output_type": "execute_result",
          "data": {
            "text/plain": [
              "                     Tm    G   GS  Wgs  Lgs  ND  Wchp  Ltuf  Wtm  Ltm  ...  \\\n",
              "0  Arizona Diamondbacks  104  104   27   32  45    11     3   46   58  ...   \n",
              "1        Atlanta Braves  105  105   44   28  33    16     3   63   42  ...   \n",
              "2     Baltimore Orioles  105  105   26   29  50    11     4   54   51  ...   \n",
              "3        Boston Red Sox  106  106   30   32  44    10     3   53   53  ...   \n",
              "4          Chicago Cubs  102  102   21   40  41    10     2   41   61  ...   \n",
              "\n",
              "   lDR  RS/GS  RS/IP  IP/GS  Pit/GS  <80 80-99  100-119  ≥120  Max  \n",
              "0   58    4.3    4.0    5.2      86   30    56       18     0  115  \n",
              "1   62    4.9    4.7    5.5      90   20    61       24     0  107  \n",
              "2   54    4.3    3.7    4.8      79   46    49       10     0  117  \n",
              "3   58    4.5    4.3    4.9      80   46    49       11     0  112  \n",
              "4   57    4.2    4.6    4.7      80   38    56        8     0  116  \n",
              "\n",
              "[5 rows x 33 columns]"
            ],
            "text/html": [
              "\n",
              "  <div id=\"df-26220f95-90bc-4778-9627-59aff1ba436b\">\n",
              "    <div class=\"colab-df-container\">\n",
              "      <div>\n",
              "<style scoped>\n",
              "    .dataframe tbody tr th:only-of-type {\n",
              "        vertical-align: middle;\n",
              "    }\n",
              "\n",
              "    .dataframe tbody tr th {\n",
              "        vertical-align: top;\n",
              "    }\n",
              "\n",
              "    .dataframe thead th {\n",
              "        text-align: right;\n",
              "    }\n",
              "</style>\n",
              "<table border=\"1\" class=\"dataframe\">\n",
              "  <thead>\n",
              "    <tr style=\"text-align: right;\">\n",
              "      <th></th>\n",
              "      <th>Tm</th>\n",
              "      <th>G</th>\n",
              "      <th>GS</th>\n",
              "      <th>Wgs</th>\n",
              "      <th>Lgs</th>\n",
              "      <th>ND</th>\n",
              "      <th>Wchp</th>\n",
              "      <th>Ltuf</th>\n",
              "      <th>Wtm</th>\n",
              "      <th>Ltm</th>\n",
              "      <th>...</th>\n",
              "      <th>lDR</th>\n",
              "      <th>RS/GS</th>\n",
              "      <th>RS/IP</th>\n",
              "      <th>IP/GS</th>\n",
              "      <th>Pit/GS</th>\n",
              "      <th>&lt;80</th>\n",
              "      <th>80-99</th>\n",
              "      <th>100-119</th>\n",
              "      <th>≥120</th>\n",
              "      <th>Max</th>\n",
              "    </tr>\n",
              "  </thead>\n",
              "  <tbody>\n",
              "    <tr>\n",
              "      <th>0</th>\n",
              "      <td>Arizona Diamondbacks</td>\n",
              "      <td>104</td>\n",
              "      <td>104</td>\n",
              "      <td>27</td>\n",
              "      <td>32</td>\n",
              "      <td>45</td>\n",
              "      <td>11</td>\n",
              "      <td>3</td>\n",
              "      <td>46</td>\n",
              "      <td>58</td>\n",
              "      <td>...</td>\n",
              "      <td>58</td>\n",
              "      <td>4.3</td>\n",
              "      <td>4.0</td>\n",
              "      <td>5.2</td>\n",
              "      <td>86</td>\n",
              "      <td>30</td>\n",
              "      <td>56</td>\n",
              "      <td>18</td>\n",
              "      <td>0</td>\n",
              "      <td>115</td>\n",
              "    </tr>\n",
              "    <tr>\n",
              "      <th>1</th>\n",
              "      <td>Atlanta Braves</td>\n",
              "      <td>105</td>\n",
              "      <td>105</td>\n",
              "      <td>44</td>\n",
              "      <td>28</td>\n",
              "      <td>33</td>\n",
              "      <td>16</td>\n",
              "      <td>3</td>\n",
              "      <td>63</td>\n",
              "      <td>42</td>\n",
              "      <td>...</td>\n",
              "      <td>62</td>\n",
              "      <td>4.9</td>\n",
              "      <td>4.7</td>\n",
              "      <td>5.5</td>\n",
              "      <td>90</td>\n",
              "      <td>20</td>\n",
              "      <td>61</td>\n",
              "      <td>24</td>\n",
              "      <td>0</td>\n",
              "      <td>107</td>\n",
              "    </tr>\n",
              "    <tr>\n",
              "      <th>2</th>\n",
              "      <td>Baltimore Orioles</td>\n",
              "      <td>105</td>\n",
              "      <td>105</td>\n",
              "      <td>26</td>\n",
              "      <td>29</td>\n",
              "      <td>50</td>\n",
              "      <td>11</td>\n",
              "      <td>4</td>\n",
              "      <td>54</td>\n",
              "      <td>51</td>\n",
              "      <td>...</td>\n",
              "      <td>54</td>\n",
              "      <td>4.3</td>\n",
              "      <td>3.7</td>\n",
              "      <td>4.8</td>\n",
              "      <td>79</td>\n",
              "      <td>46</td>\n",
              "      <td>49</td>\n",
              "      <td>10</td>\n",
              "      <td>0</td>\n",
              "      <td>117</td>\n",
              "    </tr>\n",
              "    <tr>\n",
              "      <th>3</th>\n",
              "      <td>Boston Red Sox</td>\n",
              "      <td>106</td>\n",
              "      <td>106</td>\n",
              "      <td>30</td>\n",
              "      <td>32</td>\n",
              "      <td>44</td>\n",
              "      <td>10</td>\n",
              "      <td>3</td>\n",
              "      <td>53</td>\n",
              "      <td>53</td>\n",
              "      <td>...</td>\n",
              "      <td>58</td>\n",
              "      <td>4.5</td>\n",
              "      <td>4.3</td>\n",
              "      <td>4.9</td>\n",
              "      <td>80</td>\n",
              "      <td>46</td>\n",
              "      <td>49</td>\n",
              "      <td>11</td>\n",
              "      <td>0</td>\n",
              "      <td>112</td>\n",
              "    </tr>\n",
              "    <tr>\n",
              "      <th>4</th>\n",
              "      <td>Chicago Cubs</td>\n",
              "      <td>102</td>\n",
              "      <td>102</td>\n",
              "      <td>21</td>\n",
              "      <td>40</td>\n",
              "      <td>41</td>\n",
              "      <td>10</td>\n",
              "      <td>2</td>\n",
              "      <td>41</td>\n",
              "      <td>61</td>\n",
              "      <td>...</td>\n",
              "      <td>57</td>\n",
              "      <td>4.2</td>\n",
              "      <td>4.6</td>\n",
              "      <td>4.7</td>\n",
              "      <td>80</td>\n",
              "      <td>38</td>\n",
              "      <td>56</td>\n",
              "      <td>8</td>\n",
              "      <td>0</td>\n",
              "      <td>116</td>\n",
              "    </tr>\n",
              "  </tbody>\n",
              "</table>\n",
              "<p>5 rows × 33 columns</p>\n",
              "</div>\n",
              "      <button class=\"colab-df-convert\" onclick=\"convertToInteractive('df-26220f95-90bc-4778-9627-59aff1ba436b')\"\n",
              "              title=\"Convert this dataframe to an interactive table.\"\n",
              "              style=\"display:none;\">\n",
              "        \n",
              "  <svg xmlns=\"http://www.w3.org/2000/svg\" height=\"24px\"viewBox=\"0 0 24 24\"\n",
              "       width=\"24px\">\n",
              "    <path d=\"M0 0h24v24H0V0z\" fill=\"none\"/>\n",
              "    <path d=\"M18.56 5.44l.94 2.06.94-2.06 2.06-.94-2.06-.94-.94-2.06-.94 2.06-2.06.94zm-11 1L8.5 8.5l.94-2.06 2.06-.94-2.06-.94L8.5 2.5l-.94 2.06-2.06.94zm10 10l.94 2.06.94-2.06 2.06-.94-2.06-.94-.94-2.06-.94 2.06-2.06.94z\"/><path d=\"M17.41 7.96l-1.37-1.37c-.4-.4-.92-.59-1.43-.59-.52 0-1.04.2-1.43.59L10.3 9.45l-7.72 7.72c-.78.78-.78 2.05 0 2.83L4 21.41c.39.39.9.59 1.41.59.51 0 1.02-.2 1.41-.59l7.78-7.78 2.81-2.81c.8-.78.8-2.07 0-2.86zM5.41 20L4 18.59l7.72-7.72 1.47 1.35L5.41 20z\"/>\n",
              "  </svg>\n",
              "      </button>\n",
              "      \n",
              "  <style>\n",
              "    .colab-df-container {\n",
              "      display:flex;\n",
              "      flex-wrap:wrap;\n",
              "      gap: 12px;\n",
              "    }\n",
              "\n",
              "    .colab-df-convert {\n",
              "      background-color: #E8F0FE;\n",
              "      border: none;\n",
              "      border-radius: 50%;\n",
              "      cursor: pointer;\n",
              "      display: none;\n",
              "      fill: #1967D2;\n",
              "      height: 32px;\n",
              "      padding: 0 0 0 0;\n",
              "      width: 32px;\n",
              "    }\n",
              "\n",
              "    .colab-df-convert:hover {\n",
              "      background-color: #E2EBFA;\n",
              "      box-shadow: 0px 1px 2px rgba(60, 64, 67, 0.3), 0px 1px 3px 1px rgba(60, 64, 67, 0.15);\n",
              "      fill: #174EA6;\n",
              "    }\n",
              "\n",
              "    [theme=dark] .colab-df-convert {\n",
              "      background-color: #3B4455;\n",
              "      fill: #D2E3FC;\n",
              "    }\n",
              "\n",
              "    [theme=dark] .colab-df-convert:hover {\n",
              "      background-color: #434B5C;\n",
              "      box-shadow: 0px 1px 3px 1px rgba(0, 0, 0, 0.15);\n",
              "      filter: drop-shadow(0px 1px 2px rgba(0, 0, 0, 0.3));\n",
              "      fill: #FFFFFF;\n",
              "    }\n",
              "  </style>\n",
              "\n",
              "      <script>\n",
              "        const buttonEl =\n",
              "          document.querySelector('#df-26220f95-90bc-4778-9627-59aff1ba436b button.colab-df-convert');\n",
              "        buttonEl.style.display =\n",
              "          google.colab.kernel.accessAllowed ? 'block' : 'none';\n",
              "\n",
              "        async function convertToInteractive(key) {\n",
              "          const element = document.querySelector('#df-26220f95-90bc-4778-9627-59aff1ba436b');\n",
              "          const dataTable =\n",
              "            await google.colab.kernel.invokeFunction('convertToInteractive',\n",
              "                                                     [key], {});\n",
              "          if (!dataTable) return;\n",
              "\n",
              "          const docLinkHtml = 'Like what you see? Visit the ' +\n",
              "            '<a target=\"_blank\" href=https://colab.research.google.com/notebooks/data_table.ipynb>data table notebook</a>'\n",
              "            + ' to learn more about interactive tables.';\n",
              "          element.innerHTML = '';\n",
              "          dataTable['output_type'] = 'display_data';\n",
              "          await google.colab.output.renderOutput(dataTable, element);\n",
              "          const docLink = document.createElement('div');\n",
              "          docLink.innerHTML = docLinkHtml;\n",
              "          element.appendChild(docLink);\n",
              "        }\n",
              "      </script>\n",
              "    </div>\n",
              "  </div>\n",
              "  "
            ]
          },
          "metadata": {},
          "execution_count": 14
        }
      ]
    },
    {
      "cell_type": "code",
      "source": [
        "to_numeric_columns = ['G','GS','Wgs','Lgs','ND','Wchp','Ltuf','Wtm','Ltm','Wlst','Lsv','CG','SHO','QS','GmScA','Best','Wrst','BQR','BQS','sDR','lDR','Pit/GS','<80','80-99','100-119','≥120','Max', 'tmW-L%','RS/GS','RS/IP','IP/GS']"
      ],
      "metadata": {
        "id": "iRxXyVj9sAKB"
      },
      "execution_count": 15,
      "outputs": []
    },
    {
      "cell_type": "code",
      "source": [
        "# convert columns to appropriate data types\n",
        "starting2022[to_numeric_columns] = starting2022[to_numeric_columns].apply(pd.to_numeric, errors='coerce', axis=1)\n",
        "starting2022['QS%'] = starting2022['QS%'].map(lambda x: x.rstrip('%')).astype('int') / 100"
      ],
      "metadata": {
        "id": "ps_nmc1NsDIq"
      },
      "execution_count": 16,
      "outputs": []
    },
    {
      "cell_type": "code",
      "source": [
        "# adjust certain columns to represent full season by multiplying them by 162 / G\n",
        "target_columns = [col not in ['Tm', 'G', 'tmW-L%','RS/GS','RS/IP','IP/GS', 'QS%'] for col in starting2022.columns]\n",
        "for col in starting2022.columns[target_columns]:\n",
        "    starting2022[col] = starting2022[col] * (162.0 / starting2022.G)"
      ],
      "metadata": {
        "id": "CuqOvFFAsVVp"
      },
      "execution_count": 17,
      "outputs": []
    },
    {
      "cell_type": "code",
      "source": [
        "starting2022"
      ],
      "metadata": {
        "colab": {
          "base_uri": "https://localhost:8080/",
          "height": 1000
        },
        "id": "2zWXQACq4pbe",
        "outputId": "45f30596-3e4d-45ce-eef3-e8742ca5bdca"
      },
      "execution_count": 18,
      "outputs": [
        {
          "output_type": "execute_result",
          "data": {
            "text/plain": [
              "                       Tm      G     GS        Wgs        Lgs         ND  \\\n",
              "0    Arizona Diamondbacks  104.0  162.0  42.057692  49.846154  70.096154   \n",
              "1          Atlanta Braves  105.0  162.0  67.885714  43.200000  50.914286   \n",
              "2       Baltimore Orioles  105.0  162.0  40.114286  44.742857  77.142857   \n",
              "3          Boston Red Sox  106.0  162.0  45.849057  48.905660  67.245283   \n",
              "4            Chicago Cubs  102.0  162.0  33.352941  63.529412  65.117647   \n",
              "5       Chicago White Sox  104.0  162.0  49.846154  59.192308  52.961538   \n",
              "6         Cincinnati Reds  104.0  162.0  37.384615  73.211538  51.403846   \n",
              "7     Cleveland Guardians  104.0  162.0  38.942308  57.634615  65.423077   \n",
              "8        Colorado Rockies  107.0  162.0  42.392523  63.588785  56.018692   \n",
              "9          Detroit Tigers  106.0  162.0  29.037736  68.773585  64.188679   \n",
              "10         Houston Astros  106.0  162.0  77.943396  42.792453  41.264151   \n",
              "11     Kansas City Royals  105.0  162.0  30.857143  69.428571  61.714286   \n",
              "12     Los Angeles Angels  104.0  162.0  48.288462  60.750000  52.961538   \n",
              "13    Los Angeles Dodgers  104.0  162.0  76.326923  24.923077  60.750000   \n",
              "14          Miami Marlins  105.0  162.0  46.285714  63.257143  52.457143   \n",
              "15      Milwaukee Brewers  104.0  162.0  54.519231  46.730769  60.750000   \n",
              "16        Minnesota Twins  104.0  162.0  49.846154  43.615385  68.538462   \n",
              "17          New York Mets  104.0  162.0  70.096154  37.384615  54.519231   \n",
              "18       New York Yankees  106.0  162.0  59.603774  24.452830  77.943396   \n",
              "19      Oakland Athletics  106.0  162.0  39.735849  74.886792  47.377358   \n",
              "20  Philadelphia Phillies  104.0  162.0  52.961538  48.288462  60.750000   \n",
              "21     Pittsburgh Pirates  104.0  162.0  18.692308  59.192308  84.115385   \n",
              "22       San Diego Padres  107.0  162.0  56.018692  42.392523  63.588785   \n",
              "23       Seattle Mariners  106.0  162.0  53.490566  56.547170  51.962264   \n",
              "24   San Francisco Giants  105.0  162.0  47.828571  49.371429  64.800000   \n",
              "25    St. Louis Cardinals  103.0  162.0  50.330097  56.621359  55.048544   \n",
              "26         Tampa Bay Rays  104.0  162.0  40.500000  40.500000  81.000000   \n",
              "27          Texas Rangers  104.0  162.0  42.057692  46.730769  73.211538   \n",
              "28      Toronto Blue Jays  104.0  162.0  57.634615  42.057692  62.307692   \n",
              "29   Washington Nationals  106.0  162.0  35.150943  88.641509  38.207547   \n",
              "\n",
              "         Wchp       Ltuf         Wtm         Ltm  ...         lDR  RS/GS  \\\n",
              "0   17.134615   4.673077   71.653846   90.346154  ...   90.346154    4.3   \n",
              "1   24.685714   4.628571   97.200000   64.800000  ...   95.657143    4.9   \n",
              "2   16.971429   6.171429   83.314286   78.685714  ...   83.314286    4.3   \n",
              "3   15.283019   4.584906   81.000000   81.000000  ...   88.641509    4.5   \n",
              "4   15.882353   3.176471   65.117647   96.882353  ...   90.529412    4.2   \n",
              "5   21.807692  10.903846   82.557692   79.442308  ...  101.250000    4.4   \n",
              "6   12.461538   9.346154   65.423077   96.576923  ...   95.019231    4.4   \n",
              "7    7.788462  14.019231   84.115385   77.884615  ...  116.826923    4.5   \n",
              "8    6.056075   9.084112   69.644860   92.355140  ...  101.439252    4.5   \n",
              "9   10.698113   4.584906   64.188679   97.811321  ...   90.169811    3.3   \n",
              "10  22.924528  13.754717  103.924528   58.075472  ...  134.490566    4.6   \n",
              "11  12.342857   7.714286   63.257143   98.742857  ...   95.657143    3.9   \n",
              "12  15.576923   9.346154   68.538462   93.461538  ...  158.884615    3.9   \n",
              "13  24.923077   4.673077  110.596154   51.403846  ...  115.269231    5.4   \n",
              "14  13.885714   3.085714   74.057143   87.942857  ...   91.028571    4.0   \n",
              "15  20.250000   6.230769   88.788462   73.211538  ...  115.269231    4.7   \n",
              "16  24.923077   4.673077   85.673077   76.326923  ...  109.038462    4.6   \n",
              "17  24.923077  10.903846  102.807692   59.192308  ...   88.788462    4.8   \n",
              "18  24.452830   7.641509  106.981132   55.018868  ...  102.396226    5.5   \n",
              "19  22.924528  18.339623   61.132075  100.867925  ...   87.113208    3.4   \n",
              "20  14.019231   7.788462   87.230769   74.769231  ...   95.019231    4.7   \n",
              "21   7.788462   7.788462   65.423077   96.576923  ...   93.461538    3.7   \n",
              "22   7.570093  10.598131   92.355140   69.644860  ...  136.261682    4.5   \n",
              "23  18.339623  21.396226   87.113208   74.886792  ...   81.000000    4.1   \n",
              "24  15.428571   9.257143   78.685714   83.314286  ...   77.142857    4.6   \n",
              "25  22.019417  15.728155   86.504854   75.495146  ...   73.922330    4.7   \n",
              "26  17.134615  10.903846   85.673077   76.326923  ...   90.346154    4.1   \n",
              "27  18.692308   6.230769   71.653846   90.346154  ...   65.423077    4.5   \n",
              "28  10.903846   7.788462   90.346154   71.653846  ...   90.346154    4.9   \n",
              "29  16.811321   3.056604   55.018868  106.981132  ...   88.641509    3.9   \n",
              "\n",
              "    RS/IP  IP/GS      Pit/GS        <80       80-99    100-119      ≥120  \\\n",
              "0     4.0    5.2  133.961538  46.730769   87.230769  28.038462  0.000000   \n",
              "1     4.7    5.5  138.857143  30.857143   94.114286  37.028571  0.000000   \n",
              "2     3.7    4.8  121.885714  70.971429   75.600000  15.428571  0.000000   \n",
              "3     4.3    4.9  122.264151  70.301887   74.886792  16.811321  0.000000   \n",
              "4     4.6    4.7  127.058824  60.352941   88.941176  12.705882  0.000000   \n",
              "5     3.8    5.2  138.634615  29.596154   95.019231  37.384615  0.000000   \n",
              "6     3.8    5.1  140.192308  37.384615   73.211538  49.846154  1.557692   \n",
              "7     4.3    5.5  137.076923  32.711538  115.269231  14.019231  0.000000   \n",
              "8     4.0    5.3  133.233645  30.280374  107.495327  24.224299  0.000000   \n",
              "9     2.8    4.8  122.264151  65.716981   85.584906  10.698113  0.000000   \n",
              "10    4.7    5.8  139.075472  18.339623  106.981132  36.679245  0.000000   \n",
              "11    3.6    5.1  132.685714  29.314286  121.885714  10.800000  0.000000   \n",
              "12    3.6    5.1  130.846154  52.961538   87.230769  21.807692  0.000000   \n",
              "13    5.2    5.4  130.846154  46.730769  107.480769   6.230769  1.557692   \n",
              "14    3.4    5.4  135.771429  38.571429   87.942857  35.485714  0.000000   \n",
              "15    4.4    5.3  141.750000  29.596154   85.673077  46.730769  0.000000   \n",
              "16    4.6    4.8  121.500000  90.346154   62.307692   9.346154  0.000000   \n",
              "17    4.7    5.5  137.076923  37.384615   93.461538  31.153846  0.000000   \n",
              "18    4.9    5.5  134.490566  39.735849   91.698113  30.566038  0.000000   \n",
              "19    3.0    5.3  128.377358  47.377358   99.339623  15.283019  0.000000   \n",
              "20    4.3    5.5  135.519231  38.942308   87.230769  35.826923  0.000000   \n",
              "21    3.2    4.8  124.615385  59.192308   93.461538   9.346154  0.000000   \n",
              "22    4.1    5.7  140.803738  19.682243   95.383178  46.934579  0.000000   \n",
              "23    4.2    5.5  137.547170  21.396226  100.867925  39.735849  0.000000   \n",
              "24    4.5    5.1  126.514286  46.285714   91.028571  24.685714  0.000000   \n",
              "25    4.6    5.3  136.834951  42.466019   84.932039  33.029126  1.572816   \n",
              "26    3.9    4.6  113.711538  73.211538   85.673077   3.115385  0.000000   \n",
              "27    4.2    4.9  124.615385  54.519231   90.346154  17.134615  0.000000   \n",
              "28    4.8    5.2  127.730769  52.961538   90.346154  18.692308  0.000000   \n",
              "29    3.7    4.9  131.433962  38.207547  103.924528  19.867925  0.000000   \n",
              "\n",
              "           Max  \n",
              "0   179.134615  \n",
              "1   165.085714  \n",
              "2   180.514286  \n",
              "3   171.169811  \n",
              "4   184.235294  \n",
              "5   183.807692  \n",
              "6   191.596154  \n",
              "7   169.788462  \n",
              "8   162.000000  \n",
              "9   165.056604  \n",
              "10  175.754717  \n",
              "11  162.000000  \n",
              "12  168.230769  \n",
              "13  191.596154  \n",
              "14  180.514286  \n",
              "15  179.134615  \n",
              "16  166.673077  \n",
              "17  171.346154  \n",
              "18  174.226415  \n",
              "19  160.471698  \n",
              "20  171.346154  \n",
              "21  165.115385  \n",
              "22  172.598131  \n",
              "23  168.113208  \n",
              "24  172.800000  \n",
              "25  202.893204  \n",
              "26  158.884615  \n",
              "27  168.230769  \n",
              "28  171.346154  \n",
              "29  178.811321  \n",
              "\n",
              "[30 rows x 33 columns]"
            ],
            "text/html": [
              "\n",
              "  <div id=\"df-727b5ba4-4c7c-4057-85f1-f8ed0f5aee24\">\n",
              "    <div class=\"colab-df-container\">\n",
              "      <div>\n",
              "<style scoped>\n",
              "    .dataframe tbody tr th:only-of-type {\n",
              "        vertical-align: middle;\n",
              "    }\n",
              "\n",
              "    .dataframe tbody tr th {\n",
              "        vertical-align: top;\n",
              "    }\n",
              "\n",
              "    .dataframe thead th {\n",
              "        text-align: right;\n",
              "    }\n",
              "</style>\n",
              "<table border=\"1\" class=\"dataframe\">\n",
              "  <thead>\n",
              "    <tr style=\"text-align: right;\">\n",
              "      <th></th>\n",
              "      <th>Tm</th>\n",
              "      <th>G</th>\n",
              "      <th>GS</th>\n",
              "      <th>Wgs</th>\n",
              "      <th>Lgs</th>\n",
              "      <th>ND</th>\n",
              "      <th>Wchp</th>\n",
              "      <th>Ltuf</th>\n",
              "      <th>Wtm</th>\n",
              "      <th>Ltm</th>\n",
              "      <th>...</th>\n",
              "      <th>lDR</th>\n",
              "      <th>RS/GS</th>\n",
              "      <th>RS/IP</th>\n",
              "      <th>IP/GS</th>\n",
              "      <th>Pit/GS</th>\n",
              "      <th>&lt;80</th>\n",
              "      <th>80-99</th>\n",
              "      <th>100-119</th>\n",
              "      <th>≥120</th>\n",
              "      <th>Max</th>\n",
              "    </tr>\n",
              "  </thead>\n",
              "  <tbody>\n",
              "    <tr>\n",
              "      <th>0</th>\n",
              "      <td>Arizona Diamondbacks</td>\n",
              "      <td>104.0</td>\n",
              "      <td>162.0</td>\n",
              "      <td>42.057692</td>\n",
              "      <td>49.846154</td>\n",
              "      <td>70.096154</td>\n",
              "      <td>17.134615</td>\n",
              "      <td>4.673077</td>\n",
              "      <td>71.653846</td>\n",
              "      <td>90.346154</td>\n",
              "      <td>...</td>\n",
              "      <td>90.346154</td>\n",
              "      <td>4.3</td>\n",
              "      <td>4.0</td>\n",
              "      <td>5.2</td>\n",
              "      <td>133.961538</td>\n",
              "      <td>46.730769</td>\n",
              "      <td>87.230769</td>\n",
              "      <td>28.038462</td>\n",
              "      <td>0.000000</td>\n",
              "      <td>179.134615</td>\n",
              "    </tr>\n",
              "    <tr>\n",
              "      <th>1</th>\n",
              "      <td>Atlanta Braves</td>\n",
              "      <td>105.0</td>\n",
              "      <td>162.0</td>\n",
              "      <td>67.885714</td>\n",
              "      <td>43.200000</td>\n",
              "      <td>50.914286</td>\n",
              "      <td>24.685714</td>\n",
              "      <td>4.628571</td>\n",
              "      <td>97.200000</td>\n",
              "      <td>64.800000</td>\n",
              "      <td>...</td>\n",
              "      <td>95.657143</td>\n",
              "      <td>4.9</td>\n",
              "      <td>4.7</td>\n",
              "      <td>5.5</td>\n",
              "      <td>138.857143</td>\n",
              "      <td>30.857143</td>\n",
              "      <td>94.114286</td>\n",
              "      <td>37.028571</td>\n",
              "      <td>0.000000</td>\n",
              "      <td>165.085714</td>\n",
              "    </tr>\n",
              "    <tr>\n",
              "      <th>2</th>\n",
              "      <td>Baltimore Orioles</td>\n",
              "      <td>105.0</td>\n",
              "      <td>162.0</td>\n",
              "      <td>40.114286</td>\n",
              "      <td>44.742857</td>\n",
              "      <td>77.142857</td>\n",
              "      <td>16.971429</td>\n",
              "      <td>6.171429</td>\n",
              "      <td>83.314286</td>\n",
              "      <td>78.685714</td>\n",
              "      <td>...</td>\n",
              "      <td>83.314286</td>\n",
              "      <td>4.3</td>\n",
              "      <td>3.7</td>\n",
              "      <td>4.8</td>\n",
              "      <td>121.885714</td>\n",
              "      <td>70.971429</td>\n",
              "      <td>75.600000</td>\n",
              "      <td>15.428571</td>\n",
              "      <td>0.000000</td>\n",
              "      <td>180.514286</td>\n",
              "    </tr>\n",
              "    <tr>\n",
              "      <th>3</th>\n",
              "      <td>Boston Red Sox</td>\n",
              "      <td>106.0</td>\n",
              "      <td>162.0</td>\n",
              "      <td>45.849057</td>\n",
              "      <td>48.905660</td>\n",
              "      <td>67.245283</td>\n",
              "      <td>15.283019</td>\n",
              "      <td>4.584906</td>\n",
              "      <td>81.000000</td>\n",
              "      <td>81.000000</td>\n",
              "      <td>...</td>\n",
              "      <td>88.641509</td>\n",
              "      <td>4.5</td>\n",
              "      <td>4.3</td>\n",
              "      <td>4.9</td>\n",
              "      <td>122.264151</td>\n",
              "      <td>70.301887</td>\n",
              "      <td>74.886792</td>\n",
              "      <td>16.811321</td>\n",
              "      <td>0.000000</td>\n",
              "      <td>171.169811</td>\n",
              "    </tr>\n",
              "    <tr>\n",
              "      <th>4</th>\n",
              "      <td>Chicago Cubs</td>\n",
              "      <td>102.0</td>\n",
              "      <td>162.0</td>\n",
              "      <td>33.352941</td>\n",
              "      <td>63.529412</td>\n",
              "      <td>65.117647</td>\n",
              "      <td>15.882353</td>\n",
              "      <td>3.176471</td>\n",
              "      <td>65.117647</td>\n",
              "      <td>96.882353</td>\n",
              "      <td>...</td>\n",
              "      <td>90.529412</td>\n",
              "      <td>4.2</td>\n",
              "      <td>4.6</td>\n",
              "      <td>4.7</td>\n",
              "      <td>127.058824</td>\n",
              "      <td>60.352941</td>\n",
              "      <td>88.941176</td>\n",
              "      <td>12.705882</td>\n",
              "      <td>0.000000</td>\n",
              "      <td>184.235294</td>\n",
              "    </tr>\n",
              "    <tr>\n",
              "      <th>5</th>\n",
              "      <td>Chicago White Sox</td>\n",
              "      <td>104.0</td>\n",
              "      <td>162.0</td>\n",
              "      <td>49.846154</td>\n",
              "      <td>59.192308</td>\n",
              "      <td>52.961538</td>\n",
              "      <td>21.807692</td>\n",
              "      <td>10.903846</td>\n",
              "      <td>82.557692</td>\n",
              "      <td>79.442308</td>\n",
              "      <td>...</td>\n",
              "      <td>101.250000</td>\n",
              "      <td>4.4</td>\n",
              "      <td>3.8</td>\n",
              "      <td>5.2</td>\n",
              "      <td>138.634615</td>\n",
              "      <td>29.596154</td>\n",
              "      <td>95.019231</td>\n",
              "      <td>37.384615</td>\n",
              "      <td>0.000000</td>\n",
              "      <td>183.807692</td>\n",
              "    </tr>\n",
              "    <tr>\n",
              "      <th>6</th>\n",
              "      <td>Cincinnati Reds</td>\n",
              "      <td>104.0</td>\n",
              "      <td>162.0</td>\n",
              "      <td>37.384615</td>\n",
              "      <td>73.211538</td>\n",
              "      <td>51.403846</td>\n",
              "      <td>12.461538</td>\n",
              "      <td>9.346154</td>\n",
              "      <td>65.423077</td>\n",
              "      <td>96.576923</td>\n",
              "      <td>...</td>\n",
              "      <td>95.019231</td>\n",
              "      <td>4.4</td>\n",
              "      <td>3.8</td>\n",
              "      <td>5.1</td>\n",
              "      <td>140.192308</td>\n",
              "      <td>37.384615</td>\n",
              "      <td>73.211538</td>\n",
              "      <td>49.846154</td>\n",
              "      <td>1.557692</td>\n",
              "      <td>191.596154</td>\n",
              "    </tr>\n",
              "    <tr>\n",
              "      <th>7</th>\n",
              "      <td>Cleveland Guardians</td>\n",
              "      <td>104.0</td>\n",
              "      <td>162.0</td>\n",
              "      <td>38.942308</td>\n",
              "      <td>57.634615</td>\n",
              "      <td>65.423077</td>\n",
              "      <td>7.788462</td>\n",
              "      <td>14.019231</td>\n",
              "      <td>84.115385</td>\n",
              "      <td>77.884615</td>\n",
              "      <td>...</td>\n",
              "      <td>116.826923</td>\n",
              "      <td>4.5</td>\n",
              "      <td>4.3</td>\n",
              "      <td>5.5</td>\n",
              "      <td>137.076923</td>\n",
              "      <td>32.711538</td>\n",
              "      <td>115.269231</td>\n",
              "      <td>14.019231</td>\n",
              "      <td>0.000000</td>\n",
              "      <td>169.788462</td>\n",
              "    </tr>\n",
              "    <tr>\n",
              "      <th>8</th>\n",
              "      <td>Colorado Rockies</td>\n",
              "      <td>107.0</td>\n",
              "      <td>162.0</td>\n",
              "      <td>42.392523</td>\n",
              "      <td>63.588785</td>\n",
              "      <td>56.018692</td>\n",
              "      <td>6.056075</td>\n",
              "      <td>9.084112</td>\n",
              "      <td>69.644860</td>\n",
              "      <td>92.355140</td>\n",
              "      <td>...</td>\n",
              "      <td>101.439252</td>\n",
              "      <td>4.5</td>\n",
              "      <td>4.0</td>\n",
              "      <td>5.3</td>\n",
              "      <td>133.233645</td>\n",
              "      <td>30.280374</td>\n",
              "      <td>107.495327</td>\n",
              "      <td>24.224299</td>\n",
              "      <td>0.000000</td>\n",
              "      <td>162.000000</td>\n",
              "    </tr>\n",
              "    <tr>\n",
              "      <th>9</th>\n",
              "      <td>Detroit Tigers</td>\n",
              "      <td>106.0</td>\n",
              "      <td>162.0</td>\n",
              "      <td>29.037736</td>\n",
              "      <td>68.773585</td>\n",
              "      <td>64.188679</td>\n",
              "      <td>10.698113</td>\n",
              "      <td>4.584906</td>\n",
              "      <td>64.188679</td>\n",
              "      <td>97.811321</td>\n",
              "      <td>...</td>\n",
              "      <td>90.169811</td>\n",
              "      <td>3.3</td>\n",
              "      <td>2.8</td>\n",
              "      <td>4.8</td>\n",
              "      <td>122.264151</td>\n",
              "      <td>65.716981</td>\n",
              "      <td>85.584906</td>\n",
              "      <td>10.698113</td>\n",
              "      <td>0.000000</td>\n",
              "      <td>165.056604</td>\n",
              "    </tr>\n",
              "    <tr>\n",
              "      <th>10</th>\n",
              "      <td>Houston Astros</td>\n",
              "      <td>106.0</td>\n",
              "      <td>162.0</td>\n",
              "      <td>77.943396</td>\n",
              "      <td>42.792453</td>\n",
              "      <td>41.264151</td>\n",
              "      <td>22.924528</td>\n",
              "      <td>13.754717</td>\n",
              "      <td>103.924528</td>\n",
              "      <td>58.075472</td>\n",
              "      <td>...</td>\n",
              "      <td>134.490566</td>\n",
              "      <td>4.6</td>\n",
              "      <td>4.7</td>\n",
              "      <td>5.8</td>\n",
              "      <td>139.075472</td>\n",
              "      <td>18.339623</td>\n",
              "      <td>106.981132</td>\n",
              "      <td>36.679245</td>\n",
              "      <td>0.000000</td>\n",
              "      <td>175.754717</td>\n",
              "    </tr>\n",
              "    <tr>\n",
              "      <th>11</th>\n",
              "      <td>Kansas City Royals</td>\n",
              "      <td>105.0</td>\n",
              "      <td>162.0</td>\n",
              "      <td>30.857143</td>\n",
              "      <td>69.428571</td>\n",
              "      <td>61.714286</td>\n",
              "      <td>12.342857</td>\n",
              "      <td>7.714286</td>\n",
              "      <td>63.257143</td>\n",
              "      <td>98.742857</td>\n",
              "      <td>...</td>\n",
              "      <td>95.657143</td>\n",
              "      <td>3.9</td>\n",
              "      <td>3.6</td>\n",
              "      <td>5.1</td>\n",
              "      <td>132.685714</td>\n",
              "      <td>29.314286</td>\n",
              "      <td>121.885714</td>\n",
              "      <td>10.800000</td>\n",
              "      <td>0.000000</td>\n",
              "      <td>162.000000</td>\n",
              "    </tr>\n",
              "    <tr>\n",
              "      <th>12</th>\n",
              "      <td>Los Angeles Angels</td>\n",
              "      <td>104.0</td>\n",
              "      <td>162.0</td>\n",
              "      <td>48.288462</td>\n",
              "      <td>60.750000</td>\n",
              "      <td>52.961538</td>\n",
              "      <td>15.576923</td>\n",
              "      <td>9.346154</td>\n",
              "      <td>68.538462</td>\n",
              "      <td>93.461538</td>\n",
              "      <td>...</td>\n",
              "      <td>158.884615</td>\n",
              "      <td>3.9</td>\n",
              "      <td>3.6</td>\n",
              "      <td>5.1</td>\n",
              "      <td>130.846154</td>\n",
              "      <td>52.961538</td>\n",
              "      <td>87.230769</td>\n",
              "      <td>21.807692</td>\n",
              "      <td>0.000000</td>\n",
              "      <td>168.230769</td>\n",
              "    </tr>\n",
              "    <tr>\n",
              "      <th>13</th>\n",
              "      <td>Los Angeles Dodgers</td>\n",
              "      <td>104.0</td>\n",
              "      <td>162.0</td>\n",
              "      <td>76.326923</td>\n",
              "      <td>24.923077</td>\n",
              "      <td>60.750000</td>\n",
              "      <td>24.923077</td>\n",
              "      <td>4.673077</td>\n",
              "      <td>110.596154</td>\n",
              "      <td>51.403846</td>\n",
              "      <td>...</td>\n",
              "      <td>115.269231</td>\n",
              "      <td>5.4</td>\n",
              "      <td>5.2</td>\n",
              "      <td>5.4</td>\n",
              "      <td>130.846154</td>\n",
              "      <td>46.730769</td>\n",
              "      <td>107.480769</td>\n",
              "      <td>6.230769</td>\n",
              "      <td>1.557692</td>\n",
              "      <td>191.596154</td>\n",
              "    </tr>\n",
              "    <tr>\n",
              "      <th>14</th>\n",
              "      <td>Miami Marlins</td>\n",
              "      <td>105.0</td>\n",
              "      <td>162.0</td>\n",
              "      <td>46.285714</td>\n",
              "      <td>63.257143</td>\n",
              "      <td>52.457143</td>\n",
              "      <td>13.885714</td>\n",
              "      <td>3.085714</td>\n",
              "      <td>74.057143</td>\n",
              "      <td>87.942857</td>\n",
              "      <td>...</td>\n",
              "      <td>91.028571</td>\n",
              "      <td>4.0</td>\n",
              "      <td>3.4</td>\n",
              "      <td>5.4</td>\n",
              "      <td>135.771429</td>\n",
              "      <td>38.571429</td>\n",
              "      <td>87.942857</td>\n",
              "      <td>35.485714</td>\n",
              "      <td>0.000000</td>\n",
              "      <td>180.514286</td>\n",
              "    </tr>\n",
              "    <tr>\n",
              "      <th>15</th>\n",
              "      <td>Milwaukee Brewers</td>\n",
              "      <td>104.0</td>\n",
              "      <td>162.0</td>\n",
              "      <td>54.519231</td>\n",
              "      <td>46.730769</td>\n",
              "      <td>60.750000</td>\n",
              "      <td>20.250000</td>\n",
              "      <td>6.230769</td>\n",
              "      <td>88.788462</td>\n",
              "      <td>73.211538</td>\n",
              "      <td>...</td>\n",
              "      <td>115.269231</td>\n",
              "      <td>4.7</td>\n",
              "      <td>4.4</td>\n",
              "      <td>5.3</td>\n",
              "      <td>141.750000</td>\n",
              "      <td>29.596154</td>\n",
              "      <td>85.673077</td>\n",
              "      <td>46.730769</td>\n",
              "      <td>0.000000</td>\n",
              "      <td>179.134615</td>\n",
              "    </tr>\n",
              "    <tr>\n",
              "      <th>16</th>\n",
              "      <td>Minnesota Twins</td>\n",
              "      <td>104.0</td>\n",
              "      <td>162.0</td>\n",
              "      <td>49.846154</td>\n",
              "      <td>43.615385</td>\n",
              "      <td>68.538462</td>\n",
              "      <td>24.923077</td>\n",
              "      <td>4.673077</td>\n",
              "      <td>85.673077</td>\n",
              "      <td>76.326923</td>\n",
              "      <td>...</td>\n",
              "      <td>109.038462</td>\n",
              "      <td>4.6</td>\n",
              "      <td>4.6</td>\n",
              "      <td>4.8</td>\n",
              "      <td>121.500000</td>\n",
              "      <td>90.346154</td>\n",
              "      <td>62.307692</td>\n",
              "      <td>9.346154</td>\n",
              "      <td>0.000000</td>\n",
              "      <td>166.673077</td>\n",
              "    </tr>\n",
              "    <tr>\n",
              "      <th>17</th>\n",
              "      <td>New York Mets</td>\n",
              "      <td>104.0</td>\n",
              "      <td>162.0</td>\n",
              "      <td>70.096154</td>\n",
              "      <td>37.384615</td>\n",
              "      <td>54.519231</td>\n",
              "      <td>24.923077</td>\n",
              "      <td>10.903846</td>\n",
              "      <td>102.807692</td>\n",
              "      <td>59.192308</td>\n",
              "      <td>...</td>\n",
              "      <td>88.788462</td>\n",
              "      <td>4.8</td>\n",
              "      <td>4.7</td>\n",
              "      <td>5.5</td>\n",
              "      <td>137.076923</td>\n",
              "      <td>37.384615</td>\n",
              "      <td>93.461538</td>\n",
              "      <td>31.153846</td>\n",
              "      <td>0.000000</td>\n",
              "      <td>171.346154</td>\n",
              "    </tr>\n",
              "    <tr>\n",
              "      <th>18</th>\n",
              "      <td>New York Yankees</td>\n",
              "      <td>106.0</td>\n",
              "      <td>162.0</td>\n",
              "      <td>59.603774</td>\n",
              "      <td>24.452830</td>\n",
              "      <td>77.943396</td>\n",
              "      <td>24.452830</td>\n",
              "      <td>7.641509</td>\n",
              "      <td>106.981132</td>\n",
              "      <td>55.018868</td>\n",
              "      <td>...</td>\n",
              "      <td>102.396226</td>\n",
              "      <td>5.5</td>\n",
              "      <td>4.9</td>\n",
              "      <td>5.5</td>\n",
              "      <td>134.490566</td>\n",
              "      <td>39.735849</td>\n",
              "      <td>91.698113</td>\n",
              "      <td>30.566038</td>\n",
              "      <td>0.000000</td>\n",
              "      <td>174.226415</td>\n",
              "    </tr>\n",
              "    <tr>\n",
              "      <th>19</th>\n",
              "      <td>Oakland Athletics</td>\n",
              "      <td>106.0</td>\n",
              "      <td>162.0</td>\n",
              "      <td>39.735849</td>\n",
              "      <td>74.886792</td>\n",
              "      <td>47.377358</td>\n",
              "      <td>22.924528</td>\n",
              "      <td>18.339623</td>\n",
              "      <td>61.132075</td>\n",
              "      <td>100.867925</td>\n",
              "      <td>...</td>\n",
              "      <td>87.113208</td>\n",
              "      <td>3.4</td>\n",
              "      <td>3.0</td>\n",
              "      <td>5.3</td>\n",
              "      <td>128.377358</td>\n",
              "      <td>47.377358</td>\n",
              "      <td>99.339623</td>\n",
              "      <td>15.283019</td>\n",
              "      <td>0.000000</td>\n",
              "      <td>160.471698</td>\n",
              "    </tr>\n",
              "    <tr>\n",
              "      <th>20</th>\n",
              "      <td>Philadelphia Phillies</td>\n",
              "      <td>104.0</td>\n",
              "      <td>162.0</td>\n",
              "      <td>52.961538</td>\n",
              "      <td>48.288462</td>\n",
              "      <td>60.750000</td>\n",
              "      <td>14.019231</td>\n",
              "      <td>7.788462</td>\n",
              "      <td>87.230769</td>\n",
              "      <td>74.769231</td>\n",
              "      <td>...</td>\n",
              "      <td>95.019231</td>\n",
              "      <td>4.7</td>\n",
              "      <td>4.3</td>\n",
              "      <td>5.5</td>\n",
              "      <td>135.519231</td>\n",
              "      <td>38.942308</td>\n",
              "      <td>87.230769</td>\n",
              "      <td>35.826923</td>\n",
              "      <td>0.000000</td>\n",
              "      <td>171.346154</td>\n",
              "    </tr>\n",
              "    <tr>\n",
              "      <th>21</th>\n",
              "      <td>Pittsburgh Pirates</td>\n",
              "      <td>104.0</td>\n",
              "      <td>162.0</td>\n",
              "      <td>18.692308</td>\n",
              "      <td>59.192308</td>\n",
              "      <td>84.115385</td>\n",
              "      <td>7.788462</td>\n",
              "      <td>7.788462</td>\n",
              "      <td>65.423077</td>\n",
              "      <td>96.576923</td>\n",
              "      <td>...</td>\n",
              "      <td>93.461538</td>\n",
              "      <td>3.7</td>\n",
              "      <td>3.2</td>\n",
              "      <td>4.8</td>\n",
              "      <td>124.615385</td>\n",
              "      <td>59.192308</td>\n",
              "      <td>93.461538</td>\n",
              "      <td>9.346154</td>\n",
              "      <td>0.000000</td>\n",
              "      <td>165.115385</td>\n",
              "    </tr>\n",
              "    <tr>\n",
              "      <th>22</th>\n",
              "      <td>San Diego Padres</td>\n",
              "      <td>107.0</td>\n",
              "      <td>162.0</td>\n",
              "      <td>56.018692</td>\n",
              "      <td>42.392523</td>\n",
              "      <td>63.588785</td>\n",
              "      <td>7.570093</td>\n",
              "      <td>10.598131</td>\n",
              "      <td>92.355140</td>\n",
              "      <td>69.644860</td>\n",
              "      <td>...</td>\n",
              "      <td>136.261682</td>\n",
              "      <td>4.5</td>\n",
              "      <td>4.1</td>\n",
              "      <td>5.7</td>\n",
              "      <td>140.803738</td>\n",
              "      <td>19.682243</td>\n",
              "      <td>95.383178</td>\n",
              "      <td>46.934579</td>\n",
              "      <td>0.000000</td>\n",
              "      <td>172.598131</td>\n",
              "    </tr>\n",
              "    <tr>\n",
              "      <th>23</th>\n",
              "      <td>Seattle Mariners</td>\n",
              "      <td>106.0</td>\n",
              "      <td>162.0</td>\n",
              "      <td>53.490566</td>\n",
              "      <td>56.547170</td>\n",
              "      <td>51.962264</td>\n",
              "      <td>18.339623</td>\n",
              "      <td>21.396226</td>\n",
              "      <td>87.113208</td>\n",
              "      <td>74.886792</td>\n",
              "      <td>...</td>\n",
              "      <td>81.000000</td>\n",
              "      <td>4.1</td>\n",
              "      <td>4.2</td>\n",
              "      <td>5.5</td>\n",
              "      <td>137.547170</td>\n",
              "      <td>21.396226</td>\n",
              "      <td>100.867925</td>\n",
              "      <td>39.735849</td>\n",
              "      <td>0.000000</td>\n",
              "      <td>168.113208</td>\n",
              "    </tr>\n",
              "    <tr>\n",
              "      <th>24</th>\n",
              "      <td>San Francisco Giants</td>\n",
              "      <td>105.0</td>\n",
              "      <td>162.0</td>\n",
              "      <td>47.828571</td>\n",
              "      <td>49.371429</td>\n",
              "      <td>64.800000</td>\n",
              "      <td>15.428571</td>\n",
              "      <td>9.257143</td>\n",
              "      <td>78.685714</td>\n",
              "      <td>83.314286</td>\n",
              "      <td>...</td>\n",
              "      <td>77.142857</td>\n",
              "      <td>4.6</td>\n",
              "      <td>4.5</td>\n",
              "      <td>5.1</td>\n",
              "      <td>126.514286</td>\n",
              "      <td>46.285714</td>\n",
              "      <td>91.028571</td>\n",
              "      <td>24.685714</td>\n",
              "      <td>0.000000</td>\n",
              "      <td>172.800000</td>\n",
              "    </tr>\n",
              "    <tr>\n",
              "      <th>25</th>\n",
              "      <td>St. Louis Cardinals</td>\n",
              "      <td>103.0</td>\n",
              "      <td>162.0</td>\n",
              "      <td>50.330097</td>\n",
              "      <td>56.621359</td>\n",
              "      <td>55.048544</td>\n",
              "      <td>22.019417</td>\n",
              "      <td>15.728155</td>\n",
              "      <td>86.504854</td>\n",
              "      <td>75.495146</td>\n",
              "      <td>...</td>\n",
              "      <td>73.922330</td>\n",
              "      <td>4.7</td>\n",
              "      <td>4.6</td>\n",
              "      <td>5.3</td>\n",
              "      <td>136.834951</td>\n",
              "      <td>42.466019</td>\n",
              "      <td>84.932039</td>\n",
              "      <td>33.029126</td>\n",
              "      <td>1.572816</td>\n",
              "      <td>202.893204</td>\n",
              "    </tr>\n",
              "    <tr>\n",
              "      <th>26</th>\n",
              "      <td>Tampa Bay Rays</td>\n",
              "      <td>104.0</td>\n",
              "      <td>162.0</td>\n",
              "      <td>40.500000</td>\n",
              "      <td>40.500000</td>\n",
              "      <td>81.000000</td>\n",
              "      <td>17.134615</td>\n",
              "      <td>10.903846</td>\n",
              "      <td>85.673077</td>\n",
              "      <td>76.326923</td>\n",
              "      <td>...</td>\n",
              "      <td>90.346154</td>\n",
              "      <td>4.1</td>\n",
              "      <td>3.9</td>\n",
              "      <td>4.6</td>\n",
              "      <td>113.711538</td>\n",
              "      <td>73.211538</td>\n",
              "      <td>85.673077</td>\n",
              "      <td>3.115385</td>\n",
              "      <td>0.000000</td>\n",
              "      <td>158.884615</td>\n",
              "    </tr>\n",
              "    <tr>\n",
              "      <th>27</th>\n",
              "      <td>Texas Rangers</td>\n",
              "      <td>104.0</td>\n",
              "      <td>162.0</td>\n",
              "      <td>42.057692</td>\n",
              "      <td>46.730769</td>\n",
              "      <td>73.211538</td>\n",
              "      <td>18.692308</td>\n",
              "      <td>6.230769</td>\n",
              "      <td>71.653846</td>\n",
              "      <td>90.346154</td>\n",
              "      <td>...</td>\n",
              "      <td>65.423077</td>\n",
              "      <td>4.5</td>\n",
              "      <td>4.2</td>\n",
              "      <td>4.9</td>\n",
              "      <td>124.615385</td>\n",
              "      <td>54.519231</td>\n",
              "      <td>90.346154</td>\n",
              "      <td>17.134615</td>\n",
              "      <td>0.000000</td>\n",
              "      <td>168.230769</td>\n",
              "    </tr>\n",
              "    <tr>\n",
              "      <th>28</th>\n",
              "      <td>Toronto Blue Jays</td>\n",
              "      <td>104.0</td>\n",
              "      <td>162.0</td>\n",
              "      <td>57.634615</td>\n",
              "      <td>42.057692</td>\n",
              "      <td>62.307692</td>\n",
              "      <td>10.903846</td>\n",
              "      <td>7.788462</td>\n",
              "      <td>90.346154</td>\n",
              "      <td>71.653846</td>\n",
              "      <td>...</td>\n",
              "      <td>90.346154</td>\n",
              "      <td>4.9</td>\n",
              "      <td>4.8</td>\n",
              "      <td>5.2</td>\n",
              "      <td>127.730769</td>\n",
              "      <td>52.961538</td>\n",
              "      <td>90.346154</td>\n",
              "      <td>18.692308</td>\n",
              "      <td>0.000000</td>\n",
              "      <td>171.346154</td>\n",
              "    </tr>\n",
              "    <tr>\n",
              "      <th>29</th>\n",
              "      <td>Washington Nationals</td>\n",
              "      <td>106.0</td>\n",
              "      <td>162.0</td>\n",
              "      <td>35.150943</td>\n",
              "      <td>88.641509</td>\n",
              "      <td>38.207547</td>\n",
              "      <td>16.811321</td>\n",
              "      <td>3.056604</td>\n",
              "      <td>55.018868</td>\n",
              "      <td>106.981132</td>\n",
              "      <td>...</td>\n",
              "      <td>88.641509</td>\n",
              "      <td>3.9</td>\n",
              "      <td>3.7</td>\n",
              "      <td>4.9</td>\n",
              "      <td>131.433962</td>\n",
              "      <td>38.207547</td>\n",
              "      <td>103.924528</td>\n",
              "      <td>19.867925</td>\n",
              "      <td>0.000000</td>\n",
              "      <td>178.811321</td>\n",
              "    </tr>\n",
              "  </tbody>\n",
              "</table>\n",
              "<p>30 rows × 33 columns</p>\n",
              "</div>\n",
              "      <button class=\"colab-df-convert\" onclick=\"convertToInteractive('df-727b5ba4-4c7c-4057-85f1-f8ed0f5aee24')\"\n",
              "              title=\"Convert this dataframe to an interactive table.\"\n",
              "              style=\"display:none;\">\n",
              "        \n",
              "  <svg xmlns=\"http://www.w3.org/2000/svg\" height=\"24px\"viewBox=\"0 0 24 24\"\n",
              "       width=\"24px\">\n",
              "    <path d=\"M0 0h24v24H0V0z\" fill=\"none\"/>\n",
              "    <path d=\"M18.56 5.44l.94 2.06.94-2.06 2.06-.94-2.06-.94-.94-2.06-.94 2.06-2.06.94zm-11 1L8.5 8.5l.94-2.06 2.06-.94-2.06-.94L8.5 2.5l-.94 2.06-2.06.94zm10 10l.94 2.06.94-2.06 2.06-.94-2.06-.94-.94-2.06-.94 2.06-2.06.94z\"/><path d=\"M17.41 7.96l-1.37-1.37c-.4-.4-.92-.59-1.43-.59-.52 0-1.04.2-1.43.59L10.3 9.45l-7.72 7.72c-.78.78-.78 2.05 0 2.83L4 21.41c.39.39.9.59 1.41.59.51 0 1.02-.2 1.41-.59l7.78-7.78 2.81-2.81c.8-.78.8-2.07 0-2.86zM5.41 20L4 18.59l7.72-7.72 1.47 1.35L5.41 20z\"/>\n",
              "  </svg>\n",
              "      </button>\n",
              "      \n",
              "  <style>\n",
              "    .colab-df-container {\n",
              "      display:flex;\n",
              "      flex-wrap:wrap;\n",
              "      gap: 12px;\n",
              "    }\n",
              "\n",
              "    .colab-df-convert {\n",
              "      background-color: #E8F0FE;\n",
              "      border: none;\n",
              "      border-radius: 50%;\n",
              "      cursor: pointer;\n",
              "      display: none;\n",
              "      fill: #1967D2;\n",
              "      height: 32px;\n",
              "      padding: 0 0 0 0;\n",
              "      width: 32px;\n",
              "    }\n",
              "\n",
              "    .colab-df-convert:hover {\n",
              "      background-color: #E2EBFA;\n",
              "      box-shadow: 0px 1px 2px rgba(60, 64, 67, 0.3), 0px 1px 3px 1px rgba(60, 64, 67, 0.15);\n",
              "      fill: #174EA6;\n",
              "    }\n",
              "\n",
              "    [theme=dark] .colab-df-convert {\n",
              "      background-color: #3B4455;\n",
              "      fill: #D2E3FC;\n",
              "    }\n",
              "\n",
              "    [theme=dark] .colab-df-convert:hover {\n",
              "      background-color: #434B5C;\n",
              "      box-shadow: 0px 1px 3px 1px rgba(0, 0, 0, 0.15);\n",
              "      filter: drop-shadow(0px 1px 2px rgba(0, 0, 0, 0.3));\n",
              "      fill: #FFFFFF;\n",
              "    }\n",
              "  </style>\n",
              "\n",
              "      <script>\n",
              "        const buttonEl =\n",
              "          document.querySelector('#df-727b5ba4-4c7c-4057-85f1-f8ed0f5aee24 button.colab-df-convert');\n",
              "        buttonEl.style.display =\n",
              "          google.colab.kernel.accessAllowed ? 'block' : 'none';\n",
              "\n",
              "        async function convertToInteractive(key) {\n",
              "          const element = document.querySelector('#df-727b5ba4-4c7c-4057-85f1-f8ed0f5aee24');\n",
              "          const dataTable =\n",
              "            await google.colab.kernel.invokeFunction('convertToInteractive',\n",
              "                                                     [key], {});\n",
              "          if (!dataTable) return;\n",
              "\n",
              "          const docLinkHtml = 'Like what you see? Visit the ' +\n",
              "            '<a target=\"_blank\" href=https://colab.research.google.com/notebooks/data_table.ipynb>data table notebook</a>'\n",
              "            + ' to learn more about interactive tables.';\n",
              "          element.innerHTML = '';\n",
              "          dataTable['output_type'] = 'display_data';\n",
              "          await google.colab.output.renderOutput(dataTable, element);\n",
              "          const docLink = document.createElement('div');\n",
              "          docLink.innerHTML = docLinkHtml;\n",
              "          element.appendChild(docLink);\n",
              "        }\n",
              "      </script>\n",
              "    </div>\n",
              "  </div>\n",
              "  "
            ]
          },
          "metadata": {},
          "execution_count": 18
        }
      ]
    },
    {
      "cell_type": "code",
      "source": [
        "# create dataframe for ML \n",
        "ml_starting2022 = starting2022.drop([\"Tm\", \"G\"], axis = 1)"
      ],
      "metadata": {
        "id": "SInvfJCJ5d2W"
      },
      "execution_count": 19,
      "outputs": []
    },
    {
      "cell_type": "code",
      "source": [
        "print(ml_starting.shape)\n",
        "print(ml_starting2022.shape )"
      ],
      "metadata": {
        "colab": {
          "base_uri": "https://localhost:8080/"
        },
        "id": "pO_5jhE-5nvN",
        "outputId": "01259062-9f3e-41d4-c5a4-156343429e40"
      },
      "execution_count": 20,
      "outputs": [
        {
          "output_type": "stream",
          "name": "stdout",
          "text": [
            "(630, 32)\n",
            "(30, 31)\n"
          ]
        }
      ]
    },
    {
      "cell_type": "code",
      "source": [
        "# use 2022 dataset to predict which MLB teams will make playoffs\n",
        "logreg_predictions2022 = logreg_model.predict(ml_starting2022)"
      ],
      "metadata": {
        "id": "RG9L42d_6Z-Z"
      },
      "execution_count": 21,
      "outputs": []
    },
    {
      "cell_type": "code",
      "source": [
        "# create dataframe of predictions produced by logistic regression\n",
        "logreg_playoff_predictions2022 = pd.DataFrame({'2022 Teams': starting2022.Tm, 'Playoff Prediction': logreg_predictions2022})"
      ],
      "metadata": {
        "id": "r5mCS6ra6hvz"
      },
      "execution_count": 22,
      "outputs": []
    },
    {
      "cell_type": "code",
      "source": [
        "logreg_playoff_teams2022 = logreg_playoff_predictions2022.loc[logreg_playoff_predictions2022['Playoff Prediction'] == 1, '2022 Teams']\n",
        "len(logreg_playoff_teams2022)"
      ],
      "metadata": {
        "colab": {
          "base_uri": "https://localhost:8080/"
        },
        "id": "dtYJKkcv6_Zl",
        "outputId": "424b769c-6fd2-428c-ae78-831d60a97676"
      },
      "execution_count": 23,
      "outputs": [
        {
          "output_type": "execute_result",
          "data": {
            "text/plain": [
              "1"
            ]
          },
          "metadata": {},
          "execution_count": 23
        }
      ]
    },
    {
      "cell_type": "code",
      "source": [
        "logreg_model = LogisticRegression(max_iter = 10000)\n",
        "playoff_teams = Counter()\n",
        "logreg_accuracy = []\n",
        "\n",
        "for rep in range(50):\n",
        "  xtrain, xtest, ytrain, ytest = train_test_split(x,y)\n",
        "  logreg_model.fit(xtrain, ytrain)\n",
        "\n",
        "  predictions = logreg_model.predict(xtest)\n",
        "  logreg_accuracy.append(metrics.accuracy_score(predictions, ytest))\n",
        "\n",
        "  predictions2022 = logreg_model.predict(ml_starting2022)\n",
        "  predictions_table = pd.DataFrame({'2022 Teams':starting2022.Tm, 'Playoff Prediction':predictions2022})\n",
        "  playoff_teams2022 = predictions_table.loc[predictions_table['Playoff Prediction'] == 1, '2022 Teams']\n",
        "  playoff_teams.update(list(playoff_teams2022))"
      ],
      "metadata": {
        "id": "5ya99l6k8e3W"
      },
      "execution_count": 24,
      "outputs": []
    },
    {
      "cell_type": "code",
      "source": [
        "logreg_result = pd.Series([appearance / 50 for appearance in playoff_teams.values()], index = playoff_teams.keys()).sort_values(ascending = False)\n",
        "logreg_result                        "
      ],
      "metadata": {
        "colab": {
          "base_uri": "https://localhost:8080/"
        },
        "id": "XGjBPuhg-gN4",
        "outputId": "264d383e-9980-4465-a26c-fdf078769471"
      },
      "execution_count": 25,
      "outputs": [
        {
          "output_type": "execute_result",
          "data": {
            "text/plain": [
              "Los Angeles Dodgers      0.98\n",
              "Houston Astros           0.92\n",
              "New York Yankees         0.92\n",
              "New York Mets            0.84\n",
              "Atlanta Braves           0.72\n",
              "San Diego Padres         0.68\n",
              "Toronto Blue Jays        0.56\n",
              "Seattle Mariners         0.54\n",
              "Philadelphia Phillies    0.54\n",
              "Milwaukee Brewers        0.52\n",
              "St. Louis Cardinals      0.46\n",
              "Tampa Bay Rays           0.46\n",
              "Minnesota Twins          0.46\n",
              "Baltimore Orioles        0.44\n",
              "Cleveland Guardians      0.42\n",
              "Chicago White Sox        0.36\n",
              "Boston Red Sox           0.24\n",
              "Miami Marlins            0.18\n",
              "San Francisco Giants     0.18\n",
              "Arizona Diamondbacks     0.10\n",
              "Los Angeles Angels       0.08\n",
              "Texas Rangers            0.08\n",
              "Colorado Rockies         0.04\n",
              "Detroit Tigers           0.04\n",
              "Pittsburgh Pirates       0.04\n",
              "Chicago Cubs             0.02\n",
              "Cincinnati Reds          0.02\n",
              "Kansas City Royals       0.02\n",
              "dtype: float64"
            ]
          },
          "metadata": {},
          "execution_count": 25
        }
      ]
    },
    {
      "cell_type": "code",
      "source": [
        "logreg_accuracy = pd.Series(logreg_accuracy)\n",
        "logreg_accuracy.describe()"
      ],
      "metadata": {
        "colab": {
          "base_uri": "https://localhost:8080/"
        },
        "id": "EMQDIk9AlhkQ",
        "outputId": "58442294-e6d0-49e3-fab5-7c85f9d3888a"
      },
      "execution_count": 26,
      "outputs": [
        {
          "output_type": "execute_result",
          "data": {
            "text/plain": [
              "count    50.000000\n",
              "mean      0.911899\n",
              "std       0.017290\n",
              "min       0.873418\n",
              "25%       0.898734\n",
              "50%       0.911392\n",
              "75%       0.924051\n",
              "max       0.949367\n",
              "dtype: float64"
            ]
          },
          "metadata": {},
          "execution_count": 26
        }
      ]
    },
    {
      "cell_type": "markdown",
      "source": [
        "### So What is this Logistic Regression Model doing?\n",
        "- The Logreg model creates a function that contains coefficients, or predicted weights, to predict an outcome given a set of data. In this case, the logreg model takes in data from previous MLB seasons to gather metrics such as QS% and Pit/GS and uses these quantities as coefficients in its generated function to predict which team is most likely to make playoffs. "
      ],
      "metadata": {
        "id": "qB4fy-KE_ePp"
      }
    },
    {
      "cell_type": "markdown",
      "source": [
        "## **Decision Tree**"
      ],
      "metadata": {
        "id": "_X4jGcsACPsa"
      }
    },
    {
      "cell_type": "code",
      "source": [
        "# create test and train datasets\n",
        "x2 = ml_starting.drop('Playoff', axis = 1)\n",
        "y2 = ml_starting.Playoff\n",
        "xtrain2, xtest2, ytrain2, ytest2 = train_test_split(x2, y2)"
      ],
      "metadata": {
        "id": "9wkPuCrtCKfq"
      },
      "execution_count": 31,
      "outputs": []
    },
    {
      "cell_type": "code",
      "source": [
        "dt_model = tree.DecisionTreeClassifier()\n",
        "dt_model = dt_model.fit(xtrain2,ytrain2)"
      ],
      "metadata": {
        "id": "C9Ov8Lm_DMM1"
      },
      "execution_count": 32,
      "outputs": []
    },
    {
      "cell_type": "code",
      "source": [
        "dt_predicted = dt_model.predict(xtest2)\n",
        "dt_actual = ytest2"
      ],
      "metadata": {
        "id": "wsXtHtVlDhlB"
      },
      "execution_count": 33,
      "outputs": []
    },
    {
      "cell_type": "code",
      "source": [
        "print(metrics.accuracy_score(dt_predicted, dt_actual))"
      ],
      "metadata": {
        "colab": {
          "base_uri": "https://localhost:8080/"
        },
        "id": "9kxSgnlLEXWL",
        "outputId": "c877ff61-e35a-4dbc-9377-820162bf0910"
      },
      "execution_count": 34,
      "outputs": [
        {
          "output_type": "stream",
          "name": "stdout",
          "text": [
            "0.8924050632911392\n"
          ]
        }
      ]
    },
    {
      "cell_type": "code",
      "source": [
        "# use 2022 dataset and Decision Tree Model to predict which MLB teams will make playoffs\n",
        "dt_predictions2022 = dt_model.predict(ml_starting2022)"
      ],
      "metadata": {
        "id": "C1F2E7P0ElwK"
      },
      "execution_count": 35,
      "outputs": []
    },
    {
      "cell_type": "code",
      "source": [
        "dt_playoff_predictions2022 = pd.DataFrame({'2022 Teams': starting2022.Tm, 'Playoff Prediction': dt_predictions2022})\n",
        "dt_playoff_teams2022 = dt_playoff_predictions2022.loc[dt_playoff_predictions2022['Playoff Prediction'] == 1, '2022 Teams']"
      ],
      "metadata": {
        "id": "zNYa14irExVi"
      },
      "execution_count": 36,
      "outputs": []
    },
    {
      "cell_type": "code",
      "source": [
        "dt_playoff_teams = Counter()\n",
        "dt_model = tree.DecisionTreeClassifier()\n",
        "dt_accuracy = []\n",
        "\n",
        "for rep in range(1000):\n",
        "  xtrain2, xtest2, ytrain2, ytest2 = train_test_split(x2,y2)\n",
        "  dt_model.fit(xtrain2, ytrain2)\n",
        "\n",
        "  dt_predictions = dt_model.predict(xtest2)\n",
        "  dt_accuracy.append(metrics.accuracy_score(dt_predictions, ytest2))\n",
        "\n",
        "  dt_predictions2022 = dt_model.predict(ml_starting2022)\n",
        "  dt_predictions_table = pd.DataFrame({'2022 Teams':starting2022.Tm, 'Playoff Prediction':dt_predictions2022})\n",
        "  dt_playoff_teams2022 = dt_predictions_table.loc[dt_predictions_table['Playoff Prediction'] == 1, '2022 Teams']\n",
        "  dt_playoff_teams.update(list(dt_playoff_teams2022))"
      ],
      "metadata": {
        "id": "9IBt9vgeE45b"
      },
      "execution_count": 37,
      "outputs": []
    },
    {
      "cell_type": "code",
      "source": [
        "dt_prediction_df= pd.DataFrame({'Team':dt_playoff_teams.keys(), '# of Predicted Appearances In Playoffs':dt_playoff_teams.values()}).sort_values(by = '# of Predicted Appearances In Playoffs', ascending = False)\n",
        "dt_prediction_df"
      ],
      "metadata": {
        "colab": {
          "base_uri": "https://localhost:8080/",
          "height": 833
        },
        "id": "SxIw-UopFdAg",
        "outputId": "929886c4-a469-4ed9-af8f-8228e479a411"
      },
      "execution_count": 38,
      "outputs": [
        {
          "output_type": "execute_result",
          "data": {
            "text/plain": [
              "                     Team  # of Predicted Appearances In Playoffs\n",
              "6        New York Yankees                                     996\n",
              "3     Los Angeles Dodgers                                     994\n",
              "2          Houston Astros                                     992\n",
              "5           New York Mets                                     951\n",
              "0          Atlanta Braves                                     881\n",
              "7        San Diego Padres                                     880\n",
              "4       Milwaukee Brewers                                     593\n",
              "9       Toronto Blue Jays                                     536\n",
              "8        Seattle Mariners                                     512\n",
              "13  Philadelphia Phillies                                     384\n",
              "14    St. Louis Cardinals                                     341\n",
              "18        Minnesota Twins                                     201\n",
              "1       Chicago White Sox                                     200\n",
              "12         Tampa Bay Rays                                     184\n",
              "11      Baltimore Orioles                                     146\n",
              "10    Cleveland Guardians                                      96\n",
              "15   Arizona Diamondbacks                                      15\n",
              "16   San Francisco Giants                                       9\n",
              "17          Texas Rangers                                       9\n",
              "21   Washington Nationals                                       7\n",
              "19           Chicago Cubs                                       6\n",
              "22          Miami Marlins                                       4\n",
              "23         Detroit Tigers                                       4\n",
              "20     Los Angeles Angels                                       3\n",
              "24         Boston Red Sox                                       2"
            ],
            "text/html": [
              "\n",
              "  <div id=\"df-a5694c4a-8db7-490c-b410-d65a7a34f2de\">\n",
              "    <div class=\"colab-df-container\">\n",
              "      <div>\n",
              "<style scoped>\n",
              "    .dataframe tbody tr th:only-of-type {\n",
              "        vertical-align: middle;\n",
              "    }\n",
              "\n",
              "    .dataframe tbody tr th {\n",
              "        vertical-align: top;\n",
              "    }\n",
              "\n",
              "    .dataframe thead th {\n",
              "        text-align: right;\n",
              "    }\n",
              "</style>\n",
              "<table border=\"1\" class=\"dataframe\">\n",
              "  <thead>\n",
              "    <tr style=\"text-align: right;\">\n",
              "      <th></th>\n",
              "      <th>Team</th>\n",
              "      <th># of Predicted Appearances In Playoffs</th>\n",
              "    </tr>\n",
              "  </thead>\n",
              "  <tbody>\n",
              "    <tr>\n",
              "      <th>6</th>\n",
              "      <td>New York Yankees</td>\n",
              "      <td>996</td>\n",
              "    </tr>\n",
              "    <tr>\n",
              "      <th>3</th>\n",
              "      <td>Los Angeles Dodgers</td>\n",
              "      <td>994</td>\n",
              "    </tr>\n",
              "    <tr>\n",
              "      <th>2</th>\n",
              "      <td>Houston Astros</td>\n",
              "      <td>992</td>\n",
              "    </tr>\n",
              "    <tr>\n",
              "      <th>5</th>\n",
              "      <td>New York Mets</td>\n",
              "      <td>951</td>\n",
              "    </tr>\n",
              "    <tr>\n",
              "      <th>0</th>\n",
              "      <td>Atlanta Braves</td>\n",
              "      <td>881</td>\n",
              "    </tr>\n",
              "    <tr>\n",
              "      <th>7</th>\n",
              "      <td>San Diego Padres</td>\n",
              "      <td>880</td>\n",
              "    </tr>\n",
              "    <tr>\n",
              "      <th>4</th>\n",
              "      <td>Milwaukee Brewers</td>\n",
              "      <td>593</td>\n",
              "    </tr>\n",
              "    <tr>\n",
              "      <th>9</th>\n",
              "      <td>Toronto Blue Jays</td>\n",
              "      <td>536</td>\n",
              "    </tr>\n",
              "    <tr>\n",
              "      <th>8</th>\n",
              "      <td>Seattle Mariners</td>\n",
              "      <td>512</td>\n",
              "    </tr>\n",
              "    <tr>\n",
              "      <th>13</th>\n",
              "      <td>Philadelphia Phillies</td>\n",
              "      <td>384</td>\n",
              "    </tr>\n",
              "    <tr>\n",
              "      <th>14</th>\n",
              "      <td>St. Louis Cardinals</td>\n",
              "      <td>341</td>\n",
              "    </tr>\n",
              "    <tr>\n",
              "      <th>18</th>\n",
              "      <td>Minnesota Twins</td>\n",
              "      <td>201</td>\n",
              "    </tr>\n",
              "    <tr>\n",
              "      <th>1</th>\n",
              "      <td>Chicago White Sox</td>\n",
              "      <td>200</td>\n",
              "    </tr>\n",
              "    <tr>\n",
              "      <th>12</th>\n",
              "      <td>Tampa Bay Rays</td>\n",
              "      <td>184</td>\n",
              "    </tr>\n",
              "    <tr>\n",
              "      <th>11</th>\n",
              "      <td>Baltimore Orioles</td>\n",
              "      <td>146</td>\n",
              "    </tr>\n",
              "    <tr>\n",
              "      <th>10</th>\n",
              "      <td>Cleveland Guardians</td>\n",
              "      <td>96</td>\n",
              "    </tr>\n",
              "    <tr>\n",
              "      <th>15</th>\n",
              "      <td>Arizona Diamondbacks</td>\n",
              "      <td>15</td>\n",
              "    </tr>\n",
              "    <tr>\n",
              "      <th>16</th>\n",
              "      <td>San Francisco Giants</td>\n",
              "      <td>9</td>\n",
              "    </tr>\n",
              "    <tr>\n",
              "      <th>17</th>\n",
              "      <td>Texas Rangers</td>\n",
              "      <td>9</td>\n",
              "    </tr>\n",
              "    <tr>\n",
              "      <th>21</th>\n",
              "      <td>Washington Nationals</td>\n",
              "      <td>7</td>\n",
              "    </tr>\n",
              "    <tr>\n",
              "      <th>19</th>\n",
              "      <td>Chicago Cubs</td>\n",
              "      <td>6</td>\n",
              "    </tr>\n",
              "    <tr>\n",
              "      <th>22</th>\n",
              "      <td>Miami Marlins</td>\n",
              "      <td>4</td>\n",
              "    </tr>\n",
              "    <tr>\n",
              "      <th>23</th>\n",
              "      <td>Detroit Tigers</td>\n",
              "      <td>4</td>\n",
              "    </tr>\n",
              "    <tr>\n",
              "      <th>20</th>\n",
              "      <td>Los Angeles Angels</td>\n",
              "      <td>3</td>\n",
              "    </tr>\n",
              "    <tr>\n",
              "      <th>24</th>\n",
              "      <td>Boston Red Sox</td>\n",
              "      <td>2</td>\n",
              "    </tr>\n",
              "  </tbody>\n",
              "</table>\n",
              "</div>\n",
              "      <button class=\"colab-df-convert\" onclick=\"convertToInteractive('df-a5694c4a-8db7-490c-b410-d65a7a34f2de')\"\n",
              "              title=\"Convert this dataframe to an interactive table.\"\n",
              "              style=\"display:none;\">\n",
              "        \n",
              "  <svg xmlns=\"http://www.w3.org/2000/svg\" height=\"24px\"viewBox=\"0 0 24 24\"\n",
              "       width=\"24px\">\n",
              "    <path d=\"M0 0h24v24H0V0z\" fill=\"none\"/>\n",
              "    <path d=\"M18.56 5.44l.94 2.06.94-2.06 2.06-.94-2.06-.94-.94-2.06-.94 2.06-2.06.94zm-11 1L8.5 8.5l.94-2.06 2.06-.94-2.06-.94L8.5 2.5l-.94 2.06-2.06.94zm10 10l.94 2.06.94-2.06 2.06-.94-2.06-.94-.94-2.06-.94 2.06-2.06.94z\"/><path d=\"M17.41 7.96l-1.37-1.37c-.4-.4-.92-.59-1.43-.59-.52 0-1.04.2-1.43.59L10.3 9.45l-7.72 7.72c-.78.78-.78 2.05 0 2.83L4 21.41c.39.39.9.59 1.41.59.51 0 1.02-.2 1.41-.59l7.78-7.78 2.81-2.81c.8-.78.8-2.07 0-2.86zM5.41 20L4 18.59l7.72-7.72 1.47 1.35L5.41 20z\"/>\n",
              "  </svg>\n",
              "      </button>\n",
              "      \n",
              "  <style>\n",
              "    .colab-df-container {\n",
              "      display:flex;\n",
              "      flex-wrap:wrap;\n",
              "      gap: 12px;\n",
              "    }\n",
              "\n",
              "    .colab-df-convert {\n",
              "      background-color: #E8F0FE;\n",
              "      border: none;\n",
              "      border-radius: 50%;\n",
              "      cursor: pointer;\n",
              "      display: none;\n",
              "      fill: #1967D2;\n",
              "      height: 32px;\n",
              "      padding: 0 0 0 0;\n",
              "      width: 32px;\n",
              "    }\n",
              "\n",
              "    .colab-df-convert:hover {\n",
              "      background-color: #E2EBFA;\n",
              "      box-shadow: 0px 1px 2px rgba(60, 64, 67, 0.3), 0px 1px 3px 1px rgba(60, 64, 67, 0.15);\n",
              "      fill: #174EA6;\n",
              "    }\n",
              "\n",
              "    [theme=dark] .colab-df-convert {\n",
              "      background-color: #3B4455;\n",
              "      fill: #D2E3FC;\n",
              "    }\n",
              "\n",
              "    [theme=dark] .colab-df-convert:hover {\n",
              "      background-color: #434B5C;\n",
              "      box-shadow: 0px 1px 3px 1px rgba(0, 0, 0, 0.15);\n",
              "      filter: drop-shadow(0px 1px 2px rgba(0, 0, 0, 0.3));\n",
              "      fill: #FFFFFF;\n",
              "    }\n",
              "  </style>\n",
              "\n",
              "      <script>\n",
              "        const buttonEl =\n",
              "          document.querySelector('#df-a5694c4a-8db7-490c-b410-d65a7a34f2de button.colab-df-convert');\n",
              "        buttonEl.style.display =\n",
              "          google.colab.kernel.accessAllowed ? 'block' : 'none';\n",
              "\n",
              "        async function convertToInteractive(key) {\n",
              "          const element = document.querySelector('#df-a5694c4a-8db7-490c-b410-d65a7a34f2de');\n",
              "          const dataTable =\n",
              "            await google.colab.kernel.invokeFunction('convertToInteractive',\n",
              "                                                     [key], {});\n",
              "          if (!dataTable) return;\n",
              "\n",
              "          const docLinkHtml = 'Like what you see? Visit the ' +\n",
              "            '<a target=\"_blank\" href=https://colab.research.google.com/notebooks/data_table.ipynb>data table notebook</a>'\n",
              "            + ' to learn more about interactive tables.';\n",
              "          element.innerHTML = '';\n",
              "          dataTable['output_type'] = 'display_data';\n",
              "          await google.colab.output.renderOutput(dataTable, element);\n",
              "          const docLink = document.createElement('div');\n",
              "          docLink.innerHTML = docLinkHtml;\n",
              "          element.appendChild(docLink);\n",
              "        }\n",
              "      </script>\n",
              "    </div>\n",
              "  </div>\n",
              "  "
            ]
          },
          "metadata": {},
          "execution_count": 38
        }
      ]
    },
    {
      "cell_type": "code",
      "source": [
        "dt_accuracy = pd.Series(dt_accuracy)\n",
        "dt_accuracy.describe()"
      ],
      "metadata": {
        "colab": {
          "base_uri": "https://localhost:8080/"
        },
        "id": "0pLWJCuDmJyV",
        "outputId": "d3285f5e-6286-43a2-cd7b-58c8163b8ebb"
      },
      "execution_count": 39,
      "outputs": [
        {
          "output_type": "execute_result",
          "data": {
            "text/plain": [
              "count    1000.000000\n",
              "mean        0.884177\n",
              "std         0.023095\n",
              "min         0.810127\n",
              "25%         0.867089\n",
              "50%         0.886076\n",
              "75%         0.898734\n",
              "max         0.962025\n",
              "dtype: float64"
            ]
          },
          "metadata": {},
          "execution_count": 39
        }
      ]
    },
    {
      "cell_type": "code",
      "source": [
        "dt_result = pd.Series([appearance / 1000 for appearance in dt_playoff_teams.values()], index = dt_playoff_teams.keys()).sort_values(ascending = False)\n",
        "dt_result    "
      ],
      "metadata": {
        "colab": {
          "base_uri": "https://localhost:8080/"
        },
        "id": "d2wp6ON8Co6g",
        "outputId": "b768d18b-a946-40b3-cf67-2071cc90db29"
      },
      "execution_count": 40,
      "outputs": [
        {
          "output_type": "execute_result",
          "data": {
            "text/plain": [
              "New York Yankees         0.996\n",
              "Los Angeles Dodgers      0.994\n",
              "Houston Astros           0.992\n",
              "New York Mets            0.951\n",
              "Atlanta Braves           0.881\n",
              "San Diego Padres         0.880\n",
              "Milwaukee Brewers        0.593\n",
              "Toronto Blue Jays        0.536\n",
              "Seattle Mariners         0.512\n",
              "Philadelphia Phillies    0.384\n",
              "St. Louis Cardinals      0.341\n",
              "Minnesota Twins          0.201\n",
              "Chicago White Sox        0.200\n",
              "Tampa Bay Rays           0.184\n",
              "Baltimore Orioles        0.146\n",
              "Cleveland Guardians      0.096\n",
              "Arizona Diamondbacks     0.015\n",
              "San Francisco Giants     0.009\n",
              "Texas Rangers            0.009\n",
              "Washington Nationals     0.007\n",
              "Chicago Cubs             0.006\n",
              "Miami Marlins            0.004\n",
              "Detroit Tigers           0.004\n",
              "Los Angeles Angels       0.003\n",
              "Boston Red Sox           0.002\n",
              "dtype: float64"
            ]
          },
          "metadata": {},
          "execution_count": 40
        }
      ]
    },
    {
      "cell_type": "markdown",
      "source": [
        "### So What is the Decision Tree Model doing?\n",
        "A decision tree model simply put is a piecewise constant approximation method. The model does this by learning from the data that its given to approximate a sin curve by creating its own if-else decisions. In this case, the decision tree model takes in the metrics of the MLB data given, and formulates its own decision rules for each data feature and finally predicts the value of a target variable by doing so."
      ],
      "metadata": {
        "id": "mBXLHpvQF11C"
      }
    },
    {
      "cell_type": "markdown",
      "source": [
        "## **K Nearest Neighbors**"
      ],
      "metadata": {
        "id": "NzM_sCjAoRW0"
      }
    },
    {
      "cell_type": "code",
      "source": [
        "# prepare and split data \n",
        "x3 = ml_starting.drop('Playoff', axis = 1)\n",
        "y3 = ml_starting.Playoff"
      ],
      "metadata": {
        "id": "PSgAynGuoQ1-"
      },
      "execution_count": 45,
      "outputs": []
    },
    {
      "cell_type": "code",
      "source": [
        "knn_model = KNeighborsClassifier(n_neighbors=2)\n",
        "knn_model.fit(x3, y3)"
      ],
      "metadata": {
        "colab": {
          "base_uri": "https://localhost:8080/"
        },
        "id": "NDtzKnVo2C-5",
        "outputId": "0f613e76-ae1b-4054-ae8c-7915beadcd3e"
      },
      "execution_count": 46,
      "outputs": [
        {
          "output_type": "execute_result",
          "data": {
            "text/plain": [
              "KNeighborsClassifier(n_neighbors=2)"
            ]
          },
          "metadata": {},
          "execution_count": 46
        }
      ]
    },
    {
      "cell_type": "code",
      "source": [
        "# code from DSU curriculum\n",
        "mean_fold_errors = []\n",
        "\n",
        "for num_neighbors in range(1, 20):\n",
        "    np.random.seed(0)   # to ensure we use the same random folds\n",
        "    knn = KNeighborsClassifier(n_neighbors=num_neighbors)\n",
        "    fold_errors = 1 - cross_val_score(knn, x3, y3, cv = 5)   # 5-fold CV\n",
        "    mean_fold_errors.append(np.mean(fold_errors))\n",
        "\n",
        "    print(\"Num neighbors =\", num_neighbors)\n",
        "    print(\"K-fold CV errors:\", np.round(fold_errors, 3))\n",
        "    print(\"K-fold CV mean error:\", np.round(mean_fold_errors[-1], 3))\n",
        "    print(\"–\"*50)"
      ],
      "metadata": {
        "colab": {
          "base_uri": "https://localhost:8080/"
        },
        "id": "B7o3uPu53Gka",
        "outputId": "5720285f-277c-4685-e71a-1108b1bbb049"
      },
      "execution_count": 47,
      "outputs": [
        {
          "output_type": "stream",
          "name": "stdout",
          "text": [
            "Num neighbors = 1\n",
            "K-fold CV errors: [0.167 0.183 0.151 0.214 0.143]\n",
            "K-fold CV mean error: 0.171\n",
            "––––––––––––––––––––––––––––––––––––––––––––––––––\n",
            "Num neighbors = 2\n",
            "K-fold CV errors: [0.183 0.19  0.214 0.19  0.206]\n",
            "K-fold CV mean error: 0.197\n",
            "––––––––––––––––––––––––––––––––––––––––––––––––––\n",
            "Num neighbors = 3\n",
            "K-fold CV errors: [0.127 0.159 0.167 0.111 0.19 ]\n",
            "K-fold CV mean error: 0.151\n",
            "––––––––––––––––––––––––––––––––––––––––––––––––––\n",
            "Num neighbors = 4\n",
            "K-fold CV errors: [0.167 0.159 0.167 0.103 0.183]\n",
            "K-fold CV mean error: 0.156\n",
            "––––––––––––––––––––––––––––––––––––––––––––––––––\n",
            "Num neighbors = 5\n",
            "K-fold CV errors: [0.135 0.159 0.19  0.095 0.167]\n",
            "K-fold CV mean error: 0.149\n",
            "––––––––––––––––––––––––––––––––––––––––––––––––––\n",
            "Num neighbors = 6\n",
            "K-fold CV errors: [0.159 0.159 0.143 0.127 0.167]\n",
            "K-fold CV mean error: 0.151\n",
            "––––––––––––––––––––––––––––––––––––––––––––––––––\n",
            "Num neighbors = 7\n",
            "K-fold CV errors: [0.135 0.143 0.151 0.087 0.127]\n",
            "K-fold CV mean error: 0.129\n",
            "––––––––––––––––––––––––––––––––––––––––––––––––––\n",
            "Num neighbors = 8\n",
            "K-fold CV errors: [0.135 0.135 0.143 0.119 0.159]\n",
            "K-fold CV mean error: 0.138\n",
            "––––––––––––––––––––––––––––––––––––––––––––––––––\n",
            "Num neighbors = 9\n",
            "K-fold CV errors: [0.135 0.119 0.135 0.095 0.135]\n",
            "K-fold CV mean error: 0.124\n",
            "––––––––––––––––––––––––––––––––––––––––––––––––––\n",
            "Num neighbors = 10\n",
            "K-fold CV errors: [0.159 0.135 0.127 0.111 0.159]\n",
            "K-fold CV mean error: 0.138\n",
            "––––––––––––––––––––––––––––––––––––––––––––––––––\n",
            "Num neighbors = 11\n",
            "K-fold CV errors: [0.143 0.167 0.127 0.111 0.135]\n",
            "K-fold CV mean error: 0.137\n",
            "––––––––––––––––––––––––––––––––––––––––––––––––––\n",
            "Num neighbors = 12\n",
            "K-fold CV errors: [0.127 0.167 0.111 0.135 0.143]\n",
            "K-fold CV mean error: 0.137\n",
            "––––––––––––––––––––––––––––––––––––––––––––––––––\n",
            "Num neighbors = 13\n",
            "K-fold CV errors: [0.143 0.175 0.087 0.119 0.135]\n",
            "K-fold CV mean error: 0.132\n",
            "––––––––––––––––––––––––––––––––––––––––––––––––––\n",
            "Num neighbors = 14\n",
            "K-fold CV errors: [0.159 0.183 0.103 0.135 0.159]\n",
            "K-fold CV mean error: 0.148\n",
            "––––––––––––––––––––––––––––––––––––––––––––––––––\n",
            "Num neighbors = 15\n",
            "K-fold CV errors: [0.127 0.159 0.095 0.127 0.135]\n",
            "K-fold CV mean error: 0.129\n",
            "––––––––––––––––––––––––––––––––––––––––––––––––––\n",
            "Num neighbors = 16\n",
            "K-fold CV errors: [0.159 0.167 0.095 0.151 0.143]\n",
            "K-fold CV mean error: 0.143\n",
            "––––––––––––––––––––––––––––––––––––––––––––––––––\n",
            "Num neighbors = 17\n",
            "K-fold CV errors: [0.151 0.151 0.103 0.135 0.135]\n",
            "K-fold CV mean error: 0.135\n",
            "––––––––––––––––––––––––––––––––––––––––––––––––––\n",
            "Num neighbors = 18\n",
            "K-fold CV errors: [0.159 0.151 0.103 0.167 0.151]\n",
            "K-fold CV mean error: 0.146\n",
            "––––––––––––––––––––––––––––––––––––––––––––––––––\n",
            "Num neighbors = 19\n",
            "K-fold CV errors: [0.143 0.143 0.119 0.151 0.119]\n",
            "K-fold CV mean error: 0.135\n",
            "––––––––––––––––––––––––––––––––––––––––––––––––––\n"
          ]
        }
      ]
    },
    {
      "cell_type": "code",
      "source": [
        "# choose optimal k-neighbors and build final model\n",
        "import warnings\n",
        "\n",
        "final_knn = KNeighborsClassifier(n_neighbors=9)\n",
        "knn_accuracy = [] \n",
        "knn_playoff_teams = Counter()\n",
        "\n",
        "with warnings.catch_warnings():\n",
        "    warnings.simplefilter('ignore')\n",
        "    for rep in range(1200):\n",
        "      xtrain3, xtest3, ytrain3, ytest3 = train_test_split(x3, y3, test_size=0.2)\n",
        "      final_knn.fit(xtrain3, ytrain3)\n",
        "\n",
        "      knn_predictions = final_knn.predict(xtest3)\n",
        "      knn_accuracy.append(metrics.accuracy_score(knn_predictions, ytest3))\n",
        "\n",
        "      knn_predictions2022 = final_knn.predict(ml_starting2022)\n",
        "      knn_predictions_table = pd.DataFrame({'2022 Teams':starting2022.Tm, 'Playoff Prediction':knn_predictions2022})\n",
        "      knn_playoff_teams2022 = knn_predictions_table.loc[knn_predictions_table['Playoff Prediction'] == 1, '2022 Teams']\n",
        "      knn_playoff_teams.update(list(knn_playoff_teams2022))"
      ],
      "metadata": {
        "id": "RmBLqG2V3l4S"
      },
      "execution_count": 48,
      "outputs": []
    },
    {
      "cell_type": "code",
      "source": [
        "knn_accuracy = pd.Series(knn_accuracy)\n",
        "knn_accuracy.describe()"
      ],
      "metadata": {
        "colab": {
          "base_uri": "https://localhost:8080/"
        },
        "id": "C0y-A268olbO",
        "outputId": "72658b5a-afbb-4f1c-cd8d-7028f2ff7baa"
      },
      "execution_count": 49,
      "outputs": [
        {
          "output_type": "execute_result",
          "data": {
            "text/plain": [
              "count    1200.000000\n",
              "mean        0.877421\n",
              "std         0.027394\n",
              "min         0.777778\n",
              "25%         0.857143\n",
              "50%         0.880952\n",
              "75%         0.896825\n",
              "max         0.960317\n",
              "dtype: float64"
            ]
          },
          "metadata": {},
          "execution_count": 49
        }
      ]
    },
    {
      "cell_type": "code",
      "source": [
        "knn_result = pd.Series([appearance / 1200 for appearance in knn_playoff_teams.values()], index = knn_playoff_teams.keys()).sort_values(ascending = False)\n",
        "knn_result  "
      ],
      "metadata": {
        "colab": {
          "base_uri": "https://localhost:8080/"
        },
        "id": "pehiXviTTCI5",
        "outputId": "254a6965-d039-484c-bf28-c7cb8454a41b"
      },
      "execution_count": 61,
      "outputs": [
        {
          "output_type": "execute_result",
          "data": {
            "text/plain": [
              "Los Angeles Dodgers      1.000000\n",
              "Houston Astros           1.000000\n",
              "New York Yankees         1.000000\n",
              "Atlanta Braves           0.989167\n",
              "New York Mets            0.985000\n",
              "San Diego Padres         0.944167\n",
              "Toronto Blue Jays        0.910000\n",
              "Milwaukee Brewers        0.379167\n",
              "Philadelphia Phillies    0.301667\n",
              "Tampa Bay Rays           0.099167\n",
              "Boston Red Sox           0.076667\n",
              "Minnesota Twins          0.056667\n",
              "Seattle Mariners         0.025000\n",
              "Cleveland Guardians      0.018333\n",
              "Baltimore Orioles        0.010000\n",
              "Los Angeles Angels       0.008333\n",
              "Chicago White Sox        0.000833\n",
              "dtype: float64"
            ]
          },
          "metadata": {},
          "execution_count": 61
        }
      ]
    },
    {
      "cell_type": "code",
      "source": [
        "knn_playoff_teams"
      ],
      "metadata": {
        "colab": {
          "base_uri": "https://localhost:8080/"
        },
        "id": "ynO7AWV6Gfsu",
        "outputId": "34d84dfa-6735-476a-e55f-99535f6a9c5d"
      },
      "execution_count": 50,
      "outputs": [
        {
          "output_type": "execute_result",
          "data": {
            "text/plain": [
              "Counter({'Atlanta Braves': 1187,\n",
              "         'Houston Astros': 1200,\n",
              "         'Los Angeles Dodgers': 1200,\n",
              "         'Milwaukee Brewers': 455,\n",
              "         'New York Mets': 1182,\n",
              "         'New York Yankees': 1200,\n",
              "         'Philadelphia Phillies': 362,\n",
              "         'San Diego Padres': 1133,\n",
              "         'Toronto Blue Jays': 1092,\n",
              "         'Minnesota Twins': 68,\n",
              "         'Tampa Bay Rays': 119,\n",
              "         'Seattle Mariners': 30,\n",
              "         'Baltimore Orioles': 12,\n",
              "         'Cleveland Guardians': 22,\n",
              "         'Boston Red Sox': 92,\n",
              "         'Los Angeles Angels': 10,\n",
              "         'Chicago White Sox': 1})"
            ]
          },
          "metadata": {},
          "execution_count": 50
        }
      ]
    },
    {
      "cell_type": "code",
      "source": [
        "# visualization of model performance and accuracy\n",
        "from sklearn.metrics import plot_confusion_matrix\n",
        "import matplotlib.pyplot as plt\n",
        "\n",
        "print(f\"Accuracy: {final_knn.score(xtest3, ytest3)*100:.2f}%\")\n",
        "plot_confusion_matrix(final_knn, xtest3, ytest3, display_labels=[\"Playoffs\", \"No Playoffs\"])\n",
        "plt.figure(figsize=(10,8))\n",
        "plt.show()"
      ],
      "metadata": {
        "colab": {
          "base_uri": "https://localhost:8080/",
          "height": 368
        },
        "id": "Gs8bwgFw5Cvt",
        "outputId": "0eeda4ed-3ac4-43b9-e826-a1546068be92"
      },
      "execution_count": 51,
      "outputs": [
        {
          "output_type": "stream",
          "name": "stdout",
          "text": [
            "Accuracy: 81.75%\n"
          ]
        },
        {
          "output_type": "stream",
          "name": "stderr",
          "text": [
            "/usr/local/lib/python3.7/dist-packages/sklearn/utils/deprecation.py:87: FutureWarning: Function plot_confusion_matrix is deprecated; Function `plot_confusion_matrix` is deprecated in 1.0 and will be removed in 1.2. Use one of the class methods: ConfusionMatrixDisplay.from_predictions or ConfusionMatrixDisplay.from_estimator.\n",
            "  warnings.warn(msg, category=FutureWarning)\n"
          ]
        },
        {
          "output_type": "display_data",
          "data": {
            "text/plain": [
              "<Figure size 432x288 with 2 Axes>"
            ],
            "image/png": "[encoded data removed]"
          },
          "metadata": {
            "needs_background": "light"
          }
        },
        {
          "output_type": "display_data",
          "data": {
            "text/plain": [
              "<Figure size 720x576 with 0 Axes>"
            ]
          },
          "metadata": {}
        }
      ]
    },
    {
      "cell_type": "code",
      "source": [
        "knn_prediction2022 = final_knn.predict((ml_starting2022))\n",
        "knn_prediction_teams = starting2022.Tm[knn_prediction2022 == 1]"
      ],
      "metadata": {
        "id": "YT429twn7iQt"
      },
      "execution_count": 52,
      "outputs": []
    },
    {
      "cell_type": "code",
      "source": [
        "knn_prediction2022"
      ],
      "metadata": {
        "colab": {
          "base_uri": "https://localhost:8080/"
        },
        "id": "PQzVtLmg8aHQ",
        "outputId": "613a4964-dd20-430b-ff6f-f50375d503e6"
      },
      "execution_count": 53,
      "outputs": [
        {
          "output_type": "execute_result",
          "data": {
            "text/plain": [
              "array([0, 1, 0, 0, 0, 0, 0, 0, 0, 0, 1, 0, 0, 1, 0, 0, 0, 1, 1, 0, 0, 0,\n",
              "       1, 0, 0, 0, 0, 0, 1, 0])"
            ]
          },
          "metadata": {},
          "execution_count": 53
        }
      ]
    },
    {
      "cell_type": "markdown",
      "source": [
        "### So What is the KNN model doing?\n",
        "The KNN algorithm assings its own 'label' to a new datapoint that it is given based on the labels of *k* closest training data points. In this case, the algorithm is given a MLB data set, which causes the algorithm to create its own clusters based on how similar the datapoints are to each other. "
      ],
      "metadata": {
        "id": "17dKg38A6bxN"
      }
    },
    {
      "cell_type": "markdown",
      "source": [
        "# ML Model Accuracy Visualizations\n"
      ],
      "metadata": {
        "id": "c839VVlBm5RH"
      }
    },
    {
      "cell_type": "markdown",
      "source": [
        "## Logistic Regression"
      ],
      "metadata": {
        "id": "UTy7SWK9m_So"
      }
    },
    {
      "cell_type": "code",
      "source": [
        "# abbreviations for each MLB team\n",
        "MLB_abr_map = {'Arizona Diamondbacks':'ARI', 'Atlanta Braves':'ATL', 'Baltimore Orioles':'BAL',\n",
        "               'Boston Red Sox':'BOS', 'Chicago Cubs':'CHC', 'Chicago White Sox':'CHW',\n",
        "               'Cincinnati Reds':'CIN', 'Cleveland Guardians':'CLE', 'Colorado Rockies':'COL',\n",
        "               'Detroit Tigers':'DET', 'Miami Marlins':'MIA', 'Houston Astros':'HOU', \n",
        "               'Kansas City Royals':'KC', 'Los Angeles Angels':'LAA', 'Los Angeles Dodgers':'LAD',\n",
        "               'Milwaukee Brewers':'MIL', 'Minnesota Twins':'MIN', 'New York Mets':'NYM', \n",
        "               'New York Yankees':'NYY', 'Oakland Athletics':'OAK', 'Philadelphia Phillies':'PHI',\n",
        "               'Pittsburgh Pirates':'PIT', 'San Diego Padres':'SD', 'San Francisco Giants':'SF',\n",
        "               'Seattle Mariners':'SEA', 'St. Louis Cardinals':'STL', 'Tampa Bay Rays':'TB',\n",
        "               'Texas Rangers':'TEX', 'Toronto Blue Jays':'TOR', 'Washington Nationals':'WSH'}"
      ],
      "metadata": {
        "id": "EPGRoeqfnCfb"
      },
      "execution_count": 54,
      "outputs": []
    },
    {
      "cell_type": "code",
      "source": [
        "# visualization for logistic regression accuracy\n",
        "plt.style.use(\"seaborn-dark-palette\")\n",
        "plt.figure(figsize = (10,6))\n",
        "plt.hist(logreg_accuracy, density = True, color=\"lightblue\")\n",
        "logreg_accuracy.plot(kind = \"kde\", color = \"darkblue\")\n",
        "plt.xlabel(\"Accuracy Scores\")\n",
        "plt.title(\"Logistic Regression Model Accuracy Scores for 50 Iterations\")\n",
        "plt.show()"
      ],
      "metadata": {
        "colab": {
          "base_uri": "https://localhost:8080/",
          "height": 404
        },
        "id": "x9vB5Hx_qP8c",
        "outputId": "f7c1c061-eeaf-4d47-8dd2-dbb99bf1b9bd"
      },
      "execution_count": 55,
      "outputs": [
        {
          "output_type": "display_data",
          "data": {
            "text/plain": [
              "<Figure size 720x432 with 1 Axes>"
            ],
            "image/png": "[encoded data removed]"
          },
          "metadata": {
            "needs_background": "light"
          }
        }
      ]
    },
    {
      "cell_type": "code",
      "source": [
        "# visualization for logistic regression predictions\n",
        "plt.style.use(\"seaborn-dark-palette\")\n",
        "plt.figure(figsize=(14,8))\n",
        "plt.bar(range(len(logreg_result)),logreg_result, color = \"darkblue\")\n",
        "plt.xticks(range(len(logreg_result)), logreg_result.index.map(MLB_abr_map))\n",
        "plt.xlabel(\"MLB Team\")\n",
        "plt.ylabel(\"Proportion\")\n",
        "plt.title(\"Proportion of Playoff Appearances Predicted by Logisitic Regression (50 iterations)\")\n",
        "plt.show()"
      ],
      "metadata": {
        "colab": {
          "base_uri": "https://localhost:8080/",
          "height": 513
        },
        "id": "30meb7lHspL_",
        "outputId": "3e1d2fde-8ec5-483a-aa83-440e0de97f66"
      },
      "execution_count": 56,
      "outputs": [
        {
          "output_type": "display_data",
          "data": {
            "text/plain": [
              "<Figure size 1008x576 with 1 Axes>"
            ],
            "image/png": "[encoded data removed]"
          },
          "metadata": {
            "needs_background": "light"
          }
        }
      ]
    },
    {
      "cell_type": "markdown",
      "source": [
        "## Decision Tree"
      ],
      "metadata": {
        "id": "0jucj0ISCfCw"
      }
    },
    {
      "cell_type": "code",
      "source": [
        "# vizualization for decision tree model accuracy\n",
        "plt.style.use(\"seaborn-muted\")\n",
        "plt.figure(figsize = (10,6))\n",
        "plt.hist(dt_accuracy, density = True, color=\"lightcoral\")\n",
        "dt_accuracy.plot(kind = \"kde\", color = \"red\")\n",
        "plt.xlabel(\"Accuracy Scores\")\n",
        "plt.title(\"Decision Tree Model Accuracy Scores for 1000 Iterations\")\n",
        "plt.show()"
      ],
      "metadata": {
        "colab": {
          "base_uri": "https://localhost:8080/",
          "height": 404
        },
        "id": "XfIRpwSKCiju",
        "outputId": "c8a5fd99-d178-418a-a3dd-b51aa4ef4d0b"
      },
      "execution_count": 57,
      "outputs": [
        {
          "output_type": "display_data",
          "data": {
            "text/plain": [
              "<Figure size 720x432 with 1 Axes>"
            ],
            "image/png": "[encoded data removed]"
          },
          "metadata": {
            "needs_background": "light"
          }
        }
      ]
    },
    {
      "cell_type": "code",
      "source": [
        "# visualization for decision tree model predictions\n",
        "plt.style.use(\"seaborn-muted\")\n",
        "plt.figure(figsize=(14,8))\n",
        "plt.bar(range(len(dt_result)),dt_result, color = \"lightcoral\")\n",
        "plt.xticks(range(len(dt_result)), dt_result.index.map(MLB_abr_map))\n",
        "plt.xlabel(\"MLB Team\")\n",
        "plt.ylabel(\"Proportion\")\n",
        "plt.title(\"Proportion of Playoff Appearances Predicted by Decision Tree (1000 iterations)\")\n",
        "plt.show()"
      ],
      "metadata": {
        "colab": {
          "base_uri": "https://localhost:8080/",
          "height": 513
        },
        "id": "g_5_H0HeDPS9",
        "outputId": "28410c26-e78a-470c-89c7-7bee8f77c8af"
      },
      "execution_count": 58,
      "outputs": [
        {
          "output_type": "display_data",
          "data": {
            "text/plain": [
              "<Figure size 1008x576 with 1 Axes>"
            ],
            "image/png": "[encoded data removed]"
          },
          "metadata": {
            "needs_background": "light"
          }
        }
      ]
    },
    {
      "cell_type": "markdown",
      "source": [
        "## KNN"
      ],
      "metadata": {
        "id": "JnojxceQDsbW"
      }
    },
    {
      "cell_type": "code",
      "source": [
        "# visualization for KNN accuracy\n",
        "plt.style.use(\"seaborn-pastel\")\n",
        "plt.figure(figsize = (10,6))\n",
        "plt.hist(knn_accuracy, density = True, color= \"navajowhite\")\n",
        "knn_accuracy.plot(kind = \"kde\", color = \"orange\")\n",
        "plt.xlabel(\"Accuracy Scores\")\n",
        "plt.title(\"KNN Model Accuracy Scores for 1000 Iterations\")\n",
        "plt.show()"
      ],
      "metadata": {
        "colab": {
          "base_uri": "https://localhost:8080/",
          "height": 404
        },
        "id": "9BH9QNxdDud9",
        "outputId": "d193c446-4aa7-485d-e5e8-ae9a15d166ae"
      },
      "execution_count": 59,
      "outputs": [
        {
          "output_type": "display_data",
          "data": {
            "text/plain": [
              "<Figure size 720x432 with 1 Axes>"
            ],
            "image/png": "[encoded data removed]"
          },
          "metadata": {
            "needs_background": "light"
          }
        }
      ]
    },
    {
      "cell_type": "code",
      "source": [
        "# visualization for knn predictions\n",
        "plt.style.use(\"seaborn-pastel\")\n",
        "plt.figure(figsize=(14,8))\n",
        "plt.bar(range(len(knn_result)),knn_result, color = \"orange\")\n",
        "plt.xticks(range(len(knn_result)), knn_result.index.map(MLB_abr_map))\n",
        "plt.xlabel(\"MLB Team\")\n",
        "plt.ylabel(\"Proportion\")\n",
        "plt.title(\"Proportion of Playoff Appearances Predicted by KNN (1200 iterations)\")\n",
        "plt.show()"
      ],
      "metadata": {
        "id": "a_gOM2TcET9A",
        "colab": {
          "base_uri": "https://localhost:8080/",
          "height": 513
        },
        "outputId": "70b318fd-fca8-4bef-9fd2-258aef9175e9"
      },
      "execution_count": 62,
      "outputs": [
        {
          "output_type": "display_data",
          "data": {
            "text/plain": [
              "<Figure size 1008x576 with 1 Axes>"
            ],
            "image/png": "[encoded data removed]"
          },
          "metadata": {
            "needs_background": "light"
          }
        }
      ]
    }
  ]
}